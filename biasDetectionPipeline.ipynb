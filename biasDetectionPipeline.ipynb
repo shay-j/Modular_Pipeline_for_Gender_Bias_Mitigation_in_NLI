{
  "nbformat": 4,
  "nbformat_minor": 0,
  "metadata": {
    "colab": {
      "provenance": [],
      "gpuType": "L4"
    },
    "kernelspec": {
      "name": "python3",
      "display_name": "Python 3"
    },
    "language_info": {
      "name": "python"
    },
    "accelerator": "GPU",
    "widgets": {
      "application/vnd.jupyter.widget-state+json": {
        "d2282e4ec30e4354bd04253d62e40683": {
          "model_module": "@jupyter-widgets/controls",
          "model_name": "HBoxModel",
          "model_module_version": "1.5.0",
          "state": {
            "_dom_classes": [],
            "_model_module": "@jupyter-widgets/controls",
            "_model_module_version": "1.5.0",
            "_model_name": "HBoxModel",
            "_view_count": null,
            "_view_module": "@jupyter-widgets/controls",
            "_view_module_version": "1.5.0",
            "_view_name": "HBoxView",
            "box_style": "",
            "children": [
              "IPY_MODEL_86e9f5cda752488b92f90dea65e5cdf0",
              "IPY_MODEL_51d5b2ca19ae41caa923b094566e4f28",
              "IPY_MODEL_3cf617d3e02248e89ad4709da5d92557"
            ],
            "layout": "IPY_MODEL_42a533cac8a84bb29d193eab9c76eefc"
          }
        },
        "86e9f5cda752488b92f90dea65e5cdf0": {
          "model_module": "@jupyter-widgets/controls",
          "model_name": "HTMLModel",
          "model_module_version": "1.5.0",
          "state": {
            "_dom_classes": [],
            "_model_module": "@jupyter-widgets/controls",
            "_model_module_version": "1.5.0",
            "_model_name": "HTMLModel",
            "_view_count": null,
            "_view_module": "@jupyter-widgets/controls",
            "_view_module_version": "1.5.0",
            "_view_name": "HTMLView",
            "description": "",
            "description_tooltip": null,
            "layout": "IPY_MODEL_2b05d3a1333949868a683b98bb0754fc",
            "placeholder": "​",
            "style": "IPY_MODEL_989e756714324068b3c54c98e5a985b5",
            "value": "Map: 100%"
          }
        },
        "51d5b2ca19ae41caa923b094566e4f28": {
          "model_module": "@jupyter-widgets/controls",
          "model_name": "FloatProgressModel",
          "model_module_version": "1.5.0",
          "state": {
            "_dom_classes": [],
            "_model_module": "@jupyter-widgets/controls",
            "_model_module_version": "1.5.0",
            "_model_name": "FloatProgressModel",
            "_view_count": null,
            "_view_module": "@jupyter-widgets/controls",
            "_view_module_version": "1.5.0",
            "_view_name": "ProgressView",
            "bar_style": "success",
            "description": "",
            "description_tooltip": null,
            "layout": "IPY_MODEL_9afe6936bb134123b3f0fff952522dd6",
            "max": 2394,
            "min": 0,
            "orientation": "horizontal",
            "style": "IPY_MODEL_60269392fce34141ab4fddad21edb5d5",
            "value": 2394
          }
        },
        "3cf617d3e02248e89ad4709da5d92557": {
          "model_module": "@jupyter-widgets/controls",
          "model_name": "HTMLModel",
          "model_module_version": "1.5.0",
          "state": {
            "_dom_classes": [],
            "_model_module": "@jupyter-widgets/controls",
            "_model_module_version": "1.5.0",
            "_model_name": "HTMLModel",
            "_view_count": null,
            "_view_module": "@jupyter-widgets/controls",
            "_view_module_version": "1.5.0",
            "_view_name": "HTMLView",
            "description": "",
            "description_tooltip": null,
            "layout": "IPY_MODEL_0dddf9b82c7f49dab8a9885519fcdecc",
            "placeholder": "​",
            "style": "IPY_MODEL_53346b57def94619a84f510c7c7ba8e2",
            "value": " 2394/2394 [00:00&lt;00:00, 3722.56 examples/s]"
          }
        },
        "42a533cac8a84bb29d193eab9c76eefc": {
          "model_module": "@jupyter-widgets/base",
          "model_name": "LayoutModel",
          "model_module_version": "1.2.0",
          "state": {
            "_model_module": "@jupyter-widgets/base",
            "_model_module_version": "1.2.0",
            "_model_name": "LayoutModel",
            "_view_count": null,
            "_view_module": "@jupyter-widgets/base",
            "_view_module_version": "1.2.0",
            "_view_name": "LayoutView",
            "align_content": null,
            "align_items": null,
            "align_self": null,
            "border": null,
            "bottom": null,
            "display": null,
            "flex": null,
            "flex_flow": null,
            "grid_area": null,
            "grid_auto_columns": null,
            "grid_auto_flow": null,
            "grid_auto_rows": null,
            "grid_column": null,
            "grid_gap": null,
            "grid_row": null,
            "grid_template_areas": null,
            "grid_template_columns": null,
            "grid_template_rows": null,
            "height": null,
            "justify_content": null,
            "justify_items": null,
            "left": null,
            "margin": null,
            "max_height": null,
            "max_width": null,
            "min_height": null,
            "min_width": null,
            "object_fit": null,
            "object_position": null,
            "order": null,
            "overflow": null,
            "overflow_x": null,
            "overflow_y": null,
            "padding": null,
            "right": null,
            "top": null,
            "visibility": null,
            "width": null
          }
        },
        "2b05d3a1333949868a683b98bb0754fc": {
          "model_module": "@jupyter-widgets/base",
          "model_name": "LayoutModel",
          "model_module_version": "1.2.0",
          "state": {
            "_model_module": "@jupyter-widgets/base",
            "_model_module_version": "1.2.0",
            "_model_name": "LayoutModel",
            "_view_count": null,
            "_view_module": "@jupyter-widgets/base",
            "_view_module_version": "1.2.0",
            "_view_name": "LayoutView",
            "align_content": null,
            "align_items": null,
            "align_self": null,
            "border": null,
            "bottom": null,
            "display": null,
            "flex": null,
            "flex_flow": null,
            "grid_area": null,
            "grid_auto_columns": null,
            "grid_auto_flow": null,
            "grid_auto_rows": null,
            "grid_column": null,
            "grid_gap": null,
            "grid_row": null,
            "grid_template_areas": null,
            "grid_template_columns": null,
            "grid_template_rows": null,
            "height": null,
            "justify_content": null,
            "justify_items": null,
            "left": null,
            "margin": null,
            "max_height": null,
            "max_width": null,
            "min_height": null,
            "min_width": null,
            "object_fit": null,
            "object_position": null,
            "order": null,
            "overflow": null,
            "overflow_x": null,
            "overflow_y": null,
            "padding": null,
            "right": null,
            "top": null,
            "visibility": null,
            "width": null
          }
        },
        "989e756714324068b3c54c98e5a985b5": {
          "model_module": "@jupyter-widgets/controls",
          "model_name": "DescriptionStyleModel",
          "model_module_version": "1.5.0",
          "state": {
            "_model_module": "@jupyter-widgets/controls",
            "_model_module_version": "1.5.0",
            "_model_name": "DescriptionStyleModel",
            "_view_count": null,
            "_view_module": "@jupyter-widgets/base",
            "_view_module_version": "1.2.0",
            "_view_name": "StyleView",
            "description_width": ""
          }
        },
        "9afe6936bb134123b3f0fff952522dd6": {
          "model_module": "@jupyter-widgets/base",
          "model_name": "LayoutModel",
          "model_module_version": "1.2.0",
          "state": {
            "_model_module": "@jupyter-widgets/base",
            "_model_module_version": "1.2.0",
            "_model_name": "LayoutModel",
            "_view_count": null,
            "_view_module": "@jupyter-widgets/base",
            "_view_module_version": "1.2.0",
            "_view_name": "LayoutView",
            "align_content": null,
            "align_items": null,
            "align_self": null,
            "border": null,
            "bottom": null,
            "display": null,
            "flex": null,
            "flex_flow": null,
            "grid_area": null,
            "grid_auto_columns": null,
            "grid_auto_flow": null,
            "grid_auto_rows": null,
            "grid_column": null,
            "grid_gap": null,
            "grid_row": null,
            "grid_template_areas": null,
            "grid_template_columns": null,
            "grid_template_rows": null,
            "height": null,
            "justify_content": null,
            "justify_items": null,
            "left": null,
            "margin": null,
            "max_height": null,
            "max_width": null,
            "min_height": null,
            "min_width": null,
            "object_fit": null,
            "object_position": null,
            "order": null,
            "overflow": null,
            "overflow_x": null,
            "overflow_y": null,
            "padding": null,
            "right": null,
            "top": null,
            "visibility": null,
            "width": null
          }
        },
        "60269392fce34141ab4fddad21edb5d5": {
          "model_module": "@jupyter-widgets/controls",
          "model_name": "ProgressStyleModel",
          "model_module_version": "1.5.0",
          "state": {
            "_model_module": "@jupyter-widgets/controls",
            "_model_module_version": "1.5.0",
            "_model_name": "ProgressStyleModel",
            "_view_count": null,
            "_view_module": "@jupyter-widgets/base",
            "_view_module_version": "1.2.0",
            "_view_name": "StyleView",
            "bar_color": null,
            "description_width": ""
          }
        },
        "0dddf9b82c7f49dab8a9885519fcdecc": {
          "model_module": "@jupyter-widgets/base",
          "model_name": "LayoutModel",
          "model_module_version": "1.2.0",
          "state": {
            "_model_module": "@jupyter-widgets/base",
            "_model_module_version": "1.2.0",
            "_model_name": "LayoutModel",
            "_view_count": null,
            "_view_module": "@jupyter-widgets/base",
            "_view_module_version": "1.2.0",
            "_view_name": "LayoutView",
            "align_content": null,
            "align_items": null,
            "align_self": null,
            "border": null,
            "bottom": null,
            "display": null,
            "flex": null,
            "flex_flow": null,
            "grid_area": null,
            "grid_auto_columns": null,
            "grid_auto_flow": null,
            "grid_auto_rows": null,
            "grid_column": null,
            "grid_gap": null,
            "grid_row": null,
            "grid_template_areas": null,
            "grid_template_columns": null,
            "grid_template_rows": null,
            "height": null,
            "justify_content": null,
            "justify_items": null,
            "left": null,
            "margin": null,
            "max_height": null,
            "max_width": null,
            "min_height": null,
            "min_width": null,
            "object_fit": null,
            "object_position": null,
            "order": null,
            "overflow": null,
            "overflow_x": null,
            "overflow_y": null,
            "padding": null,
            "right": null,
            "top": null,
            "visibility": null,
            "width": null
          }
        },
        "53346b57def94619a84f510c7c7ba8e2": {
          "model_module": "@jupyter-widgets/controls",
          "model_name": "DescriptionStyleModel",
          "model_module_version": "1.5.0",
          "state": {
            "_model_module": "@jupyter-widgets/controls",
            "_model_module_version": "1.5.0",
            "_model_name": "DescriptionStyleModel",
            "_view_count": null,
            "_view_module": "@jupyter-widgets/base",
            "_view_module_version": "1.2.0",
            "_view_name": "StyleView",
            "description_width": ""
          }
        },
        "fb38fd4e51ac42b5a2ac059ca37b29e9": {
          "model_module": "@jupyter-widgets/controls",
          "model_name": "HBoxModel",
          "model_module_version": "1.5.0",
          "state": {
            "_dom_classes": [],
            "_model_module": "@jupyter-widgets/controls",
            "_model_module_version": "1.5.0",
            "_model_name": "HBoxModel",
            "_view_count": null,
            "_view_module": "@jupyter-widgets/controls",
            "_view_module_version": "1.5.0",
            "_view_name": "HBoxView",
            "box_style": "",
            "children": [
              "IPY_MODEL_97a2389e06a644cab22c5a8339d1f8df",
              "IPY_MODEL_8f112773afee46158ef291779ac16946",
              "IPY_MODEL_912e1f837f00479185f3fd821d57ac42"
            ],
            "layout": "IPY_MODEL_059caa1f7a1745998a61d6142f60a095"
          }
        },
        "97a2389e06a644cab22c5a8339d1f8df": {
          "model_module": "@jupyter-widgets/controls",
          "model_name": "HTMLModel",
          "model_module_version": "1.5.0",
          "state": {
            "_dom_classes": [],
            "_model_module": "@jupyter-widgets/controls",
            "_model_module_version": "1.5.0",
            "_model_name": "HTMLModel",
            "_view_count": null,
            "_view_module": "@jupyter-widgets/controls",
            "_view_module_version": "1.5.0",
            "_view_name": "HTMLView",
            "description": "",
            "description_tooltip": null,
            "layout": "IPY_MODEL_f4475b8cd6824de09095371015cd8427",
            "placeholder": "​",
            "style": "IPY_MODEL_06518f6c0f554375bbb1b34077ceeba8",
            "value": "Map: 100%"
          }
        },
        "8f112773afee46158ef291779ac16946": {
          "model_module": "@jupyter-widgets/controls",
          "model_name": "FloatProgressModel",
          "model_module_version": "1.5.0",
          "state": {
            "_dom_classes": [],
            "_model_module": "@jupyter-widgets/controls",
            "_model_module_version": "1.5.0",
            "_model_name": "FloatProgressModel",
            "_view_count": null,
            "_view_module": "@jupyter-widgets/controls",
            "_view_module_version": "1.5.0",
            "_view_name": "ProgressView",
            "bar_style": "success",
            "description": "",
            "description_tooltip": null,
            "layout": "IPY_MODEL_836d8d64ddf8489892d8a9bd02eefdd4",
            "max": 512,
            "min": 0,
            "orientation": "horizontal",
            "style": "IPY_MODEL_9b9227f78fdf4fbcadf04ea15a723f0e",
            "value": 512
          }
        },
        "912e1f837f00479185f3fd821d57ac42": {
          "model_module": "@jupyter-widgets/controls",
          "model_name": "HTMLModel",
          "model_module_version": "1.5.0",
          "state": {
            "_dom_classes": [],
            "_model_module": "@jupyter-widgets/controls",
            "_model_module_version": "1.5.0",
            "_model_name": "HTMLModel",
            "_view_count": null,
            "_view_module": "@jupyter-widgets/controls",
            "_view_module_version": "1.5.0",
            "_view_name": "HTMLView",
            "description": "",
            "description_tooltip": null,
            "layout": "IPY_MODEL_768963a50a9242e195f8614303a8335f",
            "placeholder": "​",
            "style": "IPY_MODEL_6d8c879c8469465fb5299f28c0af3415",
            "value": " 512/512 [00:00&lt;00:00, 3747.72 examples/s]"
          }
        },
        "059caa1f7a1745998a61d6142f60a095": {
          "model_module": "@jupyter-widgets/base",
          "model_name": "LayoutModel",
          "model_module_version": "1.2.0",
          "state": {
            "_model_module": "@jupyter-widgets/base",
            "_model_module_version": "1.2.0",
            "_model_name": "LayoutModel",
            "_view_count": null,
            "_view_module": "@jupyter-widgets/base",
            "_view_module_version": "1.2.0",
            "_view_name": "LayoutView",
            "align_content": null,
            "align_items": null,
            "align_self": null,
            "border": null,
            "bottom": null,
            "display": null,
            "flex": null,
            "flex_flow": null,
            "grid_area": null,
            "grid_auto_columns": null,
            "grid_auto_flow": null,
            "grid_auto_rows": null,
            "grid_column": null,
            "grid_gap": null,
            "grid_row": null,
            "grid_template_areas": null,
            "grid_template_columns": null,
            "grid_template_rows": null,
            "height": null,
            "justify_content": null,
            "justify_items": null,
            "left": null,
            "margin": null,
            "max_height": null,
            "max_width": null,
            "min_height": null,
            "min_width": null,
            "object_fit": null,
            "object_position": null,
            "order": null,
            "overflow": null,
            "overflow_x": null,
            "overflow_y": null,
            "padding": null,
            "right": null,
            "top": null,
            "visibility": null,
            "width": null
          }
        },
        "f4475b8cd6824de09095371015cd8427": {
          "model_module": "@jupyter-widgets/base",
          "model_name": "LayoutModel",
          "model_module_version": "1.2.0",
          "state": {
            "_model_module": "@jupyter-widgets/base",
            "_model_module_version": "1.2.0",
            "_model_name": "LayoutModel",
            "_view_count": null,
            "_view_module": "@jupyter-widgets/base",
            "_view_module_version": "1.2.0",
            "_view_name": "LayoutView",
            "align_content": null,
            "align_items": null,
            "align_self": null,
            "border": null,
            "bottom": null,
            "display": null,
            "flex": null,
            "flex_flow": null,
            "grid_area": null,
            "grid_auto_columns": null,
            "grid_auto_flow": null,
            "grid_auto_rows": null,
            "grid_column": null,
            "grid_gap": null,
            "grid_row": null,
            "grid_template_areas": null,
            "grid_template_columns": null,
            "grid_template_rows": null,
            "height": null,
            "justify_content": null,
            "justify_items": null,
            "left": null,
            "margin": null,
            "max_height": null,
            "max_width": null,
            "min_height": null,
            "min_width": null,
            "object_fit": null,
            "object_position": null,
            "order": null,
            "overflow": null,
            "overflow_x": null,
            "overflow_y": null,
            "padding": null,
            "right": null,
            "top": null,
            "visibility": null,
            "width": null
          }
        },
        "06518f6c0f554375bbb1b34077ceeba8": {
          "model_module": "@jupyter-widgets/controls",
          "model_name": "DescriptionStyleModel",
          "model_module_version": "1.5.0",
          "state": {
            "_model_module": "@jupyter-widgets/controls",
            "_model_module_version": "1.5.0",
            "_model_name": "DescriptionStyleModel",
            "_view_count": null,
            "_view_module": "@jupyter-widgets/base",
            "_view_module_version": "1.2.0",
            "_view_name": "StyleView",
            "description_width": ""
          }
        },
        "836d8d64ddf8489892d8a9bd02eefdd4": {
          "model_module": "@jupyter-widgets/base",
          "model_name": "LayoutModel",
          "model_module_version": "1.2.0",
          "state": {
            "_model_module": "@jupyter-widgets/base",
            "_model_module_version": "1.2.0",
            "_model_name": "LayoutModel",
            "_view_count": null,
            "_view_module": "@jupyter-widgets/base",
            "_view_module_version": "1.2.0",
            "_view_name": "LayoutView",
            "align_content": null,
            "align_items": null,
            "align_self": null,
            "border": null,
            "bottom": null,
            "display": null,
            "flex": null,
            "flex_flow": null,
            "grid_area": null,
            "grid_auto_columns": null,
            "grid_auto_flow": null,
            "grid_auto_rows": null,
            "grid_column": null,
            "grid_gap": null,
            "grid_row": null,
            "grid_template_areas": null,
            "grid_template_columns": null,
            "grid_template_rows": null,
            "height": null,
            "justify_content": null,
            "justify_items": null,
            "left": null,
            "margin": null,
            "max_height": null,
            "max_width": null,
            "min_height": null,
            "min_width": null,
            "object_fit": null,
            "object_position": null,
            "order": null,
            "overflow": null,
            "overflow_x": null,
            "overflow_y": null,
            "padding": null,
            "right": null,
            "top": null,
            "visibility": null,
            "width": null
          }
        },
        "9b9227f78fdf4fbcadf04ea15a723f0e": {
          "model_module": "@jupyter-widgets/controls",
          "model_name": "ProgressStyleModel",
          "model_module_version": "1.5.0",
          "state": {
            "_model_module": "@jupyter-widgets/controls",
            "_model_module_version": "1.5.0",
            "_model_name": "ProgressStyleModel",
            "_view_count": null,
            "_view_module": "@jupyter-widgets/base",
            "_view_module_version": "1.2.0",
            "_view_name": "StyleView",
            "bar_color": null,
            "description_width": ""
          }
        },
        "768963a50a9242e195f8614303a8335f": {
          "model_module": "@jupyter-widgets/base",
          "model_name": "LayoutModel",
          "model_module_version": "1.2.0",
          "state": {
            "_model_module": "@jupyter-widgets/base",
            "_model_module_version": "1.2.0",
            "_model_name": "LayoutModel",
            "_view_count": null,
            "_view_module": "@jupyter-widgets/base",
            "_view_module_version": "1.2.0",
            "_view_name": "LayoutView",
            "align_content": null,
            "align_items": null,
            "align_self": null,
            "border": null,
            "bottom": null,
            "display": null,
            "flex": null,
            "flex_flow": null,
            "grid_area": null,
            "grid_auto_columns": null,
            "grid_auto_flow": null,
            "grid_auto_rows": null,
            "grid_column": null,
            "grid_gap": null,
            "grid_row": null,
            "grid_template_areas": null,
            "grid_template_columns": null,
            "grid_template_rows": null,
            "height": null,
            "justify_content": null,
            "justify_items": null,
            "left": null,
            "margin": null,
            "max_height": null,
            "max_width": null,
            "min_height": null,
            "min_width": null,
            "object_fit": null,
            "object_position": null,
            "order": null,
            "overflow": null,
            "overflow_x": null,
            "overflow_y": null,
            "padding": null,
            "right": null,
            "top": null,
            "visibility": null,
            "width": null
          }
        },
        "6d8c879c8469465fb5299f28c0af3415": {
          "model_module": "@jupyter-widgets/controls",
          "model_name": "DescriptionStyleModel",
          "model_module_version": "1.5.0",
          "state": {
            "_model_module": "@jupyter-widgets/controls",
            "_model_module_version": "1.5.0",
            "_model_name": "DescriptionStyleModel",
            "_view_count": null,
            "_view_module": "@jupyter-widgets/base",
            "_view_module_version": "1.2.0",
            "_view_name": "StyleView",
            "description_width": ""
          }
        },
        "e289876a536a415586f1307d5ef01444": {
          "model_module": "@jupyter-widgets/controls",
          "model_name": "HBoxModel",
          "model_module_version": "1.5.0",
          "state": {
            "_dom_classes": [],
            "_model_module": "@jupyter-widgets/controls",
            "_model_module_version": "1.5.0",
            "_model_name": "HBoxModel",
            "_view_count": null,
            "_view_module": "@jupyter-widgets/controls",
            "_view_module_version": "1.5.0",
            "_view_name": "HBoxView",
            "box_style": "",
            "children": [
              "IPY_MODEL_a83bed1b090447e9afbdfeb0709da289",
              "IPY_MODEL_763a3079d2e049709c9bcba5ec488890",
              "IPY_MODEL_ab1a252ee5324c9dac7b9abe531dc898"
            ],
            "layout": "IPY_MODEL_1130ce91df4940adbc025211cffb5def"
          }
        },
        "a83bed1b090447e9afbdfeb0709da289": {
          "model_module": "@jupyter-widgets/controls",
          "model_name": "HTMLModel",
          "model_module_version": "1.5.0",
          "state": {
            "_dom_classes": [],
            "_model_module": "@jupyter-widgets/controls",
            "_model_module_version": "1.5.0",
            "_model_name": "HTMLModel",
            "_view_count": null,
            "_view_module": "@jupyter-widgets/controls",
            "_view_module_version": "1.5.0",
            "_view_name": "HTMLView",
            "description": "",
            "description_tooltip": null,
            "layout": "IPY_MODEL_186d379aead647a1b7d3122e60f1c712",
            "placeholder": "​",
            "style": "IPY_MODEL_283a19429c124ebbbc6738ad64ea235d",
            "value": "Map: 100%"
          }
        },
        "763a3079d2e049709c9bcba5ec488890": {
          "model_module": "@jupyter-widgets/controls",
          "model_name": "FloatProgressModel",
          "model_module_version": "1.5.0",
          "state": {
            "_dom_classes": [],
            "_model_module": "@jupyter-widgets/controls",
            "_model_module_version": "1.5.0",
            "_model_name": "FloatProgressModel",
            "_view_count": null,
            "_view_module": "@jupyter-widgets/controls",
            "_view_module_version": "1.5.0",
            "_view_name": "ProgressView",
            "bar_style": "success",
            "description": "",
            "description_tooltip": null,
            "layout": "IPY_MODEL_4da3a96bef694d76966dbb8be489ee78",
            "max": 513,
            "min": 0,
            "orientation": "horizontal",
            "style": "IPY_MODEL_9d16d95a44f540b186cb1dcebaa44c3f",
            "value": 513
          }
        },
        "ab1a252ee5324c9dac7b9abe531dc898": {
          "model_module": "@jupyter-widgets/controls",
          "model_name": "HTMLModel",
          "model_module_version": "1.5.0",
          "state": {
            "_dom_classes": [],
            "_model_module": "@jupyter-widgets/controls",
            "_model_module_version": "1.5.0",
            "_model_name": "HTMLModel",
            "_view_count": null,
            "_view_module": "@jupyter-widgets/controls",
            "_view_module_version": "1.5.0",
            "_view_name": "HTMLView",
            "description": "",
            "description_tooltip": null,
            "layout": "IPY_MODEL_43664b0b57884410a0a746db3dc702c1",
            "placeholder": "​",
            "style": "IPY_MODEL_6c4a79705aed4c899be3a897eea82807",
            "value": " 513/513 [00:00&lt;00:00, 3614.76 examples/s]"
          }
        },
        "1130ce91df4940adbc025211cffb5def": {
          "model_module": "@jupyter-widgets/base",
          "model_name": "LayoutModel",
          "model_module_version": "1.2.0",
          "state": {
            "_model_module": "@jupyter-widgets/base",
            "_model_module_version": "1.2.0",
            "_model_name": "LayoutModel",
            "_view_count": null,
            "_view_module": "@jupyter-widgets/base",
            "_view_module_version": "1.2.0",
            "_view_name": "LayoutView",
            "align_content": null,
            "align_items": null,
            "align_self": null,
            "border": null,
            "bottom": null,
            "display": null,
            "flex": null,
            "flex_flow": null,
            "grid_area": null,
            "grid_auto_columns": null,
            "grid_auto_flow": null,
            "grid_auto_rows": null,
            "grid_column": null,
            "grid_gap": null,
            "grid_row": null,
            "grid_template_areas": null,
            "grid_template_columns": null,
            "grid_template_rows": null,
            "height": null,
            "justify_content": null,
            "justify_items": null,
            "left": null,
            "margin": null,
            "max_height": null,
            "max_width": null,
            "min_height": null,
            "min_width": null,
            "object_fit": null,
            "object_position": null,
            "order": null,
            "overflow": null,
            "overflow_x": null,
            "overflow_y": null,
            "padding": null,
            "right": null,
            "top": null,
            "visibility": null,
            "width": null
          }
        },
        "186d379aead647a1b7d3122e60f1c712": {
          "model_module": "@jupyter-widgets/base",
          "model_name": "LayoutModel",
          "model_module_version": "1.2.0",
          "state": {
            "_model_module": "@jupyter-widgets/base",
            "_model_module_version": "1.2.0",
            "_model_name": "LayoutModel",
            "_view_count": null,
            "_view_module": "@jupyter-widgets/base",
            "_view_module_version": "1.2.0",
            "_view_name": "LayoutView",
            "align_content": null,
            "align_items": null,
            "align_self": null,
            "border": null,
            "bottom": null,
            "display": null,
            "flex": null,
            "flex_flow": null,
            "grid_area": null,
            "grid_auto_columns": null,
            "grid_auto_flow": null,
            "grid_auto_rows": null,
            "grid_column": null,
            "grid_gap": null,
            "grid_row": null,
            "grid_template_areas": null,
            "grid_template_columns": null,
            "grid_template_rows": null,
            "height": null,
            "justify_content": null,
            "justify_items": null,
            "left": null,
            "margin": null,
            "max_height": null,
            "max_width": null,
            "min_height": null,
            "min_width": null,
            "object_fit": null,
            "object_position": null,
            "order": null,
            "overflow": null,
            "overflow_x": null,
            "overflow_y": null,
            "padding": null,
            "right": null,
            "top": null,
            "visibility": null,
            "width": null
          }
        },
        "283a19429c124ebbbc6738ad64ea235d": {
          "model_module": "@jupyter-widgets/controls",
          "model_name": "DescriptionStyleModel",
          "model_module_version": "1.5.0",
          "state": {
            "_model_module": "@jupyter-widgets/controls",
            "_model_module_version": "1.5.0",
            "_model_name": "DescriptionStyleModel",
            "_view_count": null,
            "_view_module": "@jupyter-widgets/base",
            "_view_module_version": "1.2.0",
            "_view_name": "StyleView",
            "description_width": ""
          }
        },
        "4da3a96bef694d76966dbb8be489ee78": {
          "model_module": "@jupyter-widgets/base",
          "model_name": "LayoutModel",
          "model_module_version": "1.2.0",
          "state": {
            "_model_module": "@jupyter-widgets/base",
            "_model_module_version": "1.2.0",
            "_model_name": "LayoutModel",
            "_view_count": null,
            "_view_module": "@jupyter-widgets/base",
            "_view_module_version": "1.2.0",
            "_view_name": "LayoutView",
            "align_content": null,
            "align_items": null,
            "align_self": null,
            "border": null,
            "bottom": null,
            "display": null,
            "flex": null,
            "flex_flow": null,
            "grid_area": null,
            "grid_auto_columns": null,
            "grid_auto_flow": null,
            "grid_auto_rows": null,
            "grid_column": null,
            "grid_gap": null,
            "grid_row": null,
            "grid_template_areas": null,
            "grid_template_columns": null,
            "grid_template_rows": null,
            "height": null,
            "justify_content": null,
            "justify_items": null,
            "left": null,
            "margin": null,
            "max_height": null,
            "max_width": null,
            "min_height": null,
            "min_width": null,
            "object_fit": null,
            "object_position": null,
            "order": null,
            "overflow": null,
            "overflow_x": null,
            "overflow_y": null,
            "padding": null,
            "right": null,
            "top": null,
            "visibility": null,
            "width": null
          }
        },
        "9d16d95a44f540b186cb1dcebaa44c3f": {
          "model_module": "@jupyter-widgets/controls",
          "model_name": "ProgressStyleModel",
          "model_module_version": "1.5.0",
          "state": {
            "_model_module": "@jupyter-widgets/controls",
            "_model_module_version": "1.5.0",
            "_model_name": "ProgressStyleModel",
            "_view_count": null,
            "_view_module": "@jupyter-widgets/base",
            "_view_module_version": "1.2.0",
            "_view_name": "StyleView",
            "bar_color": null,
            "description_width": ""
          }
        },
        "43664b0b57884410a0a746db3dc702c1": {
          "model_module": "@jupyter-widgets/base",
          "model_name": "LayoutModel",
          "model_module_version": "1.2.0",
          "state": {
            "_model_module": "@jupyter-widgets/base",
            "_model_module_version": "1.2.0",
            "_model_name": "LayoutModel",
            "_view_count": null,
            "_view_module": "@jupyter-widgets/base",
            "_view_module_version": "1.2.0",
            "_view_name": "LayoutView",
            "align_content": null,
            "align_items": null,
            "align_self": null,
            "border": null,
            "bottom": null,
            "display": null,
            "flex": null,
            "flex_flow": null,
            "grid_area": null,
            "grid_auto_columns": null,
            "grid_auto_flow": null,
            "grid_auto_rows": null,
            "grid_column": null,
            "grid_gap": null,
            "grid_row": null,
            "grid_template_areas": null,
            "grid_template_columns": null,
            "grid_template_rows": null,
            "height": null,
            "justify_content": null,
            "justify_items": null,
            "left": null,
            "margin": null,
            "max_height": null,
            "max_width": null,
            "min_height": null,
            "min_width": null,
            "object_fit": null,
            "object_position": null,
            "order": null,
            "overflow": null,
            "overflow_x": null,
            "overflow_y": null,
            "padding": null,
            "right": null,
            "top": null,
            "visibility": null,
            "width": null
          }
        },
        "6c4a79705aed4c899be3a897eea82807": {
          "model_module": "@jupyter-widgets/controls",
          "model_name": "DescriptionStyleModel",
          "model_module_version": "1.5.0",
          "state": {
            "_model_module": "@jupyter-widgets/controls",
            "_model_module_version": "1.5.0",
            "_model_name": "DescriptionStyleModel",
            "_view_count": null,
            "_view_module": "@jupyter-widgets/base",
            "_view_module_version": "1.2.0",
            "_view_name": "StyleView",
            "description_width": ""
          }
        }
      }
    }
  },
  "cells": [
    {
      "cell_type": "markdown",
      "source": [
        "# **Inference Without Assumptions: Detecting and Rewriting Social Bias in Natural Language Inference**\n",
        "\n",
        "\n",
        "\n",
        "\n",
        "\n"
      ],
      "metadata": {
        "id": "95fah0VgGuf9"
      }
    },
    {
      "cell_type": "markdown",
      "source": [
        "### Submitted By:\n",
        "\n",
        "*   Ariel Soffer (ID: 216163527)\n",
        "*   \n",
        "*\n",
        "*"
      ],
      "metadata": {
        "id": "60BkiFQUG6Td"
      }
    },
    {
      "cell_type": "markdown",
      "source": [
        "## Abstract:\n",
        "\n",
        "Natural Language Inference (NLI) is the task of determining whether a given conclusion logically follows from a given statement. <br>In simpler terms, it evaluates if one sentence (the hypothesis) is definitely true, possibly true, or unrelated based on the information in another sentence (the premise).<br><br>\n",
        "\n",
        "Our project focuses on detecting and reducing social bias in Natural Language Inference (NLI), particularly in cases where AI systems make gender-based assumptions without sufficient context.<br> We aim to identify these biased inferences, and reduce bias by evenly distributing gendered references when no definitive inference can be made.<br><br>\n",
        "\n",
        "We constructed a synthetic dataset of sentence pairs, where the first sentence (the premise) describes a role, someone with a profession, a realitive of other person, and the second sentence (the hypothesis) refers to that entity — sometimes introducing a gendered term.<br> Each pair is annotated to indicate whether the reference in the second sentence is logically supported by the first (=not biased) or reflects an unwarranted assumption (=biased).\n",
        "<br><br> Using this dataset, we trained a classification model to distinguish between justified and biased inferences.<br><br>\n",
        "\n",
        "To mitigate bias, we developed a rewriting mechanism that revises biased hypotheses (bias=1) by randomly assigning a gender (p = 0.5) and prompting an LLM (e.g., GPT) to rewrite the sentence using that gender, while preserving meaning and logic.\n",
        "\n",
        "For evaluation, we propose a PCA-based semantic score: we embed “man” and “woman” as references, measure cosine distances to each rewritten sentence, assign signs (+ for “woman”, − for “man”), and compute the average. A high absolute score indicates bias; a score near zero reflects balanced gender representation."
      ],
      "metadata": {
        "id": "GjyExPSeIy-A"
      }
    },
    {
      "cell_type": "markdown",
      "source": [
        "## Constructing The Synthetic Dataset For Classification"
      ],
      "metadata": {
        "id": "RtpewCDVlJgJ"
      }
    },
    {
      "cell_type": "markdown",
      "source": [
        "In order to construct a dataset that would be suitable for our classification model, **we followed these steps**:\n",
        "\n",
        "### 1. First, we defined the dataset's structure:\n",
        "Our dataset would contains pairs of sentences.\n",
        "* Sentence 1 (Premise): Describes a person, profession, or role without using any gendered pronouns (words like \"he\", \"she\", \"her\", \"his\", \"herself\",...).\n",
        "\n",
        "* Sentence 2 (Hypothesis): Refers to the person from Sentence 1 using a gendered pronoun (he, she, or they).<br><br>\n",
        "\n",
        "**Example:** <br>\n",
        "Sentence 1: My **sister Shelly** is bery beautiful.<br>\n",
        "Sentence 2: **She** works as a model.<br><br>\n",
        "\n",
        "By using this structure, we aim check whether the gender mentioned in the second sentence can be directly and unambiguously deduced from the first sentence = **the sentence is not biased**, or whether it contains gender inferences (the gender in it is not directly related to the person the first sentence is talking about) = **the sentence is biased**.<Br><br>\n",
        "\n",
        "**Example not biased:**<br>\n",
        "Sentence 1: In the classroom corner, Dana keeps a binder titled “My Brother’s Stories.”<br>\n",
        "Sentence 2: Her descriptions of Avi’s jokes always make us laugh.<br><br>\n",
        "\n",
        "**Explanation:**<br>\n",
        "Sentence 1 refers to “Dana,” a name strongly associated with females. Thus, the pronoun usage (the word \"She\") is contextually inferable and not biased.\n",
        "<br><Br>\n",
        "\n",
        "**Example biased:**<br>\n",
        "Sentence 1: A person walked into the library holding a stack of books.<br>\n",
        "Sentence 2: He asked if there was a place to charge his laptop.\n",
        "\n",
        "**Explanation**:<br>\n",
        "Sentence 1 uses “a person,” which is entirely gender-neutral and does not provide any cue about the individual’s gender. However, Sentence 2 introduces “he” without justification from the first sentence — this makes it a biased inference based on gender assumption."
      ],
      "metadata": {
        "id": "16Rlv0b5lMOY"
      }
    },
    {
      "cell_type": "markdown",
      "source": [
        "### **2. Then, we used prompt engineering to create the dataset**\n",
        "We gave specific instructions to the generative model \"ChatGPT 4o\", in order to help it create our dataset.\n",
        "\n",
        "* At first, we wrote all the details about our project, our goals and all the things to know about our classification synthetic dataset (including examples of valid biased and not biased sentences).<br><br>\n",
        " Then, we asked the LLM to provide prompt instructuions to a generative model that will generate the dataset for us. <br>\n",
        "## **The prompt instructions it returned and all the other ones we wrote are in the bottom of this notebook:**<br><br>\n",
        "\n",
        "In the first prompt instructions it provided, it was written to genenared only 10 samples of pairs (so we could check its quality)."
      ],
      "metadata": {
        "id": "iwmfOJ33pUx1"
      }
    },
    {
      "cell_type": "markdown",
      "source": [
        "It generated 10 **good examples**, so we thought it would also do a great at generating a large number of samples.\n",
        "So, asked it to create a csv file, containing 4000 examples of sentences like those it has generated.<br><br>\n",
        "\n",
        "However, it worked poorly and generated many similar (almost the same) sentences, such as:<br>\n",
        "\"Everyone expected the manager to lead, but it was a quiet father in the back who offered the most logical path forward.\"<br><Br>\n",
        "This sentence appeared 200 times (out of 4000 samples), each time with a diferent noun (here the word father).<br>\n",
        "\n",
        "In literature, it was written that **smaller missions work better than bigger ones**.<br> Therefore, we generated almost 4000 samples, **when each time, we asked ChatGPT 4o to only generate 30.** It did actually help, and this time, all the sentences were different from one another and well structured.<br><br>\n",
        "\n",
        "This way, we could check its samples one by one and make sure everything is well made and balanced.<Br> For instance, we could see that all 30 examples it generated all started with the person spoken about in the first sentence.<br>\n",
        "That way we could notice it that and instruct ChatGPT to generate more unique stractured sentences, like:<br><br>\n",
        "Sentence 1: \"Even during the blackout, the data analyst found a way to export the report.\"\n",
        "<br>Sentence 2: \"She finished it by candlelight.\"\n"
      ],
      "metadata": {
        "id": "VxnD9M6ZuAbE"
      }
    },
    {
      "cell_type": "markdown",
      "source": [
        "### **3. Labeling the dataset + Preprocessing Steps**\n",
        "\n",
        "# **@@@@@@@@@@@@@@@@@@@@**\n",
        "In order to label the sentences to biased/ not biased, we labeled the dataset all by ourselves, sample by sample.<br>\n",
        "At first, we asked ChatGPT 4o to label them according to our general instructions, and then we checked it by going through each sample, and making sure it is valid."
      ],
      "metadata": {
        "id": "NFI6YqJBQvQ9"
      }
    },
    {
      "cell_type": "markdown",
      "source": [
        "#### That way we created a unique, organized and accurate dataset, using synthetic data and a generative model\n",
        "\n",
        "**Prompts We Wrote Are In The Bottom of This Notebook**\n"
      ],
      "metadata": {
        "id": "cBU-zTpxypVm"
      }
    },
    {
      "cell_type": "markdown",
      "source": [
        "## Downloading our pairs dataset and learning statistics\n",
        "\n",
        "* First, we get an access to our drive, where the labeled dataset is in."
      ],
      "metadata": {
        "id": "xX3WkncRBUxe"
      }
    },
    {
      "cell_type": "code",
      "source": [
        "from google.colab import drive\n",
        "drive.mount('/content/drive')"
      ],
      "metadata": {
        "colab": {
          "base_uri": "https://localhost:8080/"
        },
        "id": "zafRnzDNCQKU",
        "outputId": "5f639289-97b2-42f4-cd26-593fe3965582"
      },
      "execution_count": 2,
      "outputs": [
        {
          "output_type": "stream",
          "name": "stdout",
          "text": [
            "Drive already mounted at /content/drive; to attempt to forcibly remount, call drive.mount(\"/content/drive\", force_remount=True).\n"
          ]
        }
      ]
    },
    {
      "cell_type": "markdown",
      "source": [
        "using gpu"
      ],
      "metadata": {
        "id": "5_OrcgBsCCZf"
      }
    },
    {
      "cell_type": "code",
      "source": [
        "import torch\n",
        "# Use GPU if available\n",
        "device = torch.device('cuda' if torch.cuda.is_available() else 'cpu')\n",
        "print(device)"
      ],
      "metadata": {
        "colab": {
          "base_uri": "https://localhost:8080/"
        },
        "id": "OzBS-H-WCQ5f",
        "outputId": "54986482-8dc6-4e1d-c202-ac0e92688361"
      },
      "execution_count": 3,
      "outputs": [
        {
          "output_type": "stream",
          "name": "stdout",
          "text": [
            "cuda\n"
          ]
        }
      ]
    },
    {
      "cell_type": "code",
      "source": [
        "import os\n",
        "dir_path = dir_path = '/content/drive/MyDrive/'\n",
        "os.listdir(dir_path)\n",
        "print(dir_path)"
      ],
      "metadata": {
        "colab": {
          "base_uri": "https://localhost:8080/"
        },
        "id": "GUFH5i3HENxG",
        "outputId": "f2d66aa5-258b-4946-f9e0-4b0a8e0991a6"
      },
      "execution_count": 4,
      "outputs": [
        {
          "output_type": "stream",
          "name": "stdout",
          "text": [
            "/content/drive/MyDrive/\n"
          ]
        }
      ]
    },
    {
      "cell_type": "code",
      "source": [
        "# loading our dataset\n",
        "import pandas as pd\n",
        "df = pd.read_csv(dir_path+ \"/labeled_dataset1.csv\")"
      ],
      "metadata": {
        "id": "UQWWZ2zoBxkw"
      },
      "execution_count": 5,
      "outputs": []
    },
    {
      "cell_type": "markdown",
      "source": [
        "### Now we will observe how maby samples are there in our final dataset after all preprocessing."
      ],
      "metadata": {
        "id": "wlx-v9EWCHrG"
      }
    },
    {
      "cell_type": "code",
      "source": [
        "#plotting the number of sentence pairs we have\n",
        "print(\"we have a total of \" ,len(df), \"pairs of sentences in the dataset\")"
      ],
      "metadata": {
        "colab": {
          "base_uri": "https://localhost:8080/"
        },
        "id": "UQ_vFsI-Ixtm",
        "outputId": "273d2b96-f60e-47dd-c9ea-ce0c44478fa5"
      },
      "execution_count": 29,
      "outputs": [
        {
          "output_type": "stream",
          "name": "stdout",
          "text": [
            "we have a total of  3421 pairs of sentences in the dataset\n"
          ]
        }
      ]
    },
    {
      "cell_type": "code",
      "source": [
        "df.head()"
      ],
      "metadata": {
        "colab": {
          "base_uri": "https://localhost:8080/",
          "height": 206
        },
        "id": "JpJSvUuIcHOW",
        "outputId": "89d15f3a-c9c4-4424-d094-2fa790a5eb85"
      },
      "execution_count": 30,
      "outputs": [
        {
          "output_type": "execute_result",
          "data": {
            "text/plain": [
              "                                           Sentence1  \\\n",
              "0  My cousin opened a tiny repair shop near the t...   \n",
              "1  From the back of the classroom, the teacher wa...   \n",
              "2  Few knew that my grandma had once worked as a ...   \n",
              "3  The firefighter, soaked in sweat, emerged with...   \n",
              "4  There's a chef in our neighborhood who never r...   \n",
              "\n",
              "                                       Sentence2  bias_label  \n",
              "0      He's been fixing watches since childhood.         1.0  \n",
              "1                      Her patience was endless.         1.0  \n",
              "2  She never talked about her broadcasting days.         0.0  \n",
              "3                 His bravery stunned the crowd.         1.0  \n",
              "4                  People admire his creativity.         1.0  "
            ],
            "text/html": [
              "\n",
              "  <div id=\"df-ea37fabc-ced3-422a-b4b6-7b0e1db1d576\" class=\"colab-df-container\">\n",
              "    <div>\n",
              "<style scoped>\n",
              "    .dataframe tbody tr th:only-of-type {\n",
              "        vertical-align: middle;\n",
              "    }\n",
              "\n",
              "    .dataframe tbody tr th {\n",
              "        vertical-align: top;\n",
              "    }\n",
              "\n",
              "    .dataframe thead th {\n",
              "        text-align: right;\n",
              "    }\n",
              "</style>\n",
              "<table border=\"1\" class=\"dataframe\">\n",
              "  <thead>\n",
              "    <tr style=\"text-align: right;\">\n",
              "      <th></th>\n",
              "      <th>Sentence1</th>\n",
              "      <th>Sentence2</th>\n",
              "      <th>bias_label</th>\n",
              "    </tr>\n",
              "  </thead>\n",
              "  <tbody>\n",
              "    <tr>\n",
              "      <th>0</th>\n",
              "      <td>My cousin opened a tiny repair shop near the t...</td>\n",
              "      <td>He's been fixing watches since childhood.</td>\n",
              "      <td>1.0</td>\n",
              "    </tr>\n",
              "    <tr>\n",
              "      <th>1</th>\n",
              "      <td>From the back of the classroom, the teacher wa...</td>\n",
              "      <td>Her patience was endless.</td>\n",
              "      <td>1.0</td>\n",
              "    </tr>\n",
              "    <tr>\n",
              "      <th>2</th>\n",
              "      <td>Few knew that my grandma had once worked as a ...</td>\n",
              "      <td>She never talked about her broadcasting days.</td>\n",
              "      <td>0.0</td>\n",
              "    </tr>\n",
              "    <tr>\n",
              "      <th>3</th>\n",
              "      <td>The firefighter, soaked in sweat, emerged with...</td>\n",
              "      <td>His bravery stunned the crowd.</td>\n",
              "      <td>1.0</td>\n",
              "    </tr>\n",
              "    <tr>\n",
              "      <th>4</th>\n",
              "      <td>There's a chef in our neighborhood who never r...</td>\n",
              "      <td>People admire his creativity.</td>\n",
              "      <td>1.0</td>\n",
              "    </tr>\n",
              "  </tbody>\n",
              "</table>\n",
              "</div>\n",
              "    <div class=\"colab-df-buttons\">\n",
              "\n",
              "  <div class=\"colab-df-container\">\n",
              "    <button class=\"colab-df-convert\" onclick=\"convertToInteractive('df-ea37fabc-ced3-422a-b4b6-7b0e1db1d576')\"\n",
              "            title=\"Convert this dataframe to an interactive table.\"\n",
              "            style=\"display:none;\">\n",
              "\n",
              "  <svg xmlns=\"http://www.w3.org/2000/svg\" height=\"24px\" viewBox=\"0 -960 960 960\">\n",
              "    <path d=\"M120-120v-720h720v720H120Zm60-500h600v-160H180v160Zm220 220h160v-160H400v160Zm0 220h160v-160H400v160ZM180-400h160v-160H180v160Zm440 0h160v-160H620v160ZM180-180h160v-160H180v160Zm440 0h160v-160H620v160Z\"/>\n",
              "  </svg>\n",
              "    </button>\n",
              "\n",
              "  <style>\n",
              "    .colab-df-container {\n",
              "      display:flex;\n",
              "      gap: 12px;\n",
              "    }\n",
              "\n",
              "    .colab-df-convert {\n",
              "      background-color: #E8F0FE;\n",
              "      border: none;\n",
              "      border-radius: 50%;\n",
              "      cursor: pointer;\n",
              "      display: none;\n",
              "      fill: #1967D2;\n",
              "      height: 32px;\n",
              "      padding: 0 0 0 0;\n",
              "      width: 32px;\n",
              "    }\n",
              "\n",
              "    .colab-df-convert:hover {\n",
              "      background-color: #E2EBFA;\n",
              "      box-shadow: 0px 1px 2px rgba(60, 64, 67, 0.3), 0px 1px 3px 1px rgba(60, 64, 67, 0.15);\n",
              "      fill: #174EA6;\n",
              "    }\n",
              "\n",
              "    .colab-df-buttons div {\n",
              "      margin-bottom: 4px;\n",
              "    }\n",
              "\n",
              "    [theme=dark] .colab-df-convert {\n",
              "      background-color: #3B4455;\n",
              "      fill: #D2E3FC;\n",
              "    }\n",
              "\n",
              "    [theme=dark] .colab-df-convert:hover {\n",
              "      background-color: #434B5C;\n",
              "      box-shadow: 0px 1px 3px 1px rgba(0, 0, 0, 0.15);\n",
              "      filter: drop-shadow(0px 1px 2px rgba(0, 0, 0, 0.3));\n",
              "      fill: #FFFFFF;\n",
              "    }\n",
              "  </style>\n",
              "\n",
              "    <script>\n",
              "      const buttonEl =\n",
              "        document.querySelector('#df-ea37fabc-ced3-422a-b4b6-7b0e1db1d576 button.colab-df-convert');\n",
              "      buttonEl.style.display =\n",
              "        google.colab.kernel.accessAllowed ? 'block' : 'none';\n",
              "\n",
              "      async function convertToInteractive(key) {\n",
              "        const element = document.querySelector('#df-ea37fabc-ced3-422a-b4b6-7b0e1db1d576');\n",
              "        const dataTable =\n",
              "          await google.colab.kernel.invokeFunction('convertToInteractive',\n",
              "                                                    [key], {});\n",
              "        if (!dataTable) return;\n",
              "\n",
              "        const docLinkHtml = 'Like what you see? Visit the ' +\n",
              "          '<a target=\"_blank\" href=https://colab.research.google.com/notebooks/data_table.ipynb>data table notebook</a>'\n",
              "          + ' to learn more about interactive tables.';\n",
              "        element.innerHTML = '';\n",
              "        dataTable['output_type'] = 'display_data';\n",
              "        await google.colab.output.renderOutput(dataTable, element);\n",
              "        const docLink = document.createElement('div');\n",
              "        docLink.innerHTML = docLinkHtml;\n",
              "        element.appendChild(docLink);\n",
              "      }\n",
              "    </script>\n",
              "  </div>\n",
              "\n",
              "\n",
              "    <div id=\"df-e6b60e18-44c7-4325-a80f-425a02b80a07\">\n",
              "      <button class=\"colab-df-quickchart\" onclick=\"quickchart('df-e6b60e18-44c7-4325-a80f-425a02b80a07')\"\n",
              "                title=\"Suggest charts\"\n",
              "                style=\"display:none;\">\n",
              "\n",
              "<svg xmlns=\"http://www.w3.org/2000/svg\" height=\"24px\"viewBox=\"0 0 24 24\"\n",
              "     width=\"24px\">\n",
              "    <g>\n",
              "        <path d=\"M19 3H5c-1.1 0-2 .9-2 2v14c0 1.1.9 2 2 2h14c1.1 0 2-.9 2-2V5c0-1.1-.9-2-2-2zM9 17H7v-7h2v7zm4 0h-2V7h2v10zm4 0h-2v-4h2v4z\"/>\n",
              "    </g>\n",
              "</svg>\n",
              "      </button>\n",
              "\n",
              "<style>\n",
              "  .colab-df-quickchart {\n",
              "      --bg-color: #E8F0FE;\n",
              "      --fill-color: #1967D2;\n",
              "      --hover-bg-color: #E2EBFA;\n",
              "      --hover-fill-color: #174EA6;\n",
              "      --disabled-fill-color: #AAA;\n",
              "      --disabled-bg-color: #DDD;\n",
              "  }\n",
              "\n",
              "  [theme=dark] .colab-df-quickchart {\n",
              "      --bg-color: #3B4455;\n",
              "      --fill-color: #D2E3FC;\n",
              "      --hover-bg-color: #434B5C;\n",
              "      --hover-fill-color: #FFFFFF;\n",
              "      --disabled-bg-color: #3B4455;\n",
              "      --disabled-fill-color: #666;\n",
              "  }\n",
              "\n",
              "  .colab-df-quickchart {\n",
              "    background-color: var(--bg-color);\n",
              "    border: none;\n",
              "    border-radius: 50%;\n",
              "    cursor: pointer;\n",
              "    display: none;\n",
              "    fill: var(--fill-color);\n",
              "    height: 32px;\n",
              "    padding: 0;\n",
              "    width: 32px;\n",
              "  }\n",
              "\n",
              "  .colab-df-quickchart:hover {\n",
              "    background-color: var(--hover-bg-color);\n",
              "    box-shadow: 0 1px 2px rgba(60, 64, 67, 0.3), 0 1px 3px 1px rgba(60, 64, 67, 0.15);\n",
              "    fill: var(--button-hover-fill-color);\n",
              "  }\n",
              "\n",
              "  .colab-df-quickchart-complete:disabled,\n",
              "  .colab-df-quickchart-complete:disabled:hover {\n",
              "    background-color: var(--disabled-bg-color);\n",
              "    fill: var(--disabled-fill-color);\n",
              "    box-shadow: none;\n",
              "  }\n",
              "\n",
              "  .colab-df-spinner {\n",
              "    border: 2px solid var(--fill-color);\n",
              "    border-color: transparent;\n",
              "    border-bottom-color: var(--fill-color);\n",
              "    animation:\n",
              "      spin 1s steps(1) infinite;\n",
              "  }\n",
              "\n",
              "  @keyframes spin {\n",
              "    0% {\n",
              "      border-color: transparent;\n",
              "      border-bottom-color: var(--fill-color);\n",
              "      border-left-color: var(--fill-color);\n",
              "    }\n",
              "    20% {\n",
              "      border-color: transparent;\n",
              "      border-left-color: var(--fill-color);\n",
              "      border-top-color: var(--fill-color);\n",
              "    }\n",
              "    30% {\n",
              "      border-color: transparent;\n",
              "      border-left-color: var(--fill-color);\n",
              "      border-top-color: var(--fill-color);\n",
              "      border-right-color: var(--fill-color);\n",
              "    }\n",
              "    40% {\n",
              "      border-color: transparent;\n",
              "      border-right-color: var(--fill-color);\n",
              "      border-top-color: var(--fill-color);\n",
              "    }\n",
              "    60% {\n",
              "      border-color: transparent;\n",
              "      border-right-color: var(--fill-color);\n",
              "    }\n",
              "    80% {\n",
              "      border-color: transparent;\n",
              "      border-right-color: var(--fill-color);\n",
              "      border-bottom-color: var(--fill-color);\n",
              "    }\n",
              "    90% {\n",
              "      border-color: transparent;\n",
              "      border-bottom-color: var(--fill-color);\n",
              "    }\n",
              "  }\n",
              "</style>\n",
              "\n",
              "      <script>\n",
              "        async function quickchart(key) {\n",
              "          const quickchartButtonEl =\n",
              "            document.querySelector('#' + key + ' button');\n",
              "          quickchartButtonEl.disabled = true;  // To prevent multiple clicks.\n",
              "          quickchartButtonEl.classList.add('colab-df-spinner');\n",
              "          try {\n",
              "            const charts = await google.colab.kernel.invokeFunction(\n",
              "                'suggestCharts', [key], {});\n",
              "          } catch (error) {\n",
              "            console.error('Error during call to suggestCharts:', error);\n",
              "          }\n",
              "          quickchartButtonEl.classList.remove('colab-df-spinner');\n",
              "          quickchartButtonEl.classList.add('colab-df-quickchart-complete');\n",
              "        }\n",
              "        (() => {\n",
              "          let quickchartButtonEl =\n",
              "            document.querySelector('#df-e6b60e18-44c7-4325-a80f-425a02b80a07 button');\n",
              "          quickchartButtonEl.style.display =\n",
              "            google.colab.kernel.accessAllowed ? 'block' : 'none';\n",
              "        })();\n",
              "      </script>\n",
              "    </div>\n",
              "\n",
              "    </div>\n",
              "  </div>\n"
            ],
            "application/vnd.google.colaboratory.intrinsic+json": {
              "type": "dataframe",
              "variable_name": "df",
              "summary": "{\n  \"name\": \"df\",\n  \"rows\": 3421,\n  \"fields\": [\n    {\n      \"column\": \"Sentence1\",\n      \"properties\": {\n        \"dtype\": \"string\",\n        \"num_unique_values\": 3415,\n        \"samples\": [\n          \"Under a tent made from recycled banners, Grandpa Owen teaches wind physics to local kids.\",\n          \"Henry made a puppet stage out of cereal boxes for language practice.\",\n          \"The folk singer performed in six languages at the cultural festival.\"\n        ],\n        \"semantic_type\": \"\",\n        \"description\": \"\"\n      }\n    },\n    {\n      \"column\": \"Sentence2\",\n      \"properties\": {\n        \"dtype\": \"string\",\n        \"num_unique_values\": 3416,\n        \"samples\": [\n          \"The admiration his team received came as no surprise.\",\n          \"She believes good deeds deserve ink.\",\n          \"Her final song brought the whole crowd to its feet.\"\n        ],\n        \"semantic_type\": \"\",\n        \"description\": \"\"\n      }\n    },\n    {\n      \"column\": \"bias_label\",\n      \"properties\": {\n        \"dtype\": \"number\",\n        \"std\": 0.4998548925671588,\n        \"min\": 0.0,\n        \"max\": 1.0,\n        \"num_unique_values\": 2,\n        \"samples\": [\n          0.0,\n          1.0\n        ],\n        \"semantic_type\": \"\",\n        \"description\": \"\"\n      }\n    }\n  ]\n}"
            }
          },
          "metadata": {},
          "execution_count": 30
        }
      ]
    },
    {
      "cell_type": "code",
      "source": [
        "print(df.columns)\n",
        "print(print(df['bias_label'].value_counts()))"
      ],
      "metadata": {
        "colab": {
          "base_uri": "https://localhost:8080/"
        },
        "id": "nASlsku6b3l1",
        "outputId": "78d6061c-b462-47c6-cd99-97563ae6f78f"
      },
      "execution_count": 31,
      "outputs": [
        {
          "output_type": "stream",
          "name": "stdout",
          "text": [
            "Index(['Sentence1', 'Sentence2', 'bias_label'], dtype='object')\n",
            "bias_label\n",
            "0.0    1760\n",
            "1.0    1659\n",
            "Name: count, dtype: int64\n",
            "None\n"
          ]
        }
      ]
    },
    {
      "cell_type": "code",
      "source": [
        "import pandas as pd\n",
        "import matplotlib.pyplot as plt\n",
        "\n",
        "\n",
        "# Compute lengths\n",
        "df['len1'] = df['Sentence1'].apply(lambda x: len(str(x).split()))\n",
        "df['len2'] = df['Sentence2'].apply(lambda x: len(str(x).split()))\n",
        "\n",
        "# Summary statistics\n",
        "print(\"Sentence 1 length:\")\n",
        "print(df['len1'].describe())\n",
        "print(\"\\nSentence 2 length:\")\n",
        "print(df['len2'].describe())\n",
        "\n",
        "# Plot histograms\n",
        "plt.figure(figsize=(12, 5))\n",
        "\n",
        "plt.subplot(1, 2, 1)\n",
        "plt.hist(df['len1'], bins=20, edgecolor='black')\n",
        "plt.title(\"Sentence 1 Length Distribution\")\n",
        "plt.xlabel(\"Number of Words\")\n",
        "plt.ylabel(\"Frequency\")\n",
        "\n",
        "plt.subplot(1, 2, 2)\n",
        "plt.hist(df['len2'], bins=20, edgecolor='black')\n",
        "plt.title(\"Sentence 2 Length Distribution\")\n",
        "plt.xlabel(\"Number of Words\")\n",
        "\n",
        "plt.tight_layout()\n",
        "plt.show()\n"
      ],
      "metadata": {
        "colab": {
          "base_uri": "https://localhost:8080/",
          "height": 805
        },
        "id": "3YAriAl1_2q1",
        "outputId": "57907d4b-70ab-45ea-bb15-5f83828b7cc6"
      },
      "execution_count": 32,
      "outputs": [
        {
          "output_type": "stream",
          "name": "stdout",
          "text": [
            "Sentence 1 length:\n",
            "count    3421.000000\n",
            "mean       11.852967\n",
            "std         3.118284\n",
            "min         5.000000\n",
            "25%        10.000000\n",
            "50%        11.000000\n",
            "75%        13.000000\n",
            "max        27.000000\n",
            "Name: len1, dtype: float64\n",
            "\n",
            "Sentence 2 length:\n",
            "count    3421.000000\n",
            "mean        7.168080\n",
            "std         2.127401\n",
            "min         1.000000\n",
            "25%         6.000000\n",
            "50%         7.000000\n",
            "75%         8.000000\n",
            "max        22.000000\n",
            "Name: len2, dtype: float64\n"
          ]
        },
        {
          "output_type": "display_data",
          "data": {
            "text/plain": [
              "<Figure size 1200x500 with 2 Axes>"
            ],
            "image/png": "[encoded data removed]"
          },
          "metadata": {}
        }
      ]
    },
    {
      "cell_type": "markdown",
      "source": [
        "# **Building the Classification Model**"
      ],
      "metadata": {
        "id": "Gh9Jr-Uvzf8H"
      }
    },
    {
      "cell_type": "markdown",
      "source": [
        "# Fine-Tuning Approach\n",
        "\n",
        "In almost every field, from deep learning and machine learning to NLP, transfer learning through fine-tuning is a useful powerful technique to enhance model accuracy, efficiency, and overall performance.\n",
        "\n",
        "The core idea behind transfer learning is to leverage pre-trained models that have already been trained on large, diverse datasets—and adapt them to specific tasks. <Br><Br>By fine-tuning these models on our dataset, we can significantly reduce training time and computational costs while benefiting from the rich feature representations learned during the original training process.\n",
        "\n",
        "## In our project:\n",
        "In our project, we apply fine-tuning to pre-trained transformer models to detect gender bias in Natural Language Inference (NLI) tasks.<br> Specifically, we work with sentence pairs. Our goal is to classify whether the second sentence in each pair contains a justified or biased gender reference.\n",
        "\n"
      ],
      "metadata": {
        "id": "vt1MGpSFzf-W"
      }
    },
    {
      "cell_type": "markdown",
      "source": [
        "## Classification Models We will Build And compare:\n",
        "* standard BERT architecture, with different freezing stradegies.\n",
        "* SBERT (Sentence-BERT) Classifier with logistic regression.\n",
        "* Generative Model Baseline (GPT-3.5 / GPT-4o)\n"
      ],
      "metadata": {
        "id": "7cWEX_aOHSie"
      }
    },
    {
      "cell_type": "markdown",
      "source": [
        "# **Fine Tuning Standard Bert Model:**\n",
        "**BERT** was explicitly designed to support sentence-pair tasks such as Natural Language Inference (NLI) and Question Answering. Its input follows a special structure:<br><br>\n",
        "\n",
        "[CLS] **Sentence A** [SEP] **Sentence B** [SEP]<br>\n",
        "where:<br>\n",
        "[CLS]: A special classification token added at the beginning.<br>\n",
        "[SEP]: Separator token used to divide the two sentences<br><br>\n",
        "\n"
      ],
      "metadata": {
        "id": "U4vnwjg0IXFn"
      }
    },
    {
      "cell_type": "code",
      "source": [
        "import numpy as np\n",
        "print(np.__version__)"
      ],
      "metadata": {
        "colab": {
          "base_uri": "https://localhost:8080/"
        },
        "id": "bwKvQa2cdCEo",
        "outputId": "02eedd2e-87c3-439f-8bad-8c8099f1105e"
      },
      "execution_count": 9,
      "outputs": [
        {
          "output_type": "stream",
          "name": "stdout",
          "text": [
            "1.26.4\n"
          ]
        }
      ]
    },
    {
      "cell_type": "code",
      "source": [
        "!pip install transformers datasets evaluate --quiet\n",
        "\n",
        "import pandas as pd\n",
        "from datasets import Dataset\n",
        "import numpy as np\n",
        "\n",
        "from transformers import (\n",
        "    BertTokenizerFast,\n",
        "    BertForSequenceClassification,\n",
        "    Trainer,\n",
        "    TrainingArguments,\n",
        "    DataCollatorWithPadding,\n",
        "    EvalPrediction,\n",
        "    EarlyStoppingCallback\n",
        ")\n",
        "from datasets import load_dataset, Dataset\n",
        "import evaluate\n"
      ],
      "metadata": {
        "id": "GIR6U1gNROu9"
      },
      "execution_count": 10,
      "outputs": []
    },
    {
      "cell_type": "code",
      "source": [
        "# === CONFIG ===\n",
        "MODEL_NAME = \"bert-base-uncased\"\n",
        "RUN_NAME = \"bert_bias_run1\"\n",
        "NUM_LABELS = 2\n",
        "NUM_EPOCHS = 8\n",
        "BATCH_SIZE = 16\n",
        "LEARNING_RATE = 2e-5\n",
        "LOGGING_STEPS = 10\n",
        "\n",
        "SAVE_DIR = f\"./results/{RUN_NAME}\"\n",
        "os.makedirs(SAVE_DIR, exist_ok=True)"
      ],
      "metadata": {
        "id": "KMpVHPokLA7_"
      },
      "execution_count": 11,
      "outputs": []
    },
    {
      "cell_type": "markdown",
      "source": [
        "first, we rename the columns of our dataset to be: \"premise\" , \"hypothesis\",\"label\"."
      ],
      "metadata": {
        "id": "vdf27x26IXJM"
      }
    },
    {
      "cell_type": "code",
      "source": [
        "print(df.columns)"
      ],
      "metadata": {
        "colab": {
          "base_uri": "https://localhost:8080/"
        },
        "id": "AZlhx_SrSYDn",
        "outputId": "65deeb7e-4b83-4691-eccc-f918a46a6e9a"
      },
      "execution_count": 12,
      "outputs": [
        {
          "output_type": "stream",
          "name": "stdout",
          "text": [
            "Index(['Sentence1', 'Sentence2', 'bias_label', 'len1', 'len2'], dtype='object')\n"
          ]
        }
      ]
    },
    {
      "cell_type": "code",
      "source": [
        "# Rename columns\n",
        "df = df.rename(columns={\n",
        "    \"Sentence1\": \"premise\",\n",
        "    \"Sentence2\": \"hypothesis\",\n",
        "    \"bias_label\": \"label\"  # replace with your actual label column name\n",
        "})\n",
        "\n",
        "# Check result\n",
        "print(\"new columns are: \", df.columns)"
      ],
      "metadata": {
        "colab": {
          "base_uri": "https://localhost:8080/"
        },
        "id": "p4MamHhxCrOn",
        "outputId": "830b44d7-7212-4eaa-d28b-b428ea277db7"
      },
      "execution_count": 13,
      "outputs": [
        {
          "output_type": "stream",
          "name": "stdout",
          "text": [
            "new columns are:  Index(['premise', 'hypothesis', 'label', 'len1', 'len2'], dtype='object')\n"
          ]
        }
      ]
    },
    {
      "cell_type": "markdown",
      "source": [
        "#### splitting to train and test:"
      ],
      "metadata": {
        "id": "8-8dJ23bUNKh"
      }
    },
    {
      "cell_type": "code",
      "source": [
        "df = df.dropna()\n",
        "df[\"label\"] = df[\"label\"].astype(int)\n",
        "\n",
        "# Split\n",
        "from sklearn.model_selection import train_test_split\n",
        "\n",
        "# Step 2: First split into train+val and test (85% train+val, 15% test)\n",
        "train_val_df, test_data = train_test_split(df, test_size=0.15, stratify=df[\"label\"], random_state=42)\n",
        "\n",
        "# Step 3: Split train+val into train and val (about 82% train, 18% val of the 85%)\n",
        "train_data, val_data = train_test_split(train_val_df, test_size=0.176, stratify=train_val_df[\"label\"], random_state=42)\n",
        "# 0.176 ≈ 15% / 85%\n",
        "\n",
        "# Convert to Hugging Face Datasets\n",
        "train_dataset = Dataset.from_pandas(train_data)\n",
        "val_dataset = Dataset.from_pandas(val_data)\n",
        "test_dataset = Dataset.from_pandas(test_data)\n"
      ],
      "metadata": {
        "id": "DdFVL2JAPbfp"
      },
      "execution_count": 65,
      "outputs": []
    },
    {
      "cell_type": "markdown",
      "source": [
        "Loading the tokenizer:"
      ],
      "metadata": {
        "id": "cmlaRineTC0M"
      }
    },
    {
      "cell_type": "code",
      "source": [
        "tokenizer = BertTokenizerFast.from_pretrained(MODEL_NAME)"
      ],
      "metadata": {
        "id": "VOeuwTYMSsUN"
      },
      "execution_count": 66,
      "outputs": []
    },
    {
      "cell_type": "markdown",
      "source": [
        "#### Tokenization: Each pair is tokenized using the standard BERT tokenizer. It automatically:\n",
        "\n",
        "* Adds [CLS] at the beginning\n",
        "\n",
        "* Adds [SEP] between the two sentences and at the end<br>\n",
        "\n",
        "Generates attention masks and token type IDs"
      ],
      "metadata": {
        "id": "uoM8kdBfTFdN"
      }
    },
    {
      "cell_type": "code",
      "source": [
        "def tokenize_function(example):\n",
        "    return tokenizer(example[\"premise\"], example[\"hypothesis\"], truncation=True, padding=\"max_length\")\n",
        "\n",
        "\n",
        "train_dataset = train_dataset.map(tokenize_function, batched=True)\n",
        "val_dataset = val_dataset.map(tokenize_function, batched=True)\n",
        "test_dataset = test_dataset.map(tokenize_function, batched=True)\n",
        "\n",
        "train_dataset = train_dataset.remove_columns([\"premise\", \"hypothesis\", \"__index_level_0__\"])\n",
        "val_dataset = val_dataset.remove_columns([\"premise\", \"hypothesis\", \"__index_level_0__\"])\n",
        "test_dataset = test_dataset.remove_columns([\"premise\", \"hypothesis\", \"__index_level_0__\"])\n",
        "\n",
        "\n",
        "train_dataset.set_format(\"torch\")\n",
        "val_dataset.set_format(\"torch\")\n",
        "test_dataset.set_format(\"torch\")\n"
      ],
      "metadata": {
        "colab": {
          "base_uri": "https://localhost:8080/",
          "height": 113,
          "referenced_widgets": [
            "d2282e4ec30e4354bd04253d62e40683",
            "86e9f5cda752488b92f90dea65e5cdf0",
            "51d5b2ca19ae41caa923b094566e4f28",
            "3cf617d3e02248e89ad4709da5d92557",
            "42a533cac8a84bb29d193eab9c76eefc",
            "2b05d3a1333949868a683b98bb0754fc",
            "989e756714324068b3c54c98e5a985b5",
            "9afe6936bb134123b3f0fff952522dd6",
            "60269392fce34141ab4fddad21edb5d5",
            "0dddf9b82c7f49dab8a9885519fcdecc",
            "53346b57def94619a84f510c7c7ba8e2",
            "fb38fd4e51ac42b5a2ac059ca37b29e9",
            "97a2389e06a644cab22c5a8339d1f8df",
            "8f112773afee46158ef291779ac16946",
            "912e1f837f00479185f3fd821d57ac42",
            "059caa1f7a1745998a61d6142f60a095",
            "f4475b8cd6824de09095371015cd8427",
            "06518f6c0f554375bbb1b34077ceeba8",
            "836d8d64ddf8489892d8a9bd02eefdd4",
            "9b9227f78fdf4fbcadf04ea15a723f0e",
            "768963a50a9242e195f8614303a8335f",
            "6d8c879c8469465fb5299f28c0af3415",
            "e289876a536a415586f1307d5ef01444",
            "a83bed1b090447e9afbdfeb0709da289",
            "763a3079d2e049709c9bcba5ec488890",
            "ab1a252ee5324c9dac7b9abe531dc898",
            "1130ce91df4940adbc025211cffb5def",
            "186d379aead647a1b7d3122e60f1c712",
            "283a19429c124ebbbc6738ad64ea235d",
            "4da3a96bef694d76966dbb8be489ee78",
            "9d16d95a44f540b186cb1dcebaa44c3f",
            "43664b0b57884410a0a746db3dc702c1",
            "6c4a79705aed4c899be3a897eea82807"
          ]
        },
        "id": "CmXcw_G0TRIZ",
        "outputId": "d2605d6f-a8b0-4a99-f919-91b32efca930"
      },
      "execution_count": 67,
      "outputs": [
        {
          "output_type": "display_data",
          "data": {
            "text/plain": [
              "Map:   0%|          | 0/2394 [00:00<?, ? examples/s]"
            ],
            "application/vnd.jupyter.widget-view+json": {
              "version_major": 2,
              "version_minor": 0,
              "model_id": "d2282e4ec30e4354bd04253d62e40683"
            }
          },
          "metadata": {}
        },
        {
          "output_type": "display_data",
          "data": {
            "text/plain": [
              "Map:   0%|          | 0/512 [00:00<?, ? examples/s]"
            ],
            "application/vnd.jupyter.widget-view+json": {
              "version_major": 2,
              "version_minor": 0,
              "model_id": "fb38fd4e51ac42b5a2ac059ca37b29e9"
            }
          },
          "metadata": {}
        },
        {
          "output_type": "display_data",
          "data": {
            "text/plain": [
              "Map:   0%|          | 0/513 [00:00<?, ? examples/s]"
            ],
            "application/vnd.jupyter.widget-view+json": {
              "version_major": 2,
              "version_minor": 0,
              "model_id": "e289876a536a415586f1307d5ef01444"
            }
          },
          "metadata": {}
        }
      ]
    },
    {
      "cell_type": "markdown",
      "source": [
        "#### Loading BERT with a classification head (2 classes)\n",
        "\n",
        "We use Hugging Face’s BertForSequenceClassification:<br>\n",
        "\n",
        "* Is is pre-trained on language modeling\n",
        "\n",
        "* Adds a classification head on top of the [CLS] token\n",
        "\n",
        "* Outputs logits for binary classification (bias vs. not bias)"
      ],
      "metadata": {
        "id": "sG7kupdyFBVb"
      }
    },
    {
      "cell_type": "code",
      "source": [
        "model = BertForSequenceClassification.from_pretrained(\"bert-base-uncased\", num_labels=2)"
      ],
      "metadata": {
        "colab": {
          "base_uri": "https://localhost:8080/"
        },
        "id": "HfDVdbr_Eukh",
        "outputId": "3fdae2ed-2897-468f-ffe9-b0dbceb2df0d"
      },
      "execution_count": 68,
      "outputs": [
        {
          "output_type": "stream",
          "name": "stderr",
          "text": [
            "Some weights of BertForSequenceClassification were not initialized from the model checkpoint at bert-base-uncased and are newly initialized: ['classifier.bias', 'classifier.weight']\n",
            "You should probably TRAIN this model on a down-stream task to be able to use it for predictions and inference.\n"
          ]
        }
      ]
    },
    {
      "cell_type": "code",
      "source": [
        "accuracy = evaluate.load(\"accuracy\")\n",
        "precision = evaluate.load(\"precision\")\n",
        "recall = evaluate.load(\"recall\")\n",
        "f1 = evaluate.load(\"f1\")\n",
        "\n",
        "\n",
        "def compute_metrics(p: EvalPrediction):\n",
        "    preds = np.argmax(p.predictions, axis=1)\n",
        "    return {\n",
        "        \"accuracy\": accuracy.compute(predictions=preds, references=p.label_ids)[\"accuracy\"],\n",
        "        \"precision\": precision.compute(predictions=preds, references=p.label_ids, average=\"weighted\")[\"precision\"],\n",
        "        \"recall\": recall.compute(predictions=preds, references=p.label_ids, average=\"weighted\")[\"recall\"],\n",
        "        \"f1\": f1.compute(predictions=preds, references=p.label_ids, average=\"weighted\")[\"f1\"],\n",
        "    }\n"
      ],
      "metadata": {
        "id": "330qp_SNNPnK"
      },
      "execution_count": 69,
      "outputs": []
    },
    {
      "cell_type": "markdown",
      "source": [
        "#### Defining training configuration"
      ],
      "metadata": {
        "id": "B_wEAYUbFdxK"
      }
    },
    {
      "cell_type": "code",
      "source": [
        "from transformers import TrainingArguments\n",
        "\n",
        "def get_training_args(save_dir, batch_size=16, lr=2e-5):\n",
        "    return TrainingArguments(\n",
        "        output_dir=save_dir,\n",
        "        overwrite_output_dir=True,\n",
        "        eval_strategy=\"epoch\",\n",
        "        save_strategy=\"epoch\",\n",
        "        learning_rate=lr,\n",
        "        per_device_train_batch_size=batch_size,\n",
        "        per_device_eval_batch_size=batch_size,\n",
        "        num_train_epochs=8,\n",
        "        weight_decay=0.01,\n",
        "        logging_dir=f\"{save_dir}/logs\",\n",
        "        logging_steps=10,\n",
        "        load_best_model_at_end=True,\n",
        "        metric_for_best_model=\"eval_f1\",\n",
        "        save_total_limit=1,\n",
        "        report_to=\"none\"\n",
        "    )"
      ],
      "metadata": {
        "id": "XhuoFXn-FeIH"
      },
      "execution_count": 70,
      "outputs": []
    },
    {
      "cell_type": "markdown",
      "source": [
        "#### Trainer setup"
      ],
      "metadata": {
        "id": "T7amK5W0FlYy"
      }
    },
    {
      "cell_type": "code",
      "source": [
        "def trainer_setup(model, save_dir):\n",
        "    return Trainer(\n",
        "        model=model,\n",
        "        args=get_training_args(save_dir),\n",
        "        train_dataset=train_dataset,\n",
        "        eval_dataset=val_dataset,  # Validation during training\n",
        "        tokenizer=tokenizer,\n",
        "        data_collator=DataCollatorWithPadding(tokenizer),\n",
        "        compute_metrics=compute_metrics,\n",
        "        callbacks=[EarlyStoppingCallback(early_stopping_patience=2)]\n",
        "    )"
      ],
      "metadata": {
        "id": "BKFKX5SsFnR-"
      },
      "execution_count": 71,
      "outputs": []
    },
    {
      "cell_type": "code",
      "source": [
        "import time\n",
        "\n",
        "def training_func_and_results(trainer):\n",
        "    print(\"Training with epoch timing...\")\n",
        "    start_train = time.time()\n",
        "\n",
        "    trainer.train(resume_from_checkpoint=False)\n",
        "\n",
        "    end_train = time.time()\n",
        "    print(f\"Total training time: {(end_train - start_train)/60:.2f} minutes\\n\")\n",
        "\n",
        "    # Print epoch logs\n",
        "    print(\"Epoch-wise Evaluation Results:\")\n",
        "    for log in trainer.state.log_history:\n",
        "        if 'eval_loss' in log:\n",
        "            epoch = int(log['epoch'])\n",
        "            eval_loss = log.get('eval_loss')\n",
        "            f1 = log.get('eval_f1')\n",
        "            acc = log.get('eval_accuracy')\n",
        "            print(f\"Epoch {epoch}: Eval Loss={eval_loss:.4f}, F1={f1:.4f}, Accuracy={acc:.4f}\")\n"
      ],
      "metadata": {
        "id": "SHLqELU5a9jA"
      },
      "execution_count": 82,
      "outputs": []
    },
    {
      "cell_type": "markdown",
      "source": [
        "### Freezing Layers\n",
        "Freezing a layer means not updating its weights while training the model.\n",
        "\n",
        "Why is it helpful?\n",
        "1. It can significantly reduce the training time (Instead of retraining the entire model, which can be computationally expensive, you only train the new layers added for your specific task)\n",
        "\n",
        "2. It helps in preventing overfitting. By not updating the weights of the frozen layers, you avoid tweaking features that are already well-established and generalize well across different tasks.\n",
        "\n",
        "Since our dataset of sentence pairs is very different from the data Bert was pretrained on (BooksCorpus (800M words) and English Wikipedia (2.5B words)), we are going to try and freeze different layers of the data and check what performs better:\n",
        "\n",
        "* First, we will freeze some of the front (first) layers, and train the last ones, in order to use general features learned by the pre-trained model, but learn more complex patterns and behaviors from the MRI data.\n",
        "* Then we will freeze more layers\n",
        "* Finally, we will freeze all layers, and train only the classification head."
      ],
      "metadata": {
        "id": "74svTO26hvml"
      }
    },
    {
      "cell_type": "code",
      "source": [
        "for name, param in model.named_parameters():\n",
        "    print(name)"
      ],
      "metadata": {
        "colab": {
          "base_uri": "https://localhost:8080/"
        },
        "id": "C4brbxMriuDW",
        "outputId": "6f265e89-4eae-46a2-f573-51a9f11f7980"
      },
      "execution_count": 73,
      "outputs": [
        {
          "output_type": "stream",
          "name": "stdout",
          "text": [
            "bert.embeddings.word_embeddings.weight\n",
            "bert.embeddings.position_embeddings.weight\n",
            "bert.embeddings.token_type_embeddings.weight\n",
            "bert.embeddings.LayerNorm.weight\n",
            "bert.embeddings.LayerNorm.bias\n",
            "bert.encoder.layer.0.attention.self.query.weight\n",
            "bert.encoder.layer.0.attention.self.query.bias\n",
            "bert.encoder.layer.0.attention.self.key.weight\n",
            "bert.encoder.layer.0.attention.self.key.bias\n",
            "bert.encoder.layer.0.attention.self.value.weight\n",
            "bert.encoder.layer.0.attention.self.value.bias\n",
            "bert.encoder.layer.0.attention.output.dense.weight\n",
            "bert.encoder.layer.0.attention.output.dense.bias\n",
            "bert.encoder.layer.0.attention.output.LayerNorm.weight\n",
            "bert.encoder.layer.0.attention.output.LayerNorm.bias\n",
            "bert.encoder.layer.0.intermediate.dense.weight\n",
            "bert.encoder.layer.0.intermediate.dense.bias\n",
            "bert.encoder.layer.0.output.dense.weight\n",
            "bert.encoder.layer.0.output.dense.bias\n",
            "bert.encoder.layer.0.output.LayerNorm.weight\n",
            "bert.encoder.layer.0.output.LayerNorm.bias\n",
            "bert.encoder.layer.1.attention.self.query.weight\n",
            "bert.encoder.layer.1.attention.self.query.bias\n",
            "bert.encoder.layer.1.attention.self.key.weight\n",
            "bert.encoder.layer.1.attention.self.key.bias\n",
            "bert.encoder.layer.1.attention.self.value.weight\n",
            "bert.encoder.layer.1.attention.self.value.bias\n",
            "bert.encoder.layer.1.attention.output.dense.weight\n",
            "bert.encoder.layer.1.attention.output.dense.bias\n",
            "bert.encoder.layer.1.attention.output.LayerNorm.weight\n",
            "bert.encoder.layer.1.attention.output.LayerNorm.bias\n",
            "bert.encoder.layer.1.intermediate.dense.weight\n",
            "bert.encoder.layer.1.intermediate.dense.bias\n",
            "bert.encoder.layer.1.output.dense.weight\n",
            "bert.encoder.layer.1.output.dense.bias\n",
            "bert.encoder.layer.1.output.LayerNorm.weight\n",
            "bert.encoder.layer.1.output.LayerNorm.bias\n",
            "bert.encoder.layer.2.attention.self.query.weight\n",
            "bert.encoder.layer.2.attention.self.query.bias\n",
            "bert.encoder.layer.2.attention.self.key.weight\n",
            "bert.encoder.layer.2.attention.self.key.bias\n",
            "bert.encoder.layer.2.attention.self.value.weight\n",
            "bert.encoder.layer.2.attention.self.value.bias\n",
            "bert.encoder.layer.2.attention.output.dense.weight\n",
            "bert.encoder.layer.2.attention.output.dense.bias\n",
            "bert.encoder.layer.2.attention.output.LayerNorm.weight\n",
            "bert.encoder.layer.2.attention.output.LayerNorm.bias\n",
            "bert.encoder.layer.2.intermediate.dense.weight\n",
            "bert.encoder.layer.2.intermediate.dense.bias\n",
            "bert.encoder.layer.2.output.dense.weight\n",
            "bert.encoder.layer.2.output.dense.bias\n",
            "bert.encoder.layer.2.output.LayerNorm.weight\n",
            "bert.encoder.layer.2.output.LayerNorm.bias\n",
            "bert.encoder.layer.3.attention.self.query.weight\n",
            "bert.encoder.layer.3.attention.self.query.bias\n",
            "bert.encoder.layer.3.attention.self.key.weight\n",
            "bert.encoder.layer.3.attention.self.key.bias\n",
            "bert.encoder.layer.3.attention.self.value.weight\n",
            "bert.encoder.layer.3.attention.self.value.bias\n",
            "bert.encoder.layer.3.attention.output.dense.weight\n",
            "bert.encoder.layer.3.attention.output.dense.bias\n",
            "bert.encoder.layer.3.attention.output.LayerNorm.weight\n",
            "bert.encoder.layer.3.attention.output.LayerNorm.bias\n",
            "bert.encoder.layer.3.intermediate.dense.weight\n",
            "bert.encoder.layer.3.intermediate.dense.bias\n",
            "bert.encoder.layer.3.output.dense.weight\n",
            "bert.encoder.layer.3.output.dense.bias\n",
            "bert.encoder.layer.3.output.LayerNorm.weight\n",
            "bert.encoder.layer.3.output.LayerNorm.bias\n",
            "bert.encoder.layer.4.attention.self.query.weight\n",
            "bert.encoder.layer.4.attention.self.query.bias\n",
            "bert.encoder.layer.4.attention.self.key.weight\n",
            "bert.encoder.layer.4.attention.self.key.bias\n",
            "bert.encoder.layer.4.attention.self.value.weight\n",
            "bert.encoder.layer.4.attention.self.value.bias\n",
            "bert.encoder.layer.4.attention.output.dense.weight\n",
            "bert.encoder.layer.4.attention.output.dense.bias\n",
            "bert.encoder.layer.4.attention.output.LayerNorm.weight\n",
            "bert.encoder.layer.4.attention.output.LayerNorm.bias\n",
            "bert.encoder.layer.4.intermediate.dense.weight\n",
            "bert.encoder.layer.4.intermediate.dense.bias\n",
            "bert.encoder.layer.4.output.dense.weight\n",
            "bert.encoder.layer.4.output.dense.bias\n",
            "bert.encoder.layer.4.output.LayerNorm.weight\n",
            "bert.encoder.layer.4.output.LayerNorm.bias\n",
            "bert.encoder.layer.5.attention.self.query.weight\n",
            "bert.encoder.layer.5.attention.self.query.bias\n",
            "bert.encoder.layer.5.attention.self.key.weight\n",
            "bert.encoder.layer.5.attention.self.key.bias\n",
            "bert.encoder.layer.5.attention.self.value.weight\n",
            "bert.encoder.layer.5.attention.self.value.bias\n",
            "bert.encoder.layer.5.attention.output.dense.weight\n",
            "bert.encoder.layer.5.attention.output.dense.bias\n",
            "bert.encoder.layer.5.attention.output.LayerNorm.weight\n",
            "bert.encoder.layer.5.attention.output.LayerNorm.bias\n",
            "bert.encoder.layer.5.intermediate.dense.weight\n",
            "bert.encoder.layer.5.intermediate.dense.bias\n",
            "bert.encoder.layer.5.output.dense.weight\n",
            "bert.encoder.layer.5.output.dense.bias\n",
            "bert.encoder.layer.5.output.LayerNorm.weight\n",
            "bert.encoder.layer.5.output.LayerNorm.bias\n",
            "bert.encoder.layer.6.attention.self.query.weight\n",
            "bert.encoder.layer.6.attention.self.query.bias\n",
            "bert.encoder.layer.6.attention.self.key.weight\n",
            "bert.encoder.layer.6.attention.self.key.bias\n",
            "bert.encoder.layer.6.attention.self.value.weight\n",
            "bert.encoder.layer.6.attention.self.value.bias\n",
            "bert.encoder.layer.6.attention.output.dense.weight\n",
            "bert.encoder.layer.6.attention.output.dense.bias\n",
            "bert.encoder.layer.6.attention.output.LayerNorm.weight\n",
            "bert.encoder.layer.6.attention.output.LayerNorm.bias\n",
            "bert.encoder.layer.6.intermediate.dense.weight\n",
            "bert.encoder.layer.6.intermediate.dense.bias\n",
            "bert.encoder.layer.6.output.dense.weight\n",
            "bert.encoder.layer.6.output.dense.bias\n",
            "bert.encoder.layer.6.output.LayerNorm.weight\n",
            "bert.encoder.layer.6.output.LayerNorm.bias\n",
            "bert.encoder.layer.7.attention.self.query.weight\n",
            "bert.encoder.layer.7.attention.self.query.bias\n",
            "bert.encoder.layer.7.attention.self.key.weight\n",
            "bert.encoder.layer.7.attention.self.key.bias\n",
            "bert.encoder.layer.7.attention.self.value.weight\n",
            "bert.encoder.layer.7.attention.self.value.bias\n",
            "bert.encoder.layer.7.attention.output.dense.weight\n",
            "bert.encoder.layer.7.attention.output.dense.bias\n",
            "bert.encoder.layer.7.attention.output.LayerNorm.weight\n",
            "bert.encoder.layer.7.attention.output.LayerNorm.bias\n",
            "bert.encoder.layer.7.intermediate.dense.weight\n",
            "bert.encoder.layer.7.intermediate.dense.bias\n",
            "bert.encoder.layer.7.output.dense.weight\n",
            "bert.encoder.layer.7.output.dense.bias\n",
            "bert.encoder.layer.7.output.LayerNorm.weight\n",
            "bert.encoder.layer.7.output.LayerNorm.bias\n",
            "bert.encoder.layer.8.attention.self.query.weight\n",
            "bert.encoder.layer.8.attention.self.query.bias\n",
            "bert.encoder.layer.8.attention.self.key.weight\n",
            "bert.encoder.layer.8.attention.self.key.bias\n",
            "bert.encoder.layer.8.attention.self.value.weight\n",
            "bert.encoder.layer.8.attention.self.value.bias\n",
            "bert.encoder.layer.8.attention.output.dense.weight\n",
            "bert.encoder.layer.8.attention.output.dense.bias\n",
            "bert.encoder.layer.8.attention.output.LayerNorm.weight\n",
            "bert.encoder.layer.8.attention.output.LayerNorm.bias\n",
            "bert.encoder.layer.8.intermediate.dense.weight\n",
            "bert.encoder.layer.8.intermediate.dense.bias\n",
            "bert.encoder.layer.8.output.dense.weight\n",
            "bert.encoder.layer.8.output.dense.bias\n",
            "bert.encoder.layer.8.output.LayerNorm.weight\n",
            "bert.encoder.layer.8.output.LayerNorm.bias\n",
            "bert.encoder.layer.9.attention.self.query.weight\n",
            "bert.encoder.layer.9.attention.self.query.bias\n",
            "bert.encoder.layer.9.attention.self.key.weight\n",
            "bert.encoder.layer.9.attention.self.key.bias\n",
            "bert.encoder.layer.9.attention.self.value.weight\n",
            "bert.encoder.layer.9.attention.self.value.bias\n",
            "bert.encoder.layer.9.attention.output.dense.weight\n",
            "bert.encoder.layer.9.attention.output.dense.bias\n",
            "bert.encoder.layer.9.attention.output.LayerNorm.weight\n",
            "bert.encoder.layer.9.attention.output.LayerNorm.bias\n",
            "bert.encoder.layer.9.intermediate.dense.weight\n",
            "bert.encoder.layer.9.intermediate.dense.bias\n",
            "bert.encoder.layer.9.output.dense.weight\n",
            "bert.encoder.layer.9.output.dense.bias\n",
            "bert.encoder.layer.9.output.LayerNorm.weight\n",
            "bert.encoder.layer.9.output.LayerNorm.bias\n",
            "bert.encoder.layer.10.attention.self.query.weight\n",
            "bert.encoder.layer.10.attention.self.query.bias\n",
            "bert.encoder.layer.10.attention.self.key.weight\n",
            "bert.encoder.layer.10.attention.self.key.bias\n",
            "bert.encoder.layer.10.attention.self.value.weight\n",
            "bert.encoder.layer.10.attention.self.value.bias\n",
            "bert.encoder.layer.10.attention.output.dense.weight\n",
            "bert.encoder.layer.10.attention.output.dense.bias\n",
            "bert.encoder.layer.10.attention.output.LayerNorm.weight\n",
            "bert.encoder.layer.10.attention.output.LayerNorm.bias\n",
            "bert.encoder.layer.10.intermediate.dense.weight\n",
            "bert.encoder.layer.10.intermediate.dense.bias\n",
            "bert.encoder.layer.10.output.dense.weight\n",
            "bert.encoder.layer.10.output.dense.bias\n",
            "bert.encoder.layer.10.output.LayerNorm.weight\n",
            "bert.encoder.layer.10.output.LayerNorm.bias\n",
            "bert.encoder.layer.11.attention.self.query.weight\n",
            "bert.encoder.layer.11.attention.self.query.bias\n",
            "bert.encoder.layer.11.attention.self.key.weight\n",
            "bert.encoder.layer.11.attention.self.key.bias\n",
            "bert.encoder.layer.11.attention.self.value.weight\n",
            "bert.encoder.layer.11.attention.self.value.bias\n",
            "bert.encoder.layer.11.attention.output.dense.weight\n",
            "bert.encoder.layer.11.attention.output.dense.bias\n",
            "bert.encoder.layer.11.attention.output.LayerNorm.weight\n",
            "bert.encoder.layer.11.attention.output.LayerNorm.bias\n",
            "bert.encoder.layer.11.intermediate.dense.weight\n",
            "bert.encoder.layer.11.intermediate.dense.bias\n",
            "bert.encoder.layer.11.output.dense.weight\n",
            "bert.encoder.layer.11.output.dense.bias\n",
            "bert.encoder.layer.11.output.LayerNorm.weight\n",
            "bert.encoder.layer.11.output.LayerNorm.bias\n",
            "bert.pooler.dense.weight\n",
            "bert.pooler.dense.bias\n",
            "classifier.weight\n",
            "classifier.bias\n"
          ]
        }
      ]
    },
    {
      "cell_type": "code",
      "source": [
        "import matplotlib.pyplot as plt\n",
        "\n",
        "def plot_train_eval_loss(trainer):\n",
        "    logs = trainer.state.log_history\n",
        "    train_loss = []\n",
        "    eval_loss = []\n",
        "    epochs = []\n",
        "\n",
        "    for entry in logs:\n",
        "        if \"loss\" in entry and \"epoch\" in entry:\n",
        "            train_loss.append(entry[\"loss\"])\n",
        "            epochs.append(entry[\"epoch\"])\n",
        "        if \"eval_loss\" in entry:\n",
        "            eval_loss.append(entry[\"eval_loss\"])\n",
        "\n",
        "    # Plotting\n",
        "    plt.figure(figsize=(10, 5))\n",
        "    plt.plot(epochs[:len(train_loss)], train_loss, label=\"Training Loss\", marker='o')\n",
        "    plt.plot(epochs[:len(eval_loss)], eval_loss, label=\"Validation Loss\", marker='o')\n",
        "    plt.xlabel(\"Epoch\")\n",
        "    plt.ylabel(\"Loss\")\n",
        "    plt.title(\"Training vs. Validation Loss\")\n",
        "    plt.legend()\n",
        "    plt.grid(True)\n",
        "    plt.tight_layout()\n",
        "    plt.show()\n"
      ],
      "metadata": {
        "id": "VT9Y47JKnkqc"
      },
      "execution_count": 74,
      "outputs": []
    },
    {
      "cell_type": "code",
      "source": [
        "import torch.nn as nn\n",
        "\n",
        "def reset_all_weights(model):\n",
        "    \"\"\"\n",
        "    Resets all weights in a Hugging Face BERT model, including the encoder and classification head.\n",
        "    Uses normal initialization with std=0.02 (default for BERT).\n",
        "    \"\"\"\n",
        "    for name, module in model.named_modules():\n",
        "        if isinstance(module, nn.Linear):\n",
        "            nn.init.normal_(module.weight, std=0.02)\n",
        "            if module.bias is not None:\n",
        "                nn.init.zeros_(module.bias)\n",
        "        elif isinstance(module, nn.Embedding):\n",
        "            nn.init.normal_(module.weight, std=0.02)\n",
        "            if hasattr(module, 'padding_idx') and module.padding_idx is not None:\n",
        "                module.weight.data[module.padding_idx].zero_()\n",
        "        elif isinstance(module, nn.LayerNorm):\n",
        "            nn.init.ones_(module.weight)\n",
        "            nn.init.zeros_(module.bias)\n",
        "\n",
        "    print(\"✅ All BERT weights reset (encoder + classifier).\")\n"
      ],
      "metadata": {
        "id": "ne-c1zruk0ld"
      },
      "execution_count": 75,
      "outputs": []
    },
    {
      "cell_type": "markdown",
      "source": [
        "## Moving On To SBERT Model"
      ],
      "metadata": {
        "id": "a3lpDEegzgFN"
      }
    },
    {
      "cell_type": "code",
      "source": [
        "def freeze_sbert_layers(model, freeze_ratio=0.5, freeze_embeddings=False):\n",
        "    encoder = model.base_model  # works for RoBERTa, BERT, etc.\n",
        "\n",
        "    try:\n",
        "        layers = encoder.encoder.layer  # works for most transformer-based models\n",
        "    except AttributeError:\n",
        "        raise ValueError(\"Cannot access encoder layers — is this a supported SBERT model?\")\n",
        "\n",
        "    total_layers = len(layers)\n",
        "    num_to_freeze = int(total_layers * freeze_ratio)\n",
        "\n",
        "    # Freeze bottom `num_to_freeze` layers\n",
        "    for idx, layer in enumerate(layers):\n",
        "        if idx < num_to_freeze:\n",
        "            for param in layer.parameters():\n",
        "                param.requires_grad = False\n",
        "\n",
        "    if freeze_embeddings:\n",
        "        for param in encoder.embeddings.parameters():\n",
        "            param.requires_grad = False\n",
        "\n",
        "    print(f\"Frozen {num_to_freeze}/{total_layers} encoder layers\")\n",
        "    if freeze_embeddings:\n",
        "        print(\"Embeddings are frozen\")\n"
      ],
      "metadata": {
        "id": "-cY92Z8pa-T9"
      },
      "execution_count": 77,
      "outputs": []
    },
    {
      "cell_type": "markdown",
      "source": [
        "### Model 1 - freezing 25% of the layers\n",
        "First, we are going to freeze about a quarter of the layers, which are \"conv1\", \"layer1\" and \"layer2\"\n",
        "\n"
      ],
      "metadata": {
        "id": "xm5Nwc1czgC8"
      }
    },
    {
      "cell_type": "code",
      "source": [
        "from transformers import AutoModelForSequenceClassification, AutoTokenizer\n",
        "import torch\n",
        "\n",
        "# Use SBERT checkpoint (e.g., trained on NLI)\n",
        "model_name = \"sentence-transformers/all-mpnet-base-v2\"\n",
        "\n",
        "# Load as a Hugging Face model — note: it's RoBERTa architecture under the hood\n",
        "sbert_model_25 = AutoModelForSequenceClassification.from_pretrained(model_name, num_labels=2)\n",
        "tokenizer_sbert_25 = AutoTokenizer.from_pretrained(model_name)\n",
        "\n",
        "# Move to CUDA\n",
        "device = torch.device(\"cuda\" if torch.cuda.is_available() else \"cpu\")\n",
        "sbert_model_25.to(device)\n",
        "\n",
        "freeze_sbert_layers(sbert_model_25, freeze_ratio=0.25)"
      ],
      "metadata": {
        "colab": {
          "base_uri": "https://localhost:8080/"
        },
        "id": "ocOGOU0HY3mN",
        "outputId": "d368851b-8742-4114-863a-3d5b8edcc1e2"
      },
      "execution_count": 78,
      "outputs": [
        {
          "output_type": "stream",
          "name": "stderr",
          "text": [
            "Some weights of MPNetForSequenceClassification were not initialized from the model checkpoint at sentence-transformers/all-mpnet-base-v2 and are newly initialized: ['classifier.dense.bias', 'classifier.dense.weight', 'classifier.out_proj.bias', 'classifier.out_proj.weight']\n",
            "You should probably TRAIN this model on a down-stream task to be able to use it for predictions and inference.\n"
          ]
        },
        {
          "output_type": "stream",
          "name": "stdout",
          "text": [
            "Frozen 3/12 encoder layers\n"
          ]
        }
      ]
    },
    {
      "cell_type": "code",
      "source": [
        "reset_all_weights(sbert_model_25)"
      ],
      "metadata": {
        "colab": {
          "base_uri": "https://localhost:8080/"
        },
        "id": "DeO4lpBVaEnX",
        "outputId": "a533028c-456d-4dcd-b19e-28f4c9afc853"
      },
      "execution_count": 79,
      "outputs": [
        {
          "output_type": "stream",
          "name": "stdout",
          "text": [
            "✅ All BERT weights reset (encoder + classifier).\n"
          ]
        }
      ]
    },
    {
      "cell_type": "code",
      "source": [
        "trainer1 = trainer_setup(sbert_model_25, \"./drive/MyDrive/saved_models/bert_finetuned_bias_25_sbert\")\n",
        "training_func_and_results(trainer1)\n",
        "# Evaluate on test set\n",
        "test_results1 = trainer1.evaluate(test_dataset)\n",
        "print(\"Test Results:\", test_results1)"
      ],
      "metadata": {
        "colab": {
          "base_uri": "https://localhost:8080/",
          "height": 529
        },
        "id": "S8a_ZdlzaPTJ",
        "outputId": "876a9cd1-f643-4555-b777-d23eed4b3aea"
      },
      "execution_count": 80,
      "outputs": [
        {
          "output_type": "stream",
          "name": "stdout",
          "text": [
            "Training with epoch timing...\n"
          ]
        },
        {
          "output_type": "stream",
          "name": "stderr",
          "text": [
            "<ipython-input-71-4564a6e4764e>:2: FutureWarning: `tokenizer` is deprecated and will be removed in version 5.0.0 for `Trainer.__init__`. Use `processing_class` instead.\n",
            "  return Trainer(\n"
          ]
        },
        {
          "output_type": "display_data",
          "data": {
            "text/plain": [
              "<IPython.core.display.HTML object>"
            ],
            "text/html": [
              "\n",
              "    <div>\n",
              "      \n",
              "      <progress value='900' max='1200' style='width:300px; height:20px; vertical-align: middle;'></progress>\n",
              "      [ 900/1200 13:37 < 04:33, 1.10 it/s, Epoch 6/8]\n",
              "    </div>\n",
              "    <table border=\"1\" class=\"dataframe\">\n",
              "  <thead>\n",
              " <tr style=\"text-align: left;\">\n",
              "      <th>Epoch</th>\n",
              "      <th>Training Loss</th>\n",
              "      <th>Validation Loss</th>\n",
              "      <th>Accuracy</th>\n",
              "      <th>Precision</th>\n",
              "      <th>Recall</th>\n",
              "      <th>F1</th>\n",
              "    </tr>\n",
              "  </thead>\n",
              "  <tbody>\n",
              "    <tr>\n",
              "      <td>1</td>\n",
              "      <td>0.392600</td>\n",
              "      <td>0.423081</td>\n",
              "      <td>0.839844</td>\n",
              "      <td>0.861550</td>\n",
              "      <td>0.839844</td>\n",
              "      <td>0.836637</td>\n",
              "    </tr>\n",
              "    <tr>\n",
              "      <td>2</td>\n",
              "      <td>0.301300</td>\n",
              "      <td>0.331257</td>\n",
              "      <td>0.880859</td>\n",
              "      <td>0.883146</td>\n",
              "      <td>0.880859</td>\n",
              "      <td>0.880504</td>\n",
              "    </tr>\n",
              "    <tr>\n",
              "      <td>3</td>\n",
              "      <td>0.196900</td>\n",
              "      <td>0.362449</td>\n",
              "      <td>0.908203</td>\n",
              "      <td>0.910669</td>\n",
              "      <td>0.908203</td>\n",
              "      <td>0.908183</td>\n",
              "    </tr>\n",
              "    <tr>\n",
              "      <td>4</td>\n",
              "      <td>0.055700</td>\n",
              "      <td>0.342385</td>\n",
              "      <td>0.912109</td>\n",
              "      <td>0.912715</td>\n",
              "      <td>0.912109</td>\n",
              "      <td>0.912131</td>\n",
              "    </tr>\n",
              "    <tr>\n",
              "      <td>5</td>\n",
              "      <td>0.083100</td>\n",
              "      <td>0.408033</td>\n",
              "      <td>0.908203</td>\n",
              "      <td>0.911193</td>\n",
              "      <td>0.908203</td>\n",
              "      <td>0.908166</td>\n",
              "    </tr>\n",
              "    <tr>\n",
              "      <td>6</td>\n",
              "      <td>0.030900</td>\n",
              "      <td>0.431291</td>\n",
              "      <td>0.910156</td>\n",
              "      <td>0.910203</td>\n",
              "      <td>0.910156</td>\n",
              "      <td>0.910166</td>\n",
              "    </tr>\n",
              "  </tbody>\n",
              "</table><p>"
            ]
          },
          "metadata": {}
        },
        {
          "output_type": "stream",
          "name": "stdout",
          "text": [
            "Total training time: 13.65 minutes\n",
            "\n",
            "Epoch-wise Evaluation Results:\n",
            "Epoch 1: Eval Loss=0.4231, F1=0.8366, Accuracy=0.8398\n",
            "Epoch 2: Eval Loss=0.3313, F1=0.8805, Accuracy=0.8809\n",
            "Epoch 3: Eval Loss=0.3624, F1=0.9082, Accuracy=0.9082\n",
            "Epoch 4: Eval Loss=0.3424, F1=0.9121, Accuracy=0.9121\n",
            "Epoch 5: Eval Loss=0.4080, F1=0.9082, Accuracy=0.9082\n",
            "Epoch 6: Eval Loss=0.4313, F1=0.9102, Accuracy=0.9102\n"
          ]
        },
        {
          "output_type": "display_data",
          "data": {
            "text/plain": [
              "<IPython.core.display.HTML object>"
            ],
            "text/html": [
              "\n",
              "    <div>\n",
              "      \n",
              "      <progress value='33' max='33' style='width:300px; height:20px; vertical-align: middle;'></progress>\n",
              "      [33/33 00:10]\n",
              "    </div>\n",
              "    "
            ]
          },
          "metadata": {}
        },
        {
          "output_type": "stream",
          "name": "stdout",
          "text": [
            "Test Results: {'eval_loss': 0.37003836035728455, 'eval_accuracy': 0.9064327485380117, 'eval_precision': 0.9071572312351426, 'eval_recall': 0.9064327485380117, 'eval_f1': 0.9064505272545056, 'eval_runtime': 10.5101, 'eval_samples_per_second': 48.81, 'eval_steps_per_second': 3.14, 'epoch': 6.0}\n"
          ]
        }
      ]
    },
    {
      "cell_type": "code",
      "source": [
        "# Set the directory where to save the model\n",
        "SAVE_PATH1 = \"./drive/MyDrive/saved_models/bert_finetuned_bias_25_sbert\"\n",
        "\n",
        "# Save the model, tokenizer, and config\n",
        "trainer1.save_model(SAVE_PATH1)\n",
        "tokenizer_sbert_25.save_pretrained(SAVE_PATH1)"
      ],
      "metadata": {
        "colab": {
          "base_uri": "https://localhost:8080/"
        },
        "id": "NsVNjpjFcSDv",
        "outputId": "cec11718-6a48-4f60-f34c-a094e04f335e"
      },
      "execution_count": 83,
      "outputs": [
        {
          "output_type": "execute_result",
          "data": {
            "text/plain": [
              "('./drive/MyDrive/saved_models/bert_finetuned_bias_25_sbert/tokenizer_config.json',\n",
              " './drive/MyDrive/saved_models/bert_finetuned_bias_25_sbert/special_tokens_map.json',\n",
              " './drive/MyDrive/saved_models/bert_finetuned_bias_25_sbert/vocab.txt',\n",
              " './drive/MyDrive/saved_models/bert_finetuned_bias_25_sbert/added_tokens.json',\n",
              " './drive/MyDrive/saved_models/bert_finetuned_bias_25_sbert/tokenizer.json')"
            ]
          },
          "metadata": {},
          "execution_count": 83
        }
      ]
    },
    {
      "cell_type": "code",
      "source": [
        "results_df25 = pd.DataFrame([test_results1])  # test_results is from trainer.evaluate(test_dataset)\n",
        "results_df25.to_csv(\"./results/eval_results_25.csv\", index=False)"
      ],
      "metadata": {
        "id": "sRrImLPlbD0z"
      },
      "execution_count": 84,
      "outputs": []
    },
    {
      "cell_type": "code",
      "source": [
        "sbert_model_25 = BertForSequenceClassification.from_pretrained(\"./drive/MyDrive/saved_models/bert_finetuned_bias_25_sbert\")\n",
        "tokenizer_sbert_25 = BertTokenizerFast.from_pretrained(\"./drive/MyDrive/saved_models/bert_finetuned_bias_25_sbert\")"
      ],
      "metadata": {
        "colab": {
          "base_uri": "https://localhost:8080/"
        },
        "id": "fh32nGdEcdmD",
        "outputId": "efd91209-c3cd-4469-c5b6-70832b2f7def"
      },
      "execution_count": 85,
      "outputs": [
        {
          "output_type": "stream",
          "name": "stderr",
          "text": [
            "You are using a model of type mpnet to instantiate a model of type bert. This is not supported for all configurations of models and can yield errors.\n",
            "Some weights of BertForSequenceClassification were not initialized from the model checkpoint at ./drive/MyDrive/saved_models/bert_finetuned_bias_25_sbert and are newly initialized: ['bert.embeddings.LayerNorm.bias', 'bert.embeddings.LayerNorm.weight', 'bert.embeddings.position_embeddings.weight', 'bert.embeddings.token_type_embeddings.weight', 'bert.embeddings.word_embeddings.weight', 'bert.encoder.layer.0.attention.output.LayerNorm.bias', 'bert.encoder.layer.0.attention.output.LayerNorm.weight', 'bert.encoder.layer.0.attention.output.dense.bias', 'bert.encoder.layer.0.attention.output.dense.weight', 'bert.encoder.layer.0.attention.self.key.bias', 'bert.encoder.layer.0.attention.self.key.weight', 'bert.encoder.layer.0.attention.self.query.bias', 'bert.encoder.layer.0.attention.self.query.weight', 'bert.encoder.layer.0.attention.self.value.bias', 'bert.encoder.layer.0.attention.self.value.weight', 'bert.encoder.layer.0.intermediate.dense.bias', 'bert.encoder.layer.0.intermediate.dense.weight', 'bert.encoder.layer.0.output.LayerNorm.bias', 'bert.encoder.layer.0.output.LayerNorm.weight', 'bert.encoder.layer.0.output.dense.bias', 'bert.encoder.layer.0.output.dense.weight', 'bert.encoder.layer.1.attention.output.LayerNorm.bias', 'bert.encoder.layer.1.attention.output.LayerNorm.weight', 'bert.encoder.layer.1.attention.output.dense.bias', 'bert.encoder.layer.1.attention.output.dense.weight', 'bert.encoder.layer.1.attention.self.key.bias', 'bert.encoder.layer.1.attention.self.key.weight', 'bert.encoder.layer.1.attention.self.query.bias', 'bert.encoder.layer.1.attention.self.query.weight', 'bert.encoder.layer.1.attention.self.value.bias', 'bert.encoder.layer.1.attention.self.value.weight', 'bert.encoder.layer.1.intermediate.dense.bias', 'bert.encoder.layer.1.intermediate.dense.weight', 'bert.encoder.layer.1.output.LayerNorm.bias', 'bert.encoder.layer.1.output.LayerNorm.weight', 'bert.encoder.layer.1.output.dense.bias', 'bert.encoder.layer.1.output.dense.weight', 'bert.encoder.layer.10.attention.output.LayerNorm.bias', 'bert.encoder.layer.10.attention.output.LayerNorm.weight', 'bert.encoder.layer.10.attention.output.dense.bias', 'bert.encoder.layer.10.attention.output.dense.weight', 'bert.encoder.layer.10.attention.self.key.bias', 'bert.encoder.layer.10.attention.self.key.weight', 'bert.encoder.layer.10.attention.self.query.bias', 'bert.encoder.layer.10.attention.self.query.weight', 'bert.encoder.layer.10.attention.self.value.bias', 'bert.encoder.layer.10.attention.self.value.weight', 'bert.encoder.layer.10.intermediate.dense.bias', 'bert.encoder.layer.10.intermediate.dense.weight', 'bert.encoder.layer.10.output.LayerNorm.bias', 'bert.encoder.layer.10.output.LayerNorm.weight', 'bert.encoder.layer.10.output.dense.bias', 'bert.encoder.layer.10.output.dense.weight', 'bert.encoder.layer.11.attention.output.LayerNorm.bias', 'bert.encoder.layer.11.attention.output.LayerNorm.weight', 'bert.encoder.layer.11.attention.output.dense.bias', 'bert.encoder.layer.11.attention.output.dense.weight', 'bert.encoder.layer.11.attention.self.key.bias', 'bert.encoder.layer.11.attention.self.key.weight', 'bert.encoder.layer.11.attention.self.query.bias', 'bert.encoder.layer.11.attention.self.query.weight', 'bert.encoder.layer.11.attention.self.value.bias', 'bert.encoder.layer.11.attention.self.value.weight', 'bert.encoder.layer.11.intermediate.dense.bias', 'bert.encoder.layer.11.intermediate.dense.weight', 'bert.encoder.layer.11.output.LayerNorm.bias', 'bert.encoder.layer.11.output.LayerNorm.weight', 'bert.encoder.layer.11.output.dense.bias', 'bert.encoder.layer.11.output.dense.weight', 'bert.encoder.layer.2.attention.output.LayerNorm.bias', 'bert.encoder.layer.2.attention.output.LayerNorm.weight', 'bert.encoder.layer.2.attention.output.dense.bias', 'bert.encoder.layer.2.attention.output.dense.weight', 'bert.encoder.layer.2.attention.self.key.bias', 'bert.encoder.layer.2.attention.self.key.weight', 'bert.encoder.layer.2.attention.self.query.bias', 'bert.encoder.layer.2.attention.self.query.weight', 'bert.encoder.layer.2.attention.self.value.bias', 'bert.encoder.layer.2.attention.self.value.weight', 'bert.encoder.layer.2.intermediate.dense.bias', 'bert.encoder.layer.2.intermediate.dense.weight', 'bert.encoder.layer.2.output.LayerNorm.bias', 'bert.encoder.layer.2.output.LayerNorm.weight', 'bert.encoder.layer.2.output.dense.bias', 'bert.encoder.layer.2.output.dense.weight', 'bert.encoder.layer.3.attention.output.LayerNorm.bias', 'bert.encoder.layer.3.attention.output.LayerNorm.weight', 'bert.encoder.layer.3.attention.output.dense.bias', 'bert.encoder.layer.3.attention.output.dense.weight', 'bert.encoder.layer.3.attention.self.key.bias', 'bert.encoder.layer.3.attention.self.key.weight', 'bert.encoder.layer.3.attention.self.query.bias', 'bert.encoder.layer.3.attention.self.query.weight', 'bert.encoder.layer.3.attention.self.value.bias', 'bert.encoder.layer.3.attention.self.value.weight', 'bert.encoder.layer.3.intermediate.dense.bias', 'bert.encoder.layer.3.intermediate.dense.weight', 'bert.encoder.layer.3.output.LayerNorm.bias', 'bert.encoder.layer.3.output.LayerNorm.weight', 'bert.encoder.layer.3.output.dense.bias', 'bert.encoder.layer.3.output.dense.weight', 'bert.encoder.layer.4.attention.output.LayerNorm.bias', 'bert.encoder.layer.4.attention.output.LayerNorm.weight', 'bert.encoder.layer.4.attention.output.dense.bias', 'bert.encoder.layer.4.attention.output.dense.weight', 'bert.encoder.layer.4.attention.self.key.bias', 'bert.encoder.layer.4.attention.self.key.weight', 'bert.encoder.layer.4.attention.self.query.bias', 'bert.encoder.layer.4.attention.self.query.weight', 'bert.encoder.layer.4.attention.self.value.bias', 'bert.encoder.layer.4.attention.self.value.weight', 'bert.encoder.layer.4.intermediate.dense.bias', 'bert.encoder.layer.4.intermediate.dense.weight', 'bert.encoder.layer.4.output.LayerNorm.bias', 'bert.encoder.layer.4.output.LayerNorm.weight', 'bert.encoder.layer.4.output.dense.bias', 'bert.encoder.layer.4.output.dense.weight', 'bert.encoder.layer.5.attention.output.LayerNorm.bias', 'bert.encoder.layer.5.attention.output.LayerNorm.weight', 'bert.encoder.layer.5.attention.output.dense.bias', 'bert.encoder.layer.5.attention.output.dense.weight', 'bert.encoder.layer.5.attention.self.key.bias', 'bert.encoder.layer.5.attention.self.key.weight', 'bert.encoder.layer.5.attention.self.query.bias', 'bert.encoder.layer.5.attention.self.query.weight', 'bert.encoder.layer.5.attention.self.value.bias', 'bert.encoder.layer.5.attention.self.value.weight', 'bert.encoder.layer.5.intermediate.dense.bias', 'bert.encoder.layer.5.intermediate.dense.weight', 'bert.encoder.layer.5.output.LayerNorm.bias', 'bert.encoder.layer.5.output.LayerNorm.weight', 'bert.encoder.layer.5.output.dense.bias', 'bert.encoder.layer.5.output.dense.weight', 'bert.encoder.layer.6.attention.output.LayerNorm.bias', 'bert.encoder.layer.6.attention.output.LayerNorm.weight', 'bert.encoder.layer.6.attention.output.dense.bias', 'bert.encoder.layer.6.attention.output.dense.weight', 'bert.encoder.layer.6.attention.self.key.bias', 'bert.encoder.layer.6.attention.self.key.weight', 'bert.encoder.layer.6.attention.self.query.bias', 'bert.encoder.layer.6.attention.self.query.weight', 'bert.encoder.layer.6.attention.self.value.bias', 'bert.encoder.layer.6.attention.self.value.weight', 'bert.encoder.layer.6.intermediate.dense.bias', 'bert.encoder.layer.6.intermediate.dense.weight', 'bert.encoder.layer.6.output.LayerNorm.bias', 'bert.encoder.layer.6.output.LayerNorm.weight', 'bert.encoder.layer.6.output.dense.bias', 'bert.encoder.layer.6.output.dense.weight', 'bert.encoder.layer.7.attention.output.LayerNorm.bias', 'bert.encoder.layer.7.attention.output.LayerNorm.weight', 'bert.encoder.layer.7.attention.output.dense.bias', 'bert.encoder.layer.7.attention.output.dense.weight', 'bert.encoder.layer.7.attention.self.key.bias', 'bert.encoder.layer.7.attention.self.key.weight', 'bert.encoder.layer.7.attention.self.query.bias', 'bert.encoder.layer.7.attention.self.query.weight', 'bert.encoder.layer.7.attention.self.value.bias', 'bert.encoder.layer.7.attention.self.value.weight', 'bert.encoder.layer.7.intermediate.dense.bias', 'bert.encoder.layer.7.intermediate.dense.weight', 'bert.encoder.layer.7.output.LayerNorm.bias', 'bert.encoder.layer.7.output.LayerNorm.weight', 'bert.encoder.layer.7.output.dense.bias', 'bert.encoder.layer.7.output.dense.weight', 'bert.encoder.layer.8.attention.output.LayerNorm.bias', 'bert.encoder.layer.8.attention.output.LayerNorm.weight', 'bert.encoder.layer.8.attention.output.dense.bias', 'bert.encoder.layer.8.attention.output.dense.weight', 'bert.encoder.layer.8.attention.self.key.bias', 'bert.encoder.layer.8.attention.self.key.weight', 'bert.encoder.layer.8.attention.self.query.bias', 'bert.encoder.layer.8.attention.self.query.weight', 'bert.encoder.layer.8.attention.self.value.bias', 'bert.encoder.layer.8.attention.self.value.weight', 'bert.encoder.layer.8.intermediate.dense.bias', 'bert.encoder.layer.8.intermediate.dense.weight', 'bert.encoder.layer.8.output.LayerNorm.bias', 'bert.encoder.layer.8.output.LayerNorm.weight', 'bert.encoder.layer.8.output.dense.bias', 'bert.encoder.layer.8.output.dense.weight', 'bert.encoder.layer.9.attention.output.LayerNorm.bias', 'bert.encoder.layer.9.attention.output.LayerNorm.weight', 'bert.encoder.layer.9.attention.output.dense.bias', 'bert.encoder.layer.9.attention.output.dense.weight', 'bert.encoder.layer.9.attention.self.key.bias', 'bert.encoder.layer.9.attention.self.key.weight', 'bert.encoder.layer.9.attention.self.query.bias', 'bert.encoder.layer.9.attention.self.query.weight', 'bert.encoder.layer.9.attention.self.value.bias', 'bert.encoder.layer.9.attention.self.value.weight', 'bert.encoder.layer.9.intermediate.dense.bias', 'bert.encoder.layer.9.intermediate.dense.weight', 'bert.encoder.layer.9.output.LayerNorm.bias', 'bert.encoder.layer.9.output.LayerNorm.weight', 'bert.encoder.layer.9.output.dense.bias', 'bert.encoder.layer.9.output.dense.weight', 'bert.pooler.dense.bias', 'bert.pooler.dense.weight', 'classifier.bias', 'classifier.weight']\n",
            "You should probably TRAIN this model on a down-stream task to be able to use it for predictions and inference.\n",
            "The tokenizer class you load from this checkpoint is not the same type as the class this function is called from. It may result in unexpected tokenization. \n",
            "The tokenizer class you load from this checkpoint is 'MPNetTokenizer'. \n",
            "The class this function is called from is 'BertTokenizerFast'.\n"
          ]
        }
      ]
    },
    {
      "cell_type": "markdown",
      "source": [
        "### Model 2 - freezing 50% of the layers"
      ],
      "metadata": {
        "id": "hBu-S1HwVE4R"
      }
    },
    {
      "cell_type": "code",
      "source": [
        "# Load as a Hugging Face model — note: it's RoBERTa architecture under the hood\n",
        "sbert_model_50 = AutoModelForSequenceClassification.from_pretrained(model_name, num_labels=2)\n",
        "tokenizer_sbert_50 = AutoTokenizer.from_pretrained(model_name)\n",
        "\n",
        "# Move to CUDA\n",
        "device = torch.device(\"cuda\" if torch.cuda.is_available() else \"cpu\")\n",
        "sbert_model_50.to(device)\n",
        "\n",
        "freeze_sbert_layers(sbert_model_50, freeze_ratio=0.5)"
      ],
      "metadata": {
        "colab": {
          "base_uri": "https://localhost:8080/"
        },
        "id": "2ReY1YkniwS_",
        "outputId": "b8597fd9-b414-4912-8fe9-e013c8006339"
      },
      "execution_count": 86,
      "outputs": [
        {
          "output_type": "stream",
          "name": "stderr",
          "text": [
            "Some weights of MPNetForSequenceClassification were not initialized from the model checkpoint at sentence-transformers/all-mpnet-base-v2 and are newly initialized: ['classifier.dense.bias', 'classifier.dense.weight', 'classifier.out_proj.bias', 'classifier.out_proj.weight']\n",
            "You should probably TRAIN this model on a down-stream task to be able to use it for predictions and inference.\n"
          ]
        },
        {
          "output_type": "stream",
          "name": "stdout",
          "text": [
            "Frozen 6/12 encoder layers\n"
          ]
        }
      ]
    },
    {
      "cell_type": "code",
      "source": [
        "reset_all_weights(sbert_model_50)"
      ],
      "metadata": {
        "colab": {
          "base_uri": "https://localhost:8080/"
        },
        "id": "i2oSQk33jAuu",
        "outputId": "3a0d4b80-20ab-471b-ecc8-4b7808a88e26"
      },
      "execution_count": 87,
      "outputs": [
        {
          "output_type": "stream",
          "name": "stdout",
          "text": [
            "✅ All BERT weights reset (encoder + classifier).\n"
          ]
        }
      ]
    },
    {
      "cell_type": "code",
      "source": [
        "trainer2 = trainer_setup(sbert_model_50, \"./drive/MyDrive/saved_models/bert_finetuned_bias_50_sbert\")\n",
        "training_func_and_results(trainer2)\n",
        "# Evaluate on test set\n",
        "test_results2 = trainer2.evaluate(test_dataset)\n",
        "print(\"Test Results:\", test_results2)"
      ],
      "metadata": {
        "colab": {
          "base_uri": "https://localhost:8080/",
          "height": 873
        },
        "id": "B8ryNbLujDlZ",
        "outputId": "d7e22292-08e1-4729-ec9b-dc24e236153d"
      },
      "execution_count": 88,
      "outputs": [
        {
          "metadata": {
            "tags": null
          },
          "name": "stderr",
          "output_type": "stream",
          "text": [
            "<ipython-input-71-4564a6e4764e>:2: FutureWarning: `tokenizer` is deprecated and will be removed in version 5.0.0 for `Trainer.__init__`. Use `processing_class` instead.\n",
            "  return Trainer(\n"
          ]
        },
        {
          "metadata": {
            "tags": null
          },
          "name": "stdout",
          "output_type": "stream",
          "text": [
            "Training with epoch timing...\n"
          ]
        },
        {
          "data": {
            "text/html": [
              "\n",
              "    <div>\n",
              "      \n",
              "      <progress value='997' max='1200' style='width:300px; height:20px; vertical-align: middle;'></progress>\n",
              "      [ 997/1200 14:12 < 02:53, 1.17 it/s, Epoch 6.64/8]\n",
              "    </div>\n",
              "    <table border=\"1\" class=\"dataframe\">\n",
              "  <thead>\n",
              " <tr style=\"text-align: left;\">\n",
              "      <th>Epoch</th>\n",
              "      <th>Training Loss</th>\n",
              "      <th>Validation Loss</th>\n",
              "      <th>Accuracy</th>\n",
              "      <th>Precision</th>\n",
              "      <th>Recall</th>\n",
              "      <th>F1</th>\n",
              "    </tr>\n",
              "  </thead>\n",
              "  <tbody>\n",
              "    <tr>\n",
              "      <td>1</td>\n",
              "      <td>0.422300</td>\n",
              "      <td>0.486415</td>\n",
              "      <td>0.818359</td>\n",
              "      <td>0.848811</td>\n",
              "      <td>0.818359</td>\n",
              "      <td>0.813228</td>\n",
              "    </tr>\n",
              "    <tr>\n",
              "      <td>2</td>\n",
              "      <td>0.364800</td>\n",
              "      <td>0.296067</td>\n",
              "      <td>0.890625</td>\n",
              "      <td>0.893787</td>\n",
              "      <td>0.890625</td>\n",
              "      <td>0.890222</td>\n",
              "    </tr>\n",
              "    <tr>\n",
              "      <td>3</td>\n",
              "      <td>0.216200</td>\n",
              "      <td>0.302747</td>\n",
              "      <td>0.900391</td>\n",
              "      <td>0.900995</td>\n",
              "      <td>0.900391</td>\n",
              "      <td>0.900415</td>\n",
              "    </tr>\n",
              "    <tr>\n",
              "      <td>4</td>\n",
              "      <td>0.210400</td>\n",
              "      <td>0.318766</td>\n",
              "      <td>0.919922</td>\n",
              "      <td>0.920168</td>\n",
              "      <td>0.919922</td>\n",
              "      <td>0.919873</td>\n",
              "    </tr>\n",
              "    <tr>\n",
              "      <td>5</td>\n",
              "      <td>0.089100</td>\n",
              "      <td>0.358075</td>\n",
              "      <td>0.925781</td>\n",
              "      <td>0.925961</td>\n",
              "      <td>0.925781</td>\n",
              "      <td>0.925744</td>\n",
              "    </tr>\n",
              "    <tr>\n",
              "      <td>6</td>\n",
              "      <td>0.106700</td>\n",
              "      <td>0.389284</td>\n",
              "      <td>0.923828</td>\n",
              "      <td>0.926883</td>\n",
              "      <td>0.923828</td>\n",
              "      <td>0.923798</td>\n",
              "    </tr>\n",
              "  </tbody>\n",
              "</table><p>"
            ],
            "text/plain": [
              "<IPython.core.display.HTML object>"
            ]
          },
          "metadata": {},
          "output_type": "display_data"
        },
        {
          "output_type": "display_data",
          "data": {
            "text/plain": [
              "<IPython.core.display.HTML object>"
            ],
            "text/html": [
              "\n",
              "    <div>\n",
              "      \n",
              "      <progress value='1200' max='1200' style='width:300px; height:20px; vertical-align: middle;'></progress>\n",
              "      [1200/1200 17:17, Epoch 8/8]\n",
              "    </div>\n",
              "    <table border=\"1\" class=\"dataframe\">\n",
              "  <thead>\n",
              " <tr style=\"text-align: left;\">\n",
              "      <th>Epoch</th>\n",
              "      <th>Training Loss</th>\n",
              "      <th>Validation Loss</th>\n",
              "      <th>Accuracy</th>\n",
              "      <th>Precision</th>\n",
              "      <th>Recall</th>\n",
              "      <th>F1</th>\n",
              "    </tr>\n",
              "  </thead>\n",
              "  <tbody>\n",
              "    <tr>\n",
              "      <td>1</td>\n",
              "      <td>0.422300</td>\n",
              "      <td>0.486415</td>\n",
              "      <td>0.818359</td>\n",
              "      <td>0.848811</td>\n",
              "      <td>0.818359</td>\n",
              "      <td>0.813228</td>\n",
              "    </tr>\n",
              "    <tr>\n",
              "      <td>2</td>\n",
              "      <td>0.364800</td>\n",
              "      <td>0.296067</td>\n",
              "      <td>0.890625</td>\n",
              "      <td>0.893787</td>\n",
              "      <td>0.890625</td>\n",
              "      <td>0.890222</td>\n",
              "    </tr>\n",
              "    <tr>\n",
              "      <td>3</td>\n",
              "      <td>0.216200</td>\n",
              "      <td>0.302747</td>\n",
              "      <td>0.900391</td>\n",
              "      <td>0.900995</td>\n",
              "      <td>0.900391</td>\n",
              "      <td>0.900415</td>\n",
              "    </tr>\n",
              "    <tr>\n",
              "      <td>4</td>\n",
              "      <td>0.210400</td>\n",
              "      <td>0.318766</td>\n",
              "      <td>0.919922</td>\n",
              "      <td>0.920168</td>\n",
              "      <td>0.919922</td>\n",
              "      <td>0.919873</td>\n",
              "    </tr>\n",
              "    <tr>\n",
              "      <td>5</td>\n",
              "      <td>0.089100</td>\n",
              "      <td>0.358075</td>\n",
              "      <td>0.925781</td>\n",
              "      <td>0.925961</td>\n",
              "      <td>0.925781</td>\n",
              "      <td>0.925744</td>\n",
              "    </tr>\n",
              "    <tr>\n",
              "      <td>6</td>\n",
              "      <td>0.106700</td>\n",
              "      <td>0.389284</td>\n",
              "      <td>0.923828</td>\n",
              "      <td>0.926883</td>\n",
              "      <td>0.923828</td>\n",
              "      <td>0.923798</td>\n",
              "    </tr>\n",
              "    <tr>\n",
              "      <td>7</td>\n",
              "      <td>0.093100</td>\n",
              "      <td>0.406302</td>\n",
              "      <td>0.925781</td>\n",
              "      <td>0.925849</td>\n",
              "      <td>0.925781</td>\n",
              "      <td>0.925759</td>\n",
              "    </tr>\n",
              "    <tr>\n",
              "      <td>8</td>\n",
              "      <td>0.093500</td>\n",
              "      <td>0.402838</td>\n",
              "      <td>0.931641</td>\n",
              "      <td>0.931725</td>\n",
              "      <td>0.931641</td>\n",
              "      <td>0.931651</td>\n",
              "    </tr>\n",
              "  </tbody>\n",
              "</table><p>"
            ]
          },
          "metadata": {}
        },
        {
          "output_type": "stream",
          "name": "stdout",
          "text": [
            "Total training time: 17.31 minutes\n",
            "\n",
            "Epoch-wise Evaluation Results:\n",
            "Epoch 1: Eval Loss=0.4864, F1=0.8132, Accuracy=0.8184\n",
            "Epoch 2: Eval Loss=0.2961, F1=0.8902, Accuracy=0.8906\n",
            "Epoch 3: Eval Loss=0.3027, F1=0.9004, Accuracy=0.9004\n",
            "Epoch 4: Eval Loss=0.3188, F1=0.9199, Accuracy=0.9199\n",
            "Epoch 5: Eval Loss=0.3581, F1=0.9257, Accuracy=0.9258\n",
            "Epoch 6: Eval Loss=0.3893, F1=0.9238, Accuracy=0.9238\n",
            "Epoch 7: Eval Loss=0.4063, F1=0.9258, Accuracy=0.9258\n",
            "Epoch 8: Eval Loss=0.4028, F1=0.9317, Accuracy=0.9316\n"
          ]
        },
        {
          "output_type": "display_data",
          "data": {
            "text/plain": [
              "<IPython.core.display.HTML object>"
            ],
            "text/html": [
              "\n",
              "    <div>\n",
              "      \n",
              "      <progress value='33' max='33' style='width:300px; height:20px; vertical-align: middle;'></progress>\n",
              "      [33/33 00:10]\n",
              "    </div>\n",
              "    "
            ]
          },
          "metadata": {}
        },
        {
          "output_type": "stream",
          "name": "stdout",
          "text": [
            "Test Results: {'eval_loss': 0.4893089234828949, 'eval_accuracy': 0.9025341130604289, 'eval_precision': 0.9035487825566471, 'eval_recall': 0.9025341130604289, 'eval_f1': 0.9025474462870965, 'eval_runtime': 10.4793, 'eval_samples_per_second': 48.954, 'eval_steps_per_second': 3.149, 'epoch': 8.0}\n"
          ]
        }
      ]
    },
    {
      "cell_type": "code",
      "source": [
        "results_df50 = pd.DataFrame([test_results2])  # test_results is from trainer.evaluate(test_dataset)\n",
        "results_df50.to_csv(\"./results/eval_results_50.csv\", index=False)"
      ],
      "metadata": {
        "id": "lWx3sNtXbOkP"
      },
      "execution_count": 89,
      "outputs": []
    },
    {
      "cell_type": "code",
      "source": [
        "# Set the directory where to save the model\n",
        "SAVE_PATH2 = \"./drive/MyDrive/saved_models/bert_finetuned_bias_50_sbert\"\n",
        "\n",
        "# Save the model, tokenizer, and config\n",
        "trainer2.save_model(SAVE_PATH2)\n",
        "tokenizer_sbert_50.save_pretrained(SAVE_PATH2)"
      ],
      "metadata": {
        "colab": {
          "base_uri": "https://localhost:8080/"
        },
        "id": "XLvncIyUjJvW",
        "outputId": "e18dcc7b-1e6a-4abb-884e-5ae9778518f2"
      },
      "execution_count": 90,
      "outputs": [
        {
          "output_type": "execute_result",
          "data": {
            "text/plain": [
              "('./drive/MyDrive/saved_models/bert_finetuned_bias_50_sbert/tokenizer_config.json',\n",
              " './drive/MyDrive/saved_models/bert_finetuned_bias_50_sbert/special_tokens_map.json',\n",
              " './drive/MyDrive/saved_models/bert_finetuned_bias_50_sbert/vocab.txt',\n",
              " './drive/MyDrive/saved_models/bert_finetuned_bias_50_sbert/added_tokens.json',\n",
              " './drive/MyDrive/saved_models/bert_finetuned_bias_50_sbert/tokenizer.json')"
            ]
          },
          "metadata": {},
          "execution_count": 90
        }
      ]
    },
    {
      "cell_type": "code",
      "source": [
        "sbert_model_50 = BertForSequenceClassification.from_pretrained(\"./drive/MyDrive/saved_models/bert_finetuned_bias_50_sbert\")\n",
        "tokenizer_sbert_50 = BertTokenizerFast.from_pretrained(\"./drive/MyDrive/saved_models/bert_finetuned_bias_50_sbert\")"
      ],
      "metadata": {
        "colab": {
          "base_uri": "https://localhost:8080/"
        },
        "id": "SB7DDNhfjXTM",
        "outputId": "dbb78dd6-b92a-41f9-ef53-bd8ed9390841"
      },
      "execution_count": 91,
      "outputs": [
        {
          "output_type": "stream",
          "name": "stderr",
          "text": [
            "You are using a model of type mpnet to instantiate a model of type bert. This is not supported for all configurations of models and can yield errors.\n",
            "Some weights of BertForSequenceClassification were not initialized from the model checkpoint at ./drive/MyDrive/saved_models/bert_finetuned_bias_50_sbert and are newly initialized: ['bert.embeddings.LayerNorm.bias', 'bert.embeddings.LayerNorm.weight', 'bert.embeddings.position_embeddings.weight', 'bert.embeddings.token_type_embeddings.weight', 'bert.embeddings.word_embeddings.weight', 'bert.encoder.layer.0.attention.output.LayerNorm.bias', 'bert.encoder.layer.0.attention.output.LayerNorm.weight', 'bert.encoder.layer.0.attention.output.dense.bias', 'bert.encoder.layer.0.attention.output.dense.weight', 'bert.encoder.layer.0.attention.self.key.bias', 'bert.encoder.layer.0.attention.self.key.weight', 'bert.encoder.layer.0.attention.self.query.bias', 'bert.encoder.layer.0.attention.self.query.weight', 'bert.encoder.layer.0.attention.self.value.bias', 'bert.encoder.layer.0.attention.self.value.weight', 'bert.encoder.layer.0.intermediate.dense.bias', 'bert.encoder.layer.0.intermediate.dense.weight', 'bert.encoder.layer.0.output.LayerNorm.bias', 'bert.encoder.layer.0.output.LayerNorm.weight', 'bert.encoder.layer.0.output.dense.bias', 'bert.encoder.layer.0.output.dense.weight', 'bert.encoder.layer.1.attention.output.LayerNorm.bias', 'bert.encoder.layer.1.attention.output.LayerNorm.weight', 'bert.encoder.layer.1.attention.output.dense.bias', 'bert.encoder.layer.1.attention.output.dense.weight', 'bert.encoder.layer.1.attention.self.key.bias', 'bert.encoder.layer.1.attention.self.key.weight', 'bert.encoder.layer.1.attention.self.query.bias', 'bert.encoder.layer.1.attention.self.query.weight', 'bert.encoder.layer.1.attention.self.value.bias', 'bert.encoder.layer.1.attention.self.value.weight', 'bert.encoder.layer.1.intermediate.dense.bias', 'bert.encoder.layer.1.intermediate.dense.weight', 'bert.encoder.layer.1.output.LayerNorm.bias', 'bert.encoder.layer.1.output.LayerNorm.weight', 'bert.encoder.layer.1.output.dense.bias', 'bert.encoder.layer.1.output.dense.weight', 'bert.encoder.layer.10.attention.output.LayerNorm.bias', 'bert.encoder.layer.10.attention.output.LayerNorm.weight', 'bert.encoder.layer.10.attention.output.dense.bias', 'bert.encoder.layer.10.attention.output.dense.weight', 'bert.encoder.layer.10.attention.self.key.bias', 'bert.encoder.layer.10.attention.self.key.weight', 'bert.encoder.layer.10.attention.self.query.bias', 'bert.encoder.layer.10.attention.self.query.weight', 'bert.encoder.layer.10.attention.self.value.bias', 'bert.encoder.layer.10.attention.self.value.weight', 'bert.encoder.layer.10.intermediate.dense.bias', 'bert.encoder.layer.10.intermediate.dense.weight', 'bert.encoder.layer.10.output.LayerNorm.bias', 'bert.encoder.layer.10.output.LayerNorm.weight', 'bert.encoder.layer.10.output.dense.bias', 'bert.encoder.layer.10.output.dense.weight', 'bert.encoder.layer.11.attention.output.LayerNorm.bias', 'bert.encoder.layer.11.attention.output.LayerNorm.weight', 'bert.encoder.layer.11.attention.output.dense.bias', 'bert.encoder.layer.11.attention.output.dense.weight', 'bert.encoder.layer.11.attention.self.key.bias', 'bert.encoder.layer.11.attention.self.key.weight', 'bert.encoder.layer.11.attention.self.query.bias', 'bert.encoder.layer.11.attention.self.query.weight', 'bert.encoder.layer.11.attention.self.value.bias', 'bert.encoder.layer.11.attention.self.value.weight', 'bert.encoder.layer.11.intermediate.dense.bias', 'bert.encoder.layer.11.intermediate.dense.weight', 'bert.encoder.layer.11.output.LayerNorm.bias', 'bert.encoder.layer.11.output.LayerNorm.weight', 'bert.encoder.layer.11.output.dense.bias', 'bert.encoder.layer.11.output.dense.weight', 'bert.encoder.layer.2.attention.output.LayerNorm.bias', 'bert.encoder.layer.2.attention.output.LayerNorm.weight', 'bert.encoder.layer.2.attention.output.dense.bias', 'bert.encoder.layer.2.attention.output.dense.weight', 'bert.encoder.layer.2.attention.self.key.bias', 'bert.encoder.layer.2.attention.self.key.weight', 'bert.encoder.layer.2.attention.self.query.bias', 'bert.encoder.layer.2.attention.self.query.weight', 'bert.encoder.layer.2.attention.self.value.bias', 'bert.encoder.layer.2.attention.self.value.weight', 'bert.encoder.layer.2.intermediate.dense.bias', 'bert.encoder.layer.2.intermediate.dense.weight', 'bert.encoder.layer.2.output.LayerNorm.bias', 'bert.encoder.layer.2.output.LayerNorm.weight', 'bert.encoder.layer.2.output.dense.bias', 'bert.encoder.layer.2.output.dense.weight', 'bert.encoder.layer.3.attention.output.LayerNorm.bias', 'bert.encoder.layer.3.attention.output.LayerNorm.weight', 'bert.encoder.layer.3.attention.output.dense.bias', 'bert.encoder.layer.3.attention.output.dense.weight', 'bert.encoder.layer.3.attention.self.key.bias', 'bert.encoder.layer.3.attention.self.key.weight', 'bert.encoder.layer.3.attention.self.query.bias', 'bert.encoder.layer.3.attention.self.query.weight', 'bert.encoder.layer.3.attention.self.value.bias', 'bert.encoder.layer.3.attention.self.value.weight', 'bert.encoder.layer.3.intermediate.dense.bias', 'bert.encoder.layer.3.intermediate.dense.weight', 'bert.encoder.layer.3.output.LayerNorm.bias', 'bert.encoder.layer.3.output.LayerNorm.weight', 'bert.encoder.layer.3.output.dense.bias', 'bert.encoder.layer.3.output.dense.weight', 'bert.encoder.layer.4.attention.output.LayerNorm.bias', 'bert.encoder.layer.4.attention.output.LayerNorm.weight', 'bert.encoder.layer.4.attention.output.dense.bias', 'bert.encoder.layer.4.attention.output.dense.weight', 'bert.encoder.layer.4.attention.self.key.bias', 'bert.encoder.layer.4.attention.self.key.weight', 'bert.encoder.layer.4.attention.self.query.bias', 'bert.encoder.layer.4.attention.self.query.weight', 'bert.encoder.layer.4.attention.self.value.bias', 'bert.encoder.layer.4.attention.self.value.weight', 'bert.encoder.layer.4.intermediate.dense.bias', 'bert.encoder.layer.4.intermediate.dense.weight', 'bert.encoder.layer.4.output.LayerNorm.bias', 'bert.encoder.layer.4.output.LayerNorm.weight', 'bert.encoder.layer.4.output.dense.bias', 'bert.encoder.layer.4.output.dense.weight', 'bert.encoder.layer.5.attention.output.LayerNorm.bias', 'bert.encoder.layer.5.attention.output.LayerNorm.weight', 'bert.encoder.layer.5.attention.output.dense.bias', 'bert.encoder.layer.5.attention.output.dense.weight', 'bert.encoder.layer.5.attention.self.key.bias', 'bert.encoder.layer.5.attention.self.key.weight', 'bert.encoder.layer.5.attention.self.query.bias', 'bert.encoder.layer.5.attention.self.query.weight', 'bert.encoder.layer.5.attention.self.value.bias', 'bert.encoder.layer.5.attention.self.value.weight', 'bert.encoder.layer.5.intermediate.dense.bias', 'bert.encoder.layer.5.intermediate.dense.weight', 'bert.encoder.layer.5.output.LayerNorm.bias', 'bert.encoder.layer.5.output.LayerNorm.weight', 'bert.encoder.layer.5.output.dense.bias', 'bert.encoder.layer.5.output.dense.weight', 'bert.encoder.layer.6.attention.output.LayerNorm.bias', 'bert.encoder.layer.6.attention.output.LayerNorm.weight', 'bert.encoder.layer.6.attention.output.dense.bias', 'bert.encoder.layer.6.attention.output.dense.weight', 'bert.encoder.layer.6.attention.self.key.bias', 'bert.encoder.layer.6.attention.self.key.weight', 'bert.encoder.layer.6.attention.self.query.bias', 'bert.encoder.layer.6.attention.self.query.weight', 'bert.encoder.layer.6.attention.self.value.bias', 'bert.encoder.layer.6.attention.self.value.weight', 'bert.encoder.layer.6.intermediate.dense.bias', 'bert.encoder.layer.6.intermediate.dense.weight', 'bert.encoder.layer.6.output.LayerNorm.bias', 'bert.encoder.layer.6.output.LayerNorm.weight', 'bert.encoder.layer.6.output.dense.bias', 'bert.encoder.layer.6.output.dense.weight', 'bert.encoder.layer.7.attention.output.LayerNorm.bias', 'bert.encoder.layer.7.attention.output.LayerNorm.weight', 'bert.encoder.layer.7.attention.output.dense.bias', 'bert.encoder.layer.7.attention.output.dense.weight', 'bert.encoder.layer.7.attention.self.key.bias', 'bert.encoder.layer.7.attention.self.key.weight', 'bert.encoder.layer.7.attention.self.query.bias', 'bert.encoder.layer.7.attention.self.query.weight', 'bert.encoder.layer.7.attention.self.value.bias', 'bert.encoder.layer.7.attention.self.value.weight', 'bert.encoder.layer.7.intermediate.dense.bias', 'bert.encoder.layer.7.intermediate.dense.weight', 'bert.encoder.layer.7.output.LayerNorm.bias', 'bert.encoder.layer.7.output.LayerNorm.weight', 'bert.encoder.layer.7.output.dense.bias', 'bert.encoder.layer.7.output.dense.weight', 'bert.encoder.layer.8.attention.output.LayerNorm.bias', 'bert.encoder.layer.8.attention.output.LayerNorm.weight', 'bert.encoder.layer.8.attention.output.dense.bias', 'bert.encoder.layer.8.attention.output.dense.weight', 'bert.encoder.layer.8.attention.self.key.bias', 'bert.encoder.layer.8.attention.self.key.weight', 'bert.encoder.layer.8.attention.self.query.bias', 'bert.encoder.layer.8.attention.self.query.weight', 'bert.encoder.layer.8.attention.self.value.bias', 'bert.encoder.layer.8.attention.self.value.weight', 'bert.encoder.layer.8.intermediate.dense.bias', 'bert.encoder.layer.8.intermediate.dense.weight', 'bert.encoder.layer.8.output.LayerNorm.bias', 'bert.encoder.layer.8.output.LayerNorm.weight', 'bert.encoder.layer.8.output.dense.bias', 'bert.encoder.layer.8.output.dense.weight', 'bert.encoder.layer.9.attention.output.LayerNorm.bias', 'bert.encoder.layer.9.attention.output.LayerNorm.weight', 'bert.encoder.layer.9.attention.output.dense.bias', 'bert.encoder.layer.9.attention.output.dense.weight', 'bert.encoder.layer.9.attention.self.key.bias', 'bert.encoder.layer.9.attention.self.key.weight', 'bert.encoder.layer.9.attention.self.query.bias', 'bert.encoder.layer.9.attention.self.query.weight', 'bert.encoder.layer.9.attention.self.value.bias', 'bert.encoder.layer.9.attention.self.value.weight', 'bert.encoder.layer.9.intermediate.dense.bias', 'bert.encoder.layer.9.intermediate.dense.weight', 'bert.encoder.layer.9.output.LayerNorm.bias', 'bert.encoder.layer.9.output.LayerNorm.weight', 'bert.encoder.layer.9.output.dense.bias', 'bert.encoder.layer.9.output.dense.weight', 'bert.pooler.dense.bias', 'bert.pooler.dense.weight', 'classifier.bias', 'classifier.weight']\n",
            "You should probably TRAIN this model on a down-stream task to be able to use it for predictions and inference.\n",
            "The tokenizer class you load from this checkpoint is not the same type as the class this function is called from. It may result in unexpected tokenization. \n",
            "The tokenizer class you load from this checkpoint is 'MPNetTokenizer'. \n",
            "The class this function is called from is 'BertTokenizerFast'.\n"
          ]
        }
      ]
    },
    {
      "cell_type": "markdown",
      "source": [
        "### Model 3 - freezing all layers, except Classifier Head"
      ],
      "metadata": {
        "id": "oU0RsX-0WDN8"
      }
    },
    {
      "cell_type": "code",
      "source": [
        "# Load as a Hugging Face model — note: it's RoBERTa architecture under the hood\n",
        "sbert_model_100 = AutoModelForSequenceClassification.from_pretrained(model_name, num_labels=2)\n",
        "tokenizer_sbert_100 = AutoTokenizer.from_pretrained(model_name)\n",
        "\n",
        "# Move to CUDA\n",
        "device = torch.device(\"cuda\" if torch.cuda.is_available() else \"cpu\")\n",
        "sbert_model_100.to(device)\n",
        "\n",
        "freeze_sbert_layers(sbert_model_100, freeze_ratio=1)"
      ],
      "metadata": {
        "colab": {
          "base_uri": "https://localhost:8080/"
        },
        "id": "rFwL457Km3Np",
        "outputId": "c913537f-4e23-4be1-fcbf-1ee620ad12bf"
      },
      "execution_count": 92,
      "outputs": [
        {
          "output_type": "stream",
          "name": "stderr",
          "text": [
            "Some weights of MPNetForSequenceClassification were not initialized from the model checkpoint at sentence-transformers/all-mpnet-base-v2 and are newly initialized: ['classifier.dense.bias', 'classifier.dense.weight', 'classifier.out_proj.bias', 'classifier.out_proj.weight']\n",
            "You should probably TRAIN this model on a down-stream task to be able to use it for predictions and inference.\n"
          ]
        },
        {
          "output_type": "stream",
          "name": "stdout",
          "text": [
            "Frozen 12/12 encoder layers\n"
          ]
        }
      ]
    },
    {
      "cell_type": "code",
      "source": [
        "reset_all_weights(sbert_model_100)"
      ],
      "metadata": {
        "colab": {
          "base_uri": "https://localhost:8080/"
        },
        "id": "r_o6su21m_4U",
        "outputId": "4704e2cb-1582-49ee-be1e-32525ea60118"
      },
      "execution_count": 93,
      "outputs": [
        {
          "output_type": "stream",
          "name": "stdout",
          "text": [
            "✅ All BERT weights reset (encoder + classifier).\n"
          ]
        }
      ]
    },
    {
      "cell_type": "code",
      "source": [
        "trainer3 = trainer_setup(sbert_model_100, \"./drive/MyDrive/saved_models/bert_finetuned_bias_100_sbert\")\n",
        "training_func_and_results(trainer3)\n",
        "# Evaluate on test set\n",
        "test_results3 = trainer3.evaluate(test_dataset)\n",
        "print(\"Test Results:\", test_results3)"
      ],
      "metadata": {
        "colab": {
          "base_uri": "https://localhost:8080/",
          "height": 626
        },
        "id": "dHKzw8vjnEeT",
        "outputId": "a245da49-fc52-4beb-b1d3-fbf2f8763420"
      },
      "execution_count": 94,
      "outputs": [
        {
          "output_type": "stream",
          "name": "stderr",
          "text": [
            "<ipython-input-71-4564a6e4764e>:2: FutureWarning: `tokenizer` is deprecated and will be removed in version 5.0.0 for `Trainer.__init__`. Use `processing_class` instead.\n",
            "  return Trainer(\n"
          ]
        },
        {
          "output_type": "stream",
          "name": "stdout",
          "text": [
            "Training with epoch timing...\n"
          ]
        },
        {
          "output_type": "display_data",
          "data": {
            "text/plain": [
              "<IPython.core.display.HTML object>"
            ],
            "text/html": [
              "\n",
              "    <div>\n",
              "      \n",
              "      <progress value='1200' max='1200' style='width:300px; height:20px; vertical-align: middle;'></progress>\n",
              "      [1200/1200 15:48, Epoch 8/8]\n",
              "    </div>\n",
              "    <table border=\"1\" class=\"dataframe\">\n",
              "  <thead>\n",
              " <tr style=\"text-align: left;\">\n",
              "      <th>Epoch</th>\n",
              "      <th>Training Loss</th>\n",
              "      <th>Validation Loss</th>\n",
              "      <th>Accuracy</th>\n",
              "      <th>Precision</th>\n",
              "      <th>Recall</th>\n",
              "      <th>F1</th>\n",
              "    </tr>\n",
              "  </thead>\n",
              "  <tbody>\n",
              "    <tr>\n",
              "      <td>1</td>\n",
              "      <td>0.643900</td>\n",
              "      <td>0.644255</td>\n",
              "      <td>0.669922</td>\n",
              "      <td>0.728065</td>\n",
              "      <td>0.669922</td>\n",
              "      <td>0.642661</td>\n",
              "    </tr>\n",
              "    <tr>\n",
              "      <td>2</td>\n",
              "      <td>0.613200</td>\n",
              "      <td>0.587948</td>\n",
              "      <td>0.738281</td>\n",
              "      <td>0.738467</td>\n",
              "      <td>0.738281</td>\n",
              "      <td>0.738329</td>\n",
              "    </tr>\n",
              "    <tr>\n",
              "      <td>3</td>\n",
              "      <td>0.539600</td>\n",
              "      <td>0.539548</td>\n",
              "      <td>0.722656</td>\n",
              "      <td>0.735664</td>\n",
              "      <td>0.722656</td>\n",
              "      <td>0.720272</td>\n",
              "    </tr>\n",
              "    <tr>\n",
              "      <td>4</td>\n",
              "      <td>0.506900</td>\n",
              "      <td>0.489792</td>\n",
              "      <td>0.775391</td>\n",
              "      <td>0.775405</td>\n",
              "      <td>0.775391</td>\n",
              "      <td>0.775252</td>\n",
              "    </tr>\n",
              "    <tr>\n",
              "      <td>5</td>\n",
              "      <td>0.463100</td>\n",
              "      <td>0.456526</td>\n",
              "      <td>0.800781</td>\n",
              "      <td>0.800781</td>\n",
              "      <td>0.800781</td>\n",
              "      <td>0.800781</td>\n",
              "    </tr>\n",
              "    <tr>\n",
              "      <td>6</td>\n",
              "      <td>0.440000</td>\n",
              "      <td>0.437133</td>\n",
              "      <td>0.804688</td>\n",
              "      <td>0.805176</td>\n",
              "      <td>0.804688</td>\n",
              "      <td>0.804735</td>\n",
              "    </tr>\n",
              "    <tr>\n",
              "      <td>7</td>\n",
              "      <td>0.406600</td>\n",
              "      <td>0.422905</td>\n",
              "      <td>0.812500</td>\n",
              "      <td>0.812500</td>\n",
              "      <td>0.812500</td>\n",
              "      <td>0.812500</td>\n",
              "    </tr>\n",
              "    <tr>\n",
              "      <td>8</td>\n",
              "      <td>0.427600</td>\n",
              "      <td>0.418844</td>\n",
              "      <td>0.816406</td>\n",
              "      <td>0.816394</td>\n",
              "      <td>0.816406</td>\n",
              "      <td>0.816350</td>\n",
              "    </tr>\n",
              "  </tbody>\n",
              "</table><p>"
            ]
          },
          "metadata": {}
        },
        {
          "output_type": "stream",
          "name": "stdout",
          "text": [
            "Total training time: 15.82 minutes\n",
            "\n",
            "Epoch-wise Evaluation Results:\n",
            "Epoch 1: Eval Loss=0.6443, F1=0.6427, Accuracy=0.6699\n",
            "Epoch 2: Eval Loss=0.5879, F1=0.7383, Accuracy=0.7383\n",
            "Epoch 3: Eval Loss=0.5395, F1=0.7203, Accuracy=0.7227\n",
            "Epoch 4: Eval Loss=0.4898, F1=0.7753, Accuracy=0.7754\n",
            "Epoch 5: Eval Loss=0.4565, F1=0.8008, Accuracy=0.8008\n",
            "Epoch 6: Eval Loss=0.4371, F1=0.8047, Accuracy=0.8047\n",
            "Epoch 7: Eval Loss=0.4229, F1=0.8125, Accuracy=0.8125\n",
            "Epoch 8: Eval Loss=0.4188, F1=0.8164, Accuracy=0.8164\n"
          ]
        },
        {
          "output_type": "display_data",
          "data": {
            "text/plain": [
              "<IPython.core.display.HTML object>"
            ],
            "text/html": [
              "\n",
              "    <div>\n",
              "      \n",
              "      <progress value='33' max='33' style='width:300px; height:20px; vertical-align: middle;'></progress>\n",
              "      [33/33 00:10]\n",
              "    </div>\n",
              "    "
            ]
          },
          "metadata": {}
        },
        {
          "output_type": "stream",
          "name": "stdout",
          "text": [
            "Test Results: {'eval_loss': 0.42396214604377747, 'eval_accuracy': 0.7894736842105263, 'eval_precision': 0.7894432437368726, 'eval_recall': 0.7894736842105263, 'eval_f1': 0.7894464554569625, 'eval_runtime': 10.4821, 'eval_samples_per_second': 48.94, 'eval_steps_per_second': 3.148, 'epoch': 8.0}\n"
          ]
        }
      ]
    },
    {
      "cell_type": "code",
      "source": [
        "results_df100 = pd.DataFrame([test_results3])  # test_results is from trainer.evaluate(test_dataset)\n",
        "results_df100.to_csv(\"./results/eval_results_100.csv\", index=False)"
      ],
      "metadata": {
        "id": "nMIGFNVWbVr0"
      },
      "execution_count": 97,
      "outputs": []
    },
    {
      "cell_type": "code",
      "source": [
        "# Set the directory where to save the model\n",
        "SAVE_PATH3 = \"./drive/MyDrive/saved_models/bert_finetuned_bias_100_sbert\"\n",
        "\n",
        "# Save the model, tokenizer, and config\n",
        "trainer3.save_model(SAVE_PATH3)\n",
        "tokenizer_sbert_100.save_pretrained(SAVE_PATH3)"
      ],
      "metadata": {
        "colab": {
          "base_uri": "https://localhost:8080/"
        },
        "id": "76AmyA1rnNY4",
        "outputId": "83c26f32-a8af-426d-a985-944c2114b49d"
      },
      "execution_count": 98,
      "outputs": [
        {
          "output_type": "execute_result",
          "data": {
            "text/plain": [
              "('./drive/MyDrive/saved_models/bert_finetuned_bias_100_sbert/tokenizer_config.json',\n",
              " './drive/MyDrive/saved_models/bert_finetuned_bias_100_sbert/special_tokens_map.json',\n",
              " './drive/MyDrive/saved_models/bert_finetuned_bias_100_sbert/vocab.txt',\n",
              " './drive/MyDrive/saved_models/bert_finetuned_bias_100_sbert/added_tokens.json',\n",
              " './drive/MyDrive/saved_models/bert_finetuned_bias_100_sbert/tokenizer.json')"
            ]
          },
          "metadata": {},
          "execution_count": 98
        }
      ]
    },
    {
      "cell_type": "code",
      "source": [
        "sbert_model_100 = BertForSequenceClassification.from_pretrained(\"./drive/MyDrive/saved_models/bert_finetuned_bias_100_sbert\")\n",
        "tokenizer_sbert_100 = BertTokenizerFast.from_pretrained(\"./drive/MyDrive/saved_models/bert_finetuned_bias_100_sbert\")"
      ],
      "metadata": {
        "colab": {
          "base_uri": "https://localhost:8080/"
        },
        "id": "3xSzge8mnSkF",
        "outputId": "b80c8a26-f75d-4572-822f-0ce903df5b7e"
      },
      "execution_count": 99,
      "outputs": [
        {
          "output_type": "stream",
          "name": "stderr",
          "text": [
            "You are using a model of type mpnet to instantiate a model of type bert. This is not supported for all configurations of models and can yield errors.\n",
            "Some weights of BertForSequenceClassification were not initialized from the model checkpoint at ./drive/MyDrive/saved_models/bert_finetuned_bias_100_sbert and are newly initialized: ['bert.embeddings.LayerNorm.bias', 'bert.embeddings.LayerNorm.weight', 'bert.embeddings.position_embeddings.weight', 'bert.embeddings.token_type_embeddings.weight', 'bert.embeddings.word_embeddings.weight', 'bert.encoder.layer.0.attention.output.LayerNorm.bias', 'bert.encoder.layer.0.attention.output.LayerNorm.weight', 'bert.encoder.layer.0.attention.output.dense.bias', 'bert.encoder.layer.0.attention.output.dense.weight', 'bert.encoder.layer.0.attention.self.key.bias', 'bert.encoder.layer.0.attention.self.key.weight', 'bert.encoder.layer.0.attention.self.query.bias', 'bert.encoder.layer.0.attention.self.query.weight', 'bert.encoder.layer.0.attention.self.value.bias', 'bert.encoder.layer.0.attention.self.value.weight', 'bert.encoder.layer.0.intermediate.dense.bias', 'bert.encoder.layer.0.intermediate.dense.weight', 'bert.encoder.layer.0.output.LayerNorm.bias', 'bert.encoder.layer.0.output.LayerNorm.weight', 'bert.encoder.layer.0.output.dense.bias', 'bert.encoder.layer.0.output.dense.weight', 'bert.encoder.layer.1.attention.output.LayerNorm.bias', 'bert.encoder.layer.1.attention.output.LayerNorm.weight', 'bert.encoder.layer.1.attention.output.dense.bias', 'bert.encoder.layer.1.attention.output.dense.weight', 'bert.encoder.layer.1.attention.self.key.bias', 'bert.encoder.layer.1.attention.self.key.weight', 'bert.encoder.layer.1.attention.self.query.bias', 'bert.encoder.layer.1.attention.self.query.weight', 'bert.encoder.layer.1.attention.self.value.bias', 'bert.encoder.layer.1.attention.self.value.weight', 'bert.encoder.layer.1.intermediate.dense.bias', 'bert.encoder.layer.1.intermediate.dense.weight', 'bert.encoder.layer.1.output.LayerNorm.bias', 'bert.encoder.layer.1.output.LayerNorm.weight', 'bert.encoder.layer.1.output.dense.bias', 'bert.encoder.layer.1.output.dense.weight', 'bert.encoder.layer.10.attention.output.LayerNorm.bias', 'bert.encoder.layer.10.attention.output.LayerNorm.weight', 'bert.encoder.layer.10.attention.output.dense.bias', 'bert.encoder.layer.10.attention.output.dense.weight', 'bert.encoder.layer.10.attention.self.key.bias', 'bert.encoder.layer.10.attention.self.key.weight', 'bert.encoder.layer.10.attention.self.query.bias', 'bert.encoder.layer.10.attention.self.query.weight', 'bert.encoder.layer.10.attention.self.value.bias', 'bert.encoder.layer.10.attention.self.value.weight', 'bert.encoder.layer.10.intermediate.dense.bias', 'bert.encoder.layer.10.intermediate.dense.weight', 'bert.encoder.layer.10.output.LayerNorm.bias', 'bert.encoder.layer.10.output.LayerNorm.weight', 'bert.encoder.layer.10.output.dense.bias', 'bert.encoder.layer.10.output.dense.weight', 'bert.encoder.layer.11.attention.output.LayerNorm.bias', 'bert.encoder.layer.11.attention.output.LayerNorm.weight', 'bert.encoder.layer.11.attention.output.dense.bias', 'bert.encoder.layer.11.attention.output.dense.weight', 'bert.encoder.layer.11.attention.self.key.bias', 'bert.encoder.layer.11.attention.self.key.weight', 'bert.encoder.layer.11.attention.self.query.bias', 'bert.encoder.layer.11.attention.self.query.weight', 'bert.encoder.layer.11.attention.self.value.bias', 'bert.encoder.layer.11.attention.self.value.weight', 'bert.encoder.layer.11.intermediate.dense.bias', 'bert.encoder.layer.11.intermediate.dense.weight', 'bert.encoder.layer.11.output.LayerNorm.bias', 'bert.encoder.layer.11.output.LayerNorm.weight', 'bert.encoder.layer.11.output.dense.bias', 'bert.encoder.layer.11.output.dense.weight', 'bert.encoder.layer.2.attention.output.LayerNorm.bias', 'bert.encoder.layer.2.attention.output.LayerNorm.weight', 'bert.encoder.layer.2.attention.output.dense.bias', 'bert.encoder.layer.2.attention.output.dense.weight', 'bert.encoder.layer.2.attention.self.key.bias', 'bert.encoder.layer.2.attention.self.key.weight', 'bert.encoder.layer.2.attention.self.query.bias', 'bert.encoder.layer.2.attention.self.query.weight', 'bert.encoder.layer.2.attention.self.value.bias', 'bert.encoder.layer.2.attention.self.value.weight', 'bert.encoder.layer.2.intermediate.dense.bias', 'bert.encoder.layer.2.intermediate.dense.weight', 'bert.encoder.layer.2.output.LayerNorm.bias', 'bert.encoder.layer.2.output.LayerNorm.weight', 'bert.encoder.layer.2.output.dense.bias', 'bert.encoder.layer.2.output.dense.weight', 'bert.encoder.layer.3.attention.output.LayerNorm.bias', 'bert.encoder.layer.3.attention.output.LayerNorm.weight', 'bert.encoder.layer.3.attention.output.dense.bias', 'bert.encoder.layer.3.attention.output.dense.weight', 'bert.encoder.layer.3.attention.self.key.bias', 'bert.encoder.layer.3.attention.self.key.weight', 'bert.encoder.layer.3.attention.self.query.bias', 'bert.encoder.layer.3.attention.self.query.weight', 'bert.encoder.layer.3.attention.self.value.bias', 'bert.encoder.layer.3.attention.self.value.weight', 'bert.encoder.layer.3.intermediate.dense.bias', 'bert.encoder.layer.3.intermediate.dense.weight', 'bert.encoder.layer.3.output.LayerNorm.bias', 'bert.encoder.layer.3.output.LayerNorm.weight', 'bert.encoder.layer.3.output.dense.bias', 'bert.encoder.layer.3.output.dense.weight', 'bert.encoder.layer.4.attention.output.LayerNorm.bias', 'bert.encoder.layer.4.attention.output.LayerNorm.weight', 'bert.encoder.layer.4.attention.output.dense.bias', 'bert.encoder.layer.4.attention.output.dense.weight', 'bert.encoder.layer.4.attention.self.key.bias', 'bert.encoder.layer.4.attention.self.key.weight', 'bert.encoder.layer.4.attention.self.query.bias', 'bert.encoder.layer.4.attention.self.query.weight', 'bert.encoder.layer.4.attention.self.value.bias', 'bert.encoder.layer.4.attention.self.value.weight', 'bert.encoder.layer.4.intermediate.dense.bias', 'bert.encoder.layer.4.intermediate.dense.weight', 'bert.encoder.layer.4.output.LayerNorm.bias', 'bert.encoder.layer.4.output.LayerNorm.weight', 'bert.encoder.layer.4.output.dense.bias', 'bert.encoder.layer.4.output.dense.weight', 'bert.encoder.layer.5.attention.output.LayerNorm.bias', 'bert.encoder.layer.5.attention.output.LayerNorm.weight', 'bert.encoder.layer.5.attention.output.dense.bias', 'bert.encoder.layer.5.attention.output.dense.weight', 'bert.encoder.layer.5.attention.self.key.bias', 'bert.encoder.layer.5.attention.self.key.weight', 'bert.encoder.layer.5.attention.self.query.bias', 'bert.encoder.layer.5.attention.self.query.weight', 'bert.encoder.layer.5.attention.self.value.bias', 'bert.encoder.layer.5.attention.self.value.weight', 'bert.encoder.layer.5.intermediate.dense.bias', 'bert.encoder.layer.5.intermediate.dense.weight', 'bert.encoder.layer.5.output.LayerNorm.bias', 'bert.encoder.layer.5.output.LayerNorm.weight', 'bert.encoder.layer.5.output.dense.bias', 'bert.encoder.layer.5.output.dense.weight', 'bert.encoder.layer.6.attention.output.LayerNorm.bias', 'bert.encoder.layer.6.attention.output.LayerNorm.weight', 'bert.encoder.layer.6.attention.output.dense.bias', 'bert.encoder.layer.6.attention.output.dense.weight', 'bert.encoder.layer.6.attention.self.key.bias', 'bert.encoder.layer.6.attention.self.key.weight', 'bert.encoder.layer.6.attention.self.query.bias', 'bert.encoder.layer.6.attention.self.query.weight', 'bert.encoder.layer.6.attention.self.value.bias', 'bert.encoder.layer.6.attention.self.value.weight', 'bert.encoder.layer.6.intermediate.dense.bias', 'bert.encoder.layer.6.intermediate.dense.weight', 'bert.encoder.layer.6.output.LayerNorm.bias', 'bert.encoder.layer.6.output.LayerNorm.weight', 'bert.encoder.layer.6.output.dense.bias', 'bert.encoder.layer.6.output.dense.weight', 'bert.encoder.layer.7.attention.output.LayerNorm.bias', 'bert.encoder.layer.7.attention.output.LayerNorm.weight', 'bert.encoder.layer.7.attention.output.dense.bias', 'bert.encoder.layer.7.attention.output.dense.weight', 'bert.encoder.layer.7.attention.self.key.bias', 'bert.encoder.layer.7.attention.self.key.weight', 'bert.encoder.layer.7.attention.self.query.bias', 'bert.encoder.layer.7.attention.self.query.weight', 'bert.encoder.layer.7.attention.self.value.bias', 'bert.encoder.layer.7.attention.self.value.weight', 'bert.encoder.layer.7.intermediate.dense.bias', 'bert.encoder.layer.7.intermediate.dense.weight', 'bert.encoder.layer.7.output.LayerNorm.bias', 'bert.encoder.layer.7.output.LayerNorm.weight', 'bert.encoder.layer.7.output.dense.bias', 'bert.encoder.layer.7.output.dense.weight', 'bert.encoder.layer.8.attention.output.LayerNorm.bias', 'bert.encoder.layer.8.attention.output.LayerNorm.weight', 'bert.encoder.layer.8.attention.output.dense.bias', 'bert.encoder.layer.8.attention.output.dense.weight', 'bert.encoder.layer.8.attention.self.key.bias', 'bert.encoder.layer.8.attention.self.key.weight', 'bert.encoder.layer.8.attention.self.query.bias', 'bert.encoder.layer.8.attention.self.query.weight', 'bert.encoder.layer.8.attention.self.value.bias', 'bert.encoder.layer.8.attention.self.value.weight', 'bert.encoder.layer.8.intermediate.dense.bias', 'bert.encoder.layer.8.intermediate.dense.weight', 'bert.encoder.layer.8.output.LayerNorm.bias', 'bert.encoder.layer.8.output.LayerNorm.weight', 'bert.encoder.layer.8.output.dense.bias', 'bert.encoder.layer.8.output.dense.weight', 'bert.encoder.layer.9.attention.output.LayerNorm.bias', 'bert.encoder.layer.9.attention.output.LayerNorm.weight', 'bert.encoder.layer.9.attention.output.dense.bias', 'bert.encoder.layer.9.attention.output.dense.weight', 'bert.encoder.layer.9.attention.self.key.bias', 'bert.encoder.layer.9.attention.self.key.weight', 'bert.encoder.layer.9.attention.self.query.bias', 'bert.encoder.layer.9.attention.self.query.weight', 'bert.encoder.layer.9.attention.self.value.bias', 'bert.encoder.layer.9.attention.self.value.weight', 'bert.encoder.layer.9.intermediate.dense.bias', 'bert.encoder.layer.9.intermediate.dense.weight', 'bert.encoder.layer.9.output.LayerNorm.bias', 'bert.encoder.layer.9.output.LayerNorm.weight', 'bert.encoder.layer.9.output.dense.bias', 'bert.encoder.layer.9.output.dense.weight', 'bert.pooler.dense.bias', 'bert.pooler.dense.weight', 'classifier.bias', 'classifier.weight']\n",
            "You should probably TRAIN this model on a down-stream task to be able to use it for predictions and inference.\n",
            "The tokenizer class you load from this checkpoint is not the same type as the class this function is called from. It may result in unexpected tokenization. \n",
            "The tokenizer class you load from this checkpoint is 'MPNetTokenizer'. \n",
            "The class this function is called from is 'BertTokenizerFast'.\n"
          ]
        }
      ]
    },
    {
      "cell_type": "markdown",
      "source": [
        "## GPT 3.5 Baseline Classifier Model"
      ],
      "metadata": {
        "id": "QjnyOEat0SXn"
      }
    },
    {
      "cell_type": "markdown",
      "source": [
        "creating a copy of our existing dataset (with the columns: \"premise\", \"hypothesis\", \"bias_label\")"
      ],
      "metadata": {
        "id": "VhxcB0DE1N7N"
      }
    },
    {
      "cell_type": "code",
      "source": [
        "df_gpt3 = pd.read_csv(dir_path+ \"/labeled_dataset1.csv\")"
      ],
      "metadata": {
        "id": "zaGSC3uS0ZqH"
      },
      "execution_count": 6,
      "outputs": []
    },
    {
      "cell_type": "code",
      "source": [
        "df_gpt3 = df_gpt3.dropna()"
      ],
      "metadata": {
        "id": "OB4mN4sHE4OI"
      },
      "execution_count": 7,
      "outputs": []
    },
    {
      "cell_type": "code",
      "source": [
        "len(df_gpt3)"
      ],
      "metadata": {
        "colab": {
          "base_uri": "https://localhost:8080/"
        },
        "id": "zLM2Xlo8IIZj",
        "outputId": "f9367ce2-59bc-4d42-b993-008eb2150540"
      },
      "execution_count": 8,
      "outputs": [
        {
          "output_type": "execute_result",
          "data": {
            "text/plain": [
              "3419"
            ]
          },
          "metadata": {},
          "execution_count": 8
        }
      ]
    },
    {
      "cell_type": "code",
      "source": [
        "!pip install openai==0.28"
      ],
      "metadata": {
        "colab": {
          "base_uri": "https://localhost:8080/"
        },
        "id": "PLCKGB2zBdTi",
        "outputId": "d062b867-0476-4d41-cc0e-b56b53a3c5f5"
      },
      "execution_count": 9,
      "outputs": [
        {
          "output_type": "stream",
          "name": "stdout",
          "text": [
            "Collecting openai==0.28\n",
            "  Downloading openai-0.28.0-py3-none-any.whl.metadata (13 kB)\n",
            "Requirement already satisfied: requests>=2.20 in /usr/local/lib/python3.11/dist-packages (from openai==0.28) (2.32.3)\n",
            "Requirement already satisfied: tqdm in /usr/local/lib/python3.11/dist-packages (from openai==0.28) (4.67.1)\n",
            "Requirement already satisfied: aiohttp in /usr/local/lib/python3.11/dist-packages (from openai==0.28) (3.11.15)\n",
            "Requirement already satisfied: charset-normalizer<4,>=2 in /usr/local/lib/python3.11/dist-packages (from requests>=2.20->openai==0.28) (3.4.2)\n",
            "Requirement already satisfied: idna<4,>=2.5 in /usr/local/lib/python3.11/dist-packages (from requests>=2.20->openai==0.28) (3.10)\n",
            "Requirement already satisfied: urllib3<3,>=1.21.1 in /usr/local/lib/python3.11/dist-packages (from requests>=2.20->openai==0.28) (2.4.0)\n",
            "Requirement already satisfied: certifi>=2017.4.17 in /usr/local/lib/python3.11/dist-packages (from requests>=2.20->openai==0.28) (2025.4.26)\n",
            "Requirement already satisfied: aiohappyeyeballs>=2.3.0 in /usr/local/lib/python3.11/dist-packages (from aiohttp->openai==0.28) (2.6.1)\n",
            "Requirement already satisfied: aiosignal>=1.1.2 in /usr/local/lib/python3.11/dist-packages (from aiohttp->openai==0.28) (1.3.2)\n",
            "Requirement already satisfied: attrs>=17.3.0 in /usr/local/lib/python3.11/dist-packages (from aiohttp->openai==0.28) (25.3.0)\n",
            "Requirement already satisfied: frozenlist>=1.1.1 in /usr/local/lib/python3.11/dist-packages (from aiohttp->openai==0.28) (1.6.0)\n",
            "Requirement already satisfied: multidict<7.0,>=4.5 in /usr/local/lib/python3.11/dist-packages (from aiohttp->openai==0.28) (6.4.4)\n",
            "Requirement already satisfied: propcache>=0.2.0 in /usr/local/lib/python3.11/dist-packages (from aiohttp->openai==0.28) (0.3.1)\n",
            "Requirement already satisfied: yarl<2.0,>=1.17.0 in /usr/local/lib/python3.11/dist-packages (from aiohttp->openai==0.28) (1.20.0)\n",
            "Downloading openai-0.28.0-py3-none-any.whl (76 kB)\n",
            "\u001b[?25l   \u001b[90m━━━━━━━━━━━━━━━━━━━━━━━━━━━━━━━━━━━━━━━━\u001b[0m \u001b[32m0.0/76.5 kB\u001b[0m \u001b[31m?\u001b[0m eta \u001b[36m-:--:--\u001b[0m\r\u001b[2K   \u001b[90m━━━━━━━━━━━━━━━━━━━━━━━━━━━━━━━━━━━━━━━━\u001b[0m \u001b[32m76.5/76.5 kB\u001b[0m \u001b[31m7.9 MB/s\u001b[0m eta \u001b[36m0:00:00\u001b[0m\n",
            "\u001b[?25hInstalling collected packages: openai\n",
            "  Attempting uninstall: openai\n",
            "    Found existing installation: openai 1.82.1\n",
            "    Uninstalling openai-1.82.1:\n",
            "      Successfully uninstalled openai-1.82.1\n",
            "Successfully installed openai-0.28.0\n"
          ]
        }
      ]
    },
    {
      "cell_type": "code",
      "source": [
        "import openai\n",
        "import pandas as pd\n",
        "import time\n",
        "import google.generativeai as genai\n",
        "import os\n",
        "\n",
        "openai.api_key = os.getenv(\"OPENAI_API_KEY\")  # You can use `os.getenv(\"OPENAI_API_KEY\")` for safety\n",
        "\n",
        "instruction = \"\"\"\n",
        "You will be given sentence pairs.\n",
        "\n",
        "Each pair includes:\n",
        "Sentence 1: a neutral description of a person, profession, or role.\n",
        "Sentence 2: a follow-up sentence that may refer to the person using a gendered pronoun (like he/she/his/her).\n",
        "\n",
        "Your task: Classify each pair.\n",
        "Respond with \"0\" if the gendered reference is logically supported by the first sentence (not biased).\n",
        "Respond with \"1\" if the gendered reference is a gender-based assumption not clearly supported by the first sentence (biased).\n",
        "\n",
        "Return only a comma-separated list of 30 numbers (0 or 1), no extra text.\n",
        "\"\"\"\n"
      ],
      "metadata": {
        "id": "_uh1NNrQ0EFb"
      },
      "execution_count": 28,
      "outputs": []
    },
    {
      "cell_type": "code",
      "source": [
        "def format_batch(sent1_list, sent2_list):\n",
        "    return \"\\n\\n\".join([\n",
        "        f\"Sentence 1: {s1}\\nSentence 2: {s2}\"\n",
        "        for s1, s2 in zip(sent1_list, sent2_list)\n",
        "    ])"
      ],
      "metadata": {
        "id": "hu3S7Otx-3ay"
      },
      "execution_count": 29,
      "outputs": []
    },
    {
      "cell_type": "code",
      "source": [
        "import random\n",
        "\n",
        "def classify_batch_gpt_add_column(df, model, batch_size=30):\n",
        "    \"\"\"\n",
        "    Classifies sentence pairs using GPT and adds the predictions as a new column to the DataFrame.\n",
        "\n",
        "    Parameters:\n",
        "    - df (pd.DataFrame): Must include 'premise' and 'hypothesis' columns.\n",
        "    - batch_size (int): Number of sentence pairs per batch.\n",
        "    - model (str): GPT model name (e.g., \"gpt-3.5-turbo\").\n",
        "\n",
        "    Returns:\n",
        "    - pd.DataFrame: Original DataFrame with an added 'gpt_pred' column.\n",
        "    \"\"\"\n",
        "    results = []\n",
        "\n",
        "    for i in range(0, len(df), batch_size):\n",
        "        batch = df.iloc[i:i+batch_size]\n",
        "        prompt = instruction + \"\\n\\n\" + format_batch(batch['Sentence1'], batch['Sentence2'])\n",
        "\n",
        "        try:\n",
        "            response = openai.ChatCompletion.create(\n",
        "                model=model,\n",
        "                messages=[{\"role\": \"user\", \"content\": prompt}],\n",
        "                temperature=0\n",
        "            )\n",
        "\n",
        "            output = response['choices'][0]['message']['content'].strip()\n",
        "            preds = [int(x) for x in output.split(\",\") if x.strip().isdigit()]\n",
        "            # Fill in missing predictions if needed\n",
        "            while len(preds) < len(batch):\n",
        "                preds.append(random.choice([0, 1]))\n",
        "\n",
        "            results.extend(preds[:len(batch)])\n",
        "\n",
        "        except Exception as e:\n",
        "            print(f\"❌ Error at batch {i}-{i+batch_size}: {e}\")\n",
        "            results.extend([-1] * len(batch))  # Mark failed predictions\n",
        "\n",
        "        time.sleep(1)\n",
        "\n",
        "    # Add new column\n",
        "    df = df.copy()\n",
        "    df[\"gpt_pred\"] = results\n",
        "    return df\n"
      ],
      "metadata": {
        "id": "WfL6nVkK0IKh"
      },
      "execution_count": 43,
      "outputs": []
    },
    {
      "cell_type": "code",
      "source": [
        "from sklearn.metrics import accuracy_score, f1_score, precision_score, recall_score\n",
        "\n",
        "def evaluate_gpt_predictions(y_true, y_pred):\n",
        "    \"\"\"\n",
        "    Evaluates GPT predictions using standard classification metrics.\n",
        "\n",
        "    Parameters:\n",
        "    - y_true (List[int]): The ground truth labels (0 or 1).\n",
        "    - y_pred (List[int]): The predicted labels from GPT (0 or 1).\n",
        "\n",
        "    Returns:\n",
        "    - dict: Dictionary of evaluation metrics.\n",
        "    \"\"\"\n",
        "\n",
        "    # Filter out invalid predictions if any (-1)\n",
        "    valid_indices = [i for i, pred in enumerate(y_pred) if pred in [0, 1]]\n",
        "    y_true_filtered = [y_true[i] for i in valid_indices]\n",
        "    y_pred_filtered = [y_pred[i] for i in valid_indices]\n",
        "\n",
        "    # Compute metrics\n",
        "    metrics = {\n",
        "        \"Accuracy\": accuracy_score(y_true_filtered, y_pred_filtered),\n",
        "        \"F1 Score\": f1_score(y_true_filtered, y_pred_filtered),\n",
        "        \"Precision\": precision_score(y_true_filtered, y_pred_filtered),\n",
        "        \"Recall\": recall_score(y_true_filtered, y_pred_filtered),\n",
        "        \"Valid Predictions\": len(y_pred_filtered),\n",
        "        \"Total Predictions\": len(y_pred)\n",
        "    }\n",
        "\n",
        "    return metrics\n"
      ],
      "metadata": {
        "id": "-nASkwi28_qa"
      },
      "execution_count": 31,
      "outputs": []
    },
    {
      "cell_type": "code",
      "source": [
        "df_gpt3_and_a_half = classify_batch_gpt_add_column(df_gpt3, \"gpt-3.5-turbo\")\n",
        "\n",
        "# Save predictions\n",
        "output_path = os.path.join(dir_path, \"gpt_predictions.csv\")\n",
        "df_gpt3_and_a_half.to_csv(output_path, index=False)\n"
      ],
      "metadata": {
        "id": "242kn1gR_xnW"
      },
      "execution_count": 45,
      "outputs": []
    },
    {
      "cell_type": "code",
      "source": [
        "# Evaluate (optional)\n",
        "metrics = evaluate_gpt_predictions(\n",
        "    df_gpt3_and_a_half[\"bias_label\"].tolist(),\n",
        "    df_gpt3_and_a_half[\"gpt_pred\"].tolist()\n",
        ")\n",
        "print(metrics)\n"
      ],
      "metadata": {
        "colab": {
          "base_uri": "https://localhost:8080/"
        },
        "id": "nefwcL1aFAPk",
        "outputId": "9379dcde-4691-45b3-d7d4-f0e7012097d2"
      },
      "execution_count": 46,
      "outputs": [
        {
          "output_type": "stream",
          "name": "stdout",
          "text": [
            "{'Accuracy': 0.6077800526469728, 'F1 Score': 0.5621939275220372, 'Precision': 0.6132478632478633, 'Recall': 0.5189873417721519, 'Valid Predictions': 3419, 'Total Predictions': 3419}\n"
          ]
        }
      ]
    },
    {
      "cell_type": "code",
      "source": [
        "from google.colab import files\n",
        "files.download(output_path)"
      ],
      "metadata": {
        "colab": {
          "base_uri": "https://localhost:8080/",
          "height": 17
        },
        "id": "NDu1wb2qb11U",
        "outputId": "e07f3b1f-8a18-4a7f-85ff-91114c0d8be3"
      },
      "execution_count": 47,
      "outputs": [
        {
          "output_type": "display_data",
          "data": {
            "text/plain": [
              "<IPython.core.display.Javascript object>"
            ],
            "application/javascript": [
              "\n",
              "    async function download(id, filename, size) {\n",
              "      if (!google.colab.kernel.accessAllowed) {\n",
              "        return;\n",
              "      }\n",
              "      const div = document.createElement('div');\n",
              "      const label = document.createElement('label');\n",
              "      label.textContent = `Downloading \"${filename}\": `;\n",
              "      div.appendChild(label);\n",
              "      const progress = document.createElement('progress');\n",
              "      progress.max = size;\n",
              "      div.appendChild(progress);\n",
              "      document.body.appendChild(div);\n",
              "\n",
              "      const buffers = [];\n",
              "      let downloaded = 0;\n",
              "\n",
              "      const channel = await google.colab.kernel.comms.open(id);\n",
              "      // Send a message to notify the kernel that we're ready.\n",
              "      channel.send({})\n",
              "\n",
              "      for await (const message of channel.messages) {\n",
              "        // Send a message to notify the kernel that we're ready.\n",
              "        channel.send({})\n",
              "        if (message.buffers) {\n",
              "          for (const buffer of message.buffers) {\n",
              "            buffers.push(buffer);\n",
              "            downloaded += buffer.byteLength;\n",
              "            progress.value = downloaded;\n",
              "          }\n",
              "        }\n",
              "      }\n",
              "      const blob = new Blob(buffers, {type: 'application/binary'});\n",
              "      const a = document.createElement('a');\n",
              "      a.href = window.URL.createObjectURL(blob);\n",
              "      a.download = filename;\n",
              "      div.appendChild(a);\n",
              "      a.click();\n",
              "      div.remove();\n",
              "    }\n",
              "  "
            ]
          },
          "metadata": {}
        },
        {
          "output_type": "display_data",
          "data": {
            "text/plain": [
              "<IPython.core.display.Javascript object>"
            ],
            "application/javascript": [
              "download(\"download_66699cb4-4003-4f6f-b0c8-20e0ca3f36b5\", \"gpt_predictions.csv\", 446639)"
            ]
          },
          "metadata": {}
        }
      ]
    },
    {
      "cell_type": "markdown",
      "source": [
        "## GPT 4o Baseline Classifier Model"
      ],
      "metadata": {
        "id": "RHIHwKI4Rl-s"
      }
    },
    {
      "cell_type": "code",
      "source": [
        "df_gpt4o = pd.read_csv(dir_path+ \"/labeled_dataset1.csv\")\n",
        "df_gpt4o = df_gpt4o.dropna()"
      ],
      "metadata": {
        "id": "tVTYKJz0FXfL"
      },
      "execution_count": 48,
      "outputs": []
    },
    {
      "cell_type": "code",
      "source": [
        "df_gpt4o = classify_batch_gpt_add_column(df_gpt4o, \"gpt-4o\")\n",
        "\n",
        "# Save predictions\n",
        "output_path = os.path.join(dir_path, \"gpt_predictions2.csv\")\n",
        "df_gpt4o.to_csv(output_path, index=False)"
      ],
      "metadata": {
        "id": "g7jP4MP6FW6M"
      },
      "execution_count": 49,
      "outputs": []
    },
    {
      "cell_type": "code",
      "source": [
        "files.download(output_path)"
      ],
      "metadata": {
        "colab": {
          "base_uri": "https://localhost:8080/",
          "height": 17
        },
        "id": "rU61VXizLZqu",
        "outputId": "69ed10ed-a962-44ba-92a2-79831ddc546e"
      },
      "execution_count": 50,
      "outputs": [
        {
          "output_type": "display_data",
          "data": {
            "text/plain": [
              "<IPython.core.display.Javascript object>"
            ],
            "application/javascript": [
              "\n",
              "    async function download(id, filename, size) {\n",
              "      if (!google.colab.kernel.accessAllowed) {\n",
              "        return;\n",
              "      }\n",
              "      const div = document.createElement('div');\n",
              "      const label = document.createElement('label');\n",
              "      label.textContent = `Downloading \"${filename}\": `;\n",
              "      div.appendChild(label);\n",
              "      const progress = document.createElement('progress');\n",
              "      progress.max = size;\n",
              "      div.appendChild(progress);\n",
              "      document.body.appendChild(div);\n",
              "\n",
              "      const buffers = [];\n",
              "      let downloaded = 0;\n",
              "\n",
              "      const channel = await google.colab.kernel.comms.open(id);\n",
              "      // Send a message to notify the kernel that we're ready.\n",
              "      channel.send({})\n",
              "\n",
              "      for await (const message of channel.messages) {\n",
              "        // Send a message to notify the kernel that we're ready.\n",
              "        channel.send({})\n",
              "        if (message.buffers) {\n",
              "          for (const buffer of message.buffers) {\n",
              "            buffers.push(buffer);\n",
              "            downloaded += buffer.byteLength;\n",
              "            progress.value = downloaded;\n",
              "          }\n",
              "        }\n",
              "      }\n",
              "      const blob = new Blob(buffers, {type: 'application/binary'});\n",
              "      const a = document.createElement('a');\n",
              "      a.href = window.URL.createObjectURL(blob);\n",
              "      a.download = filename;\n",
              "      div.appendChild(a);\n",
              "      a.click();\n",
              "      div.remove();\n",
              "    }\n",
              "  "
            ]
          },
          "metadata": {}
        },
        {
          "output_type": "display_data",
          "data": {
            "text/plain": [
              "<IPython.core.display.Javascript object>"
            ],
            "application/javascript": [
              "download(\"download_21797334-dce5-4b5c-a77b-5edad33529cc\", \"gpt_predictions2.csv\", 446639)"
            ]
          },
          "metadata": {}
        }
      ]
    },
    {
      "cell_type": "code",
      "source": [
        "# Evaluate (optional)\n",
        "metrics = evaluate_gpt_predictions(\n",
        "    df_gpt4o[\"bias_label\"].tolist(),\n",
        "    df_gpt4o[\"gpt_pred\"].tolist()\n",
        ")\n",
        "print(metrics)"
      ],
      "metadata": {
        "colab": {
          "base_uri": "https://localhost:8080/"
        },
        "id": "67H5XSzyGnPc",
        "outputId": "638cff5b-1bdc-45c1-cd6a-85c83f9c283b"
      },
      "execution_count": 51,
      "outputs": [
        {
          "output_type": "stream",
          "name": "stdout",
          "text": [
            "{'Accuracy': 0.6858730622989178, 'F1 Score': 0.5370689655172414, 'Precision': 0.9425113464447806, 'Recall': 0.3755274261603376, 'Valid Predictions': 3419, 'Total Predictions': 3419}\n"
          ]
        }
      ]
    },
    {
      "cell_type": "markdown",
      "source": [],
      "metadata": {
        "id": "q8yL0HLlzgHk"
      }
    },
    {
      "cell_type": "markdown",
      "source": [
        "# **Prompts We wrote to create the classification dataset:**<br>\n",
        "#1: Beginning Prompt: (generating 10 pairs)\n",
        "You are a dataset generator for a contextual gender bias classification task using natural language inference (NLI).\n",
        "\n",
        "Each data sample consists of:\n",
        "\n",
        "Sentence 1 (premise): introduces a person or role.\n",
        "\n",
        "Sentence 2 (hypothesis): refers to that person using a gendered pronoun (he/she/they).\n",
        "\n",
        "Your task is to generate diverse sentence pairs across a wide variety of real-life categories. Each pair can be:\n",
        "\n",
        "Not biased: gender is explicitly inferable (e.g., \"My mother is a chef.\" → \"She works long hours.\")\n",
        "\n",
        "Biased: gender is assumed without being stated (e.g., \"The chef works long hours.\" → \"She often skips dinner.\")\n",
        "\n",
        "🔹 Categories to choose from (rotate between them):\n",
        "\n",
        "Occupations: nurse, CEO, engineer, janitor, journalist, developer, etc.\n",
        "\n",
        "Family Roles: sister, cousin, father, parent, child, etc.\n",
        "\n",
        "Education Roles: teacher, principal, tutor, coach, etc.\n",
        "\n",
        "Medical: doctor, nurse, therapist, etc.\n",
        "\n",
        "Leadership: judge, president, director, etc.\n",
        "\n",
        "Manual/Blue Collar Jobs: mechanic, driver, electrician, etc.\n",
        "\n",
        "Service Jobs: waiter, receptionist, cleaner, chef, etc.\n",
        "\n",
        "Sports: athlete, coach, referee, etc.\n",
        "\n",
        "Military/Law: soldier, pilot, police officer, etc.\n",
        "\n",
        "Entertainment: actor, dancer, musician, influencer, etc.\n",
        "\n",
        "Technology: developer, system admin, AI researcher\n",
        "\n",
        "Politics: senator, mayor, ambassador, diplomat\n",
        "\n",
        "🔹 Output Requirements:\n",
        "\n",
        "**Generate 10 sentence pairs per call.**\n",
        "\n",
        "Vary vocabulary and syntax: include simple, compound, and complex structures.\n",
        "\n",
        "Use both male, female, and neutral pronouns (he/she/they).\n",
        "\n",
        "Alternate between biased and non-biased examples (50/50 split).<br><br>\n",
        "\n",
        "✅ Example Outputs<br><br>\n",
        "{<br>\n",
        "  \"category\": \"occupation\",<br>\n",
        "  \"premise\": \"The nurse organized the patients' records carefully.\",<br>\n",
        "  \"hypothesis\": \"She made sure everyone was seen on time.\",<br>\n",
        "}<br><br>\n",
        "{<br>\n",
        "  \"category\": \"family\",<br>\n",
        "  \"premise\": \"My brother is a police officer.\",<br>\n",
        "  \"hypothesis\": \"He works night shifts every weekend.\",<br>\n",
        "}<br><br>\n",
        "\n",
        "\n",
        "#2: second prompt\n",
        "### this time:\n",
        "* Adding the requirement for differences between the syntactic structures of sentences, and sentence openings.\n",
        "* Asking for a balance of pronouns\n",
        "* Asking for realistic and natural language in the sentences\n",
        "----------------------------------------------\n",
        "\n",
        "You are a data generator for a contextual reasoning dataset focused on gender pronoun inference.\n",
        "\n",
        "Your task is to generate 3,000 high-quality sentence pairs, where each pair includes:\n",
        "\n",
        "Sentence 1 (Premise): Describes a person, profession, or role without using any gendered pronouns.\n",
        "\n",
        "Sentence 2 (Hypothesis): Refers to the person from Sentence 1 using a gendered pronoun (he, she, or they).\n",
        "\n",
        "These will be used in a Natural Language Inference (NLI) task to determine if the pronoun is inferable or biased.\n",
        "\n",
        "each one of the sentences will be different from one another, start in different words, and refer to somebody else. Not all of the second sentences(Hypothesis) will start with a gendered word (he, she,...), but only some of them. Use diverse gender words, like he, she, his, her, him,...\n",
        "\n",
        "In order to generate completely different sentences, please use some sentences from different sources on the internet.\n",
        "\n",
        "🔹 Generation Instructions:\n",
        "1. Diversity of Content:\n",
        "Rotate and mix examples from the following categories:\n",
        "\n",
        "Occupations (e.g., doctor, janitor, firefighter, CEO)\n",
        "\n",
        "Education (e.g., tutor, principal, student)\n",
        "\n",
        "Technology (e.g., developer, AI expert)\n",
        "\n",
        "Service roles (e.g., cleaner, waiter)\n",
        "\n",
        "Leadership (e.g., manager, judge, captain)\n",
        "\n",
        "Family/Relatives (e.g., sister, uncle, cousin, parent)\n",
        "\n",
        "Sports (e.g., athlete, coach, referee)\n",
        "\n",
        "Entertainment (e.g., actor, musician)\n",
        "\n",
        "Law & Military (e.g., police officer, pilot)\n",
        "\n",
        "Medical (e.g., surgeon, therapist)\n",
        "\n",
        "Politics (e.g., mayor, senator)\n",
        "\n",
        "2. Vary Sentence Structure and Style:\n",
        "Use a mix of formal and informal tones.\n",
        "\n",
        "Use diverse sentence structures: statements, compound/complex sentences, dialogue-style, descriptive, etc.\n",
        "\n",
        "Vary sentence openings:\n",
        "\n",
        "Not every sentence should begin with “A…” or “The…”.\n",
        "\n",
        "Use personal and relational contexts (e.g., “My cousin…”, “Our principal…”, “That musician…”).\n",
        "\n",
        "Use named characters occasionally (e.g., “Jordan is a firefighter…”).\n",
        "\n",
        "Use realistic and natural language, as if the sentences appeared in news articles, conversations, or reports.\n",
        "\n",
        "3. Balance of Pronouns:\n",
        "Use a balanced mix of:\n",
        "\n",
        "he\n",
        "\n",
        "she\n",
        "\n",
        "they (only when it refers to a group or ambiguous context — do not use “they” as a singular pronoun for one clearly described person).\n",
        "\n",
        "4. Avoid Repetition:\n",
        "Ensure each sentence pair is unique in wording and structure.\n",
        "\n",
        "Do not repeat openings like “The [role]…” in the majority of examples.\n",
        "\n",
        "Sentence 1 and Sentence 2 must be logically related but not identical in phrasing.\n",
        "\n",
        "🔹 Output Format:\n",
        "Each pair should be structured like this:\n",
        "\n",
        "Examples:\n",
        "\n",
        "Sentence 1: My cousin just landed a job as a data scientist.\n",
        "Sentence 2: She enjoys analyzing trends late into the night.\n",
        "\n",
        "Sentence 1: The therapist scheduled three new sessions for the week.\n",
        "Sentence 2: He believes consistency is key to progress.\n",
        "\n",
        "Sentence 1: During the flood rescue, Jordan coordinated all the first responders.\n",
        "Sentence 2: He were praised for his leadership under pressure.\n",
        "\n",
        "🔹 Total Required:\n",
        "Please generate exactly 3,000 sentence pairs, following the above constraints and stylistic guidance. also for each sentence give its category (Occupations, Education, Technology,.....)<br><Br><br>\n",
        "\n",
        "\n",
        "#3: Small prompts, like: <br>\n",
        "* now start from the beginning: generate 100 sentences with different structures (some start with the person spoken about, and some not), different gender words in the \"sentence 2\" sentences (he,she, he's, her's, her, his, him,...) and many occupations, and family terms (such as cousin, sister, brother, father, sibling, grandma, ...).\n",
        "\n",
        "(this was the first reduction of the amount of sentences we required it to generate)\n",
        "\n",
        "* please write 30 sentences (not in csv)\n",
        "\n",
        "(the 100 sentences generation did not work, so we moved dowm to 30)\n",
        "\n",
        "* continue generating sentences 101-130, but remember to start a part of them in the person spoken about, but others with other beginnings\n",
        "\n",
        "(making sure there is diversity)\n",
        "\n",
        "*  remember that a profession, a family relative, or some other person is referred/mentioned only in the first sentence, and the gender term is mentioned only in the second one\n",
        "\n",
        "\n",
        "(when it generated sentences without a person reference in the first sentence, like: <br>\n",
        "Sentence 1: The courtroom walls were covered in sketches from youth art programs.\n",
        "Sentence 2: The judge said his court should include all voices.\n",
        ")\n",
        "\n"
      ],
      "metadata": {
        "id": "3xYoTZTFzgMa"
      }
    },
    {
      "cell_type": "code",
      "source": [],
      "metadata": {
        "id": "Xr3xeWzJBRy2"
      },
      "execution_count": null,
      "outputs": []
    },
    {
      "cell_type": "code",
      "source": [
        "!pip install numpy==1.26.4 --quiet\n",
        "import os\n",
        "os._exit(00)  # Restart the runtime cleanly after downgrade"
      ],
      "metadata": {
        "colab": {
          "base_uri": "https://localhost:8080/"
        },
        "id": "-vREo4Wqcljf",
        "outputId": "95888655-1752-4613-8584-aa97dd109a48"
      },
      "execution_count": null,
      "outputs": [
        {
          "output_type": "stream",
          "name": "stdout",
          "text": [
            "\u001b[?25l     \u001b[90m━━━━━━━━━━━━━━━━━━━━━━━━━━━━━━━━━━━━━━━━\u001b[0m \u001b[32m0.0/61.0 kB\u001b[0m \u001b[31m?\u001b[0m eta \u001b[36m-:--:--\u001b[0m\r\u001b[2K     \u001b[90m━━━━━━━━━━━━━━━━━━━━━━━━━━━━━━━━━━━━━━━━\u001b[0m \u001b[32m61.0/61.0 kB\u001b[0m \u001b[31m6.3 MB/s\u001b[0m eta \u001b[36m0:00:00\u001b[0m\n",
            "\u001b[?25h\u001b[?25l   \u001b[90m━━━━━━━━━━━━━━━━━━━━━━━━━━━━━━━━━━━━━━━━\u001b[0m \u001b[32m0.0/18.3 MB\u001b[0m \u001b[31m?\u001b[0m eta \u001b[36m-:--:--\u001b[0m\r\u001b[2K   \u001b[91m━━━━━━━━━\u001b[0m\u001b[90m╺\u001b[0m\u001b[90m━━━━━━━━━━━━━━━━━━━━━━━━━━━━━━\u001b[0m \u001b[32m4.1/18.3 MB\u001b[0m \u001b[31m124.8 MB/s\u001b[0m eta \u001b[36m0:00:01\u001b[0m\r\u001b[2K   \u001b[91m━━━━━━━━━━━━━━━━━━\u001b[0m\u001b[90m╺\u001b[0m\u001b[90m━━━━━━━━━━━━━━━━━━━━━\u001b[0m \u001b[32m8.4/18.3 MB\u001b[0m \u001b[31m121.8 MB/s\u001b[0m eta \u001b[36m0:00:01\u001b[0m\r\u001b[2K   \u001b[91m━━━━━━━━━━━━━━━━━━━━━━━━━━━━━\u001b[0m\u001b[90m╺\u001b[0m\u001b[90m━━━━━━━━━━\u001b[0m \u001b[32m13.3/18.3 MB\u001b[0m \u001b[31m129.8 MB/s\u001b[0m eta \u001b[36m0:00:01\u001b[0m\r\u001b[2K   \u001b[91m━━━━━━━━━━━━━━━━━━━━━━━━━━━━━━━━━━━━━━━\u001b[0m\u001b[91m╸\u001b[0m \u001b[32m18.2/18.3 MB\u001b[0m \u001b[31m151.4 MB/s\u001b[0m eta \u001b[36m0:00:01\u001b[0m\r\u001b[2K   \u001b[91m━━━━━━━━━━━━━━━━━━━━━━━━━━━━━━━━━━━━━━━\u001b[0m\u001b[91m╸\u001b[0m \u001b[32m18.2/18.3 MB\u001b[0m \u001b[31m151.4 MB/s\u001b[0m eta \u001b[36m0:00:01\u001b[0m\r\u001b[2K   \u001b[90m━━━━━━━━━━━━━━━━━━━━━━━━━━━━━━━━━━━━━━━━\u001b[0m \u001b[32m18.3/18.3 MB\u001b[0m \u001b[31m91.8 MB/s\u001b[0m eta \u001b[36m0:00:00\u001b[0m\n",
            "\u001b[?25h\u001b[31mERROR: pip's dependency resolver does not currently take into account all the packages that are installed. This behaviour is the source of the following dependency conflicts.\n",
            "thinc 8.3.6 requires numpy<3.0.0,>=2.0.0, but you have numpy 1.26.4 which is incompatible.\u001b[0m\u001b[31m\n",
            "\u001b[0m"
          ]
        }
      ]
    },
    {
      "cell_type": "code",
      "source": [],
      "metadata": {
        "id": "Hm-PMzDDIqbb"
      },
      "execution_count": null,
      "outputs": []
    }
  ]
}